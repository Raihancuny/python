{
 "cells": [
  {
   "cell_type": "code",
   "execution_count": 1,
   "metadata": {
    "jupyter": {
     "source_hidden": true
    }
   },
   "outputs": [],
   "source": [
    "# Notebook behavior:\n",
    "from pathlib import Path\n",
    "import sys\n",
    "\n",
    "# Enable multiple outputs from one cell:\n",
    "from IPython.core.interactiveshell import InteractiveShell\n",
    "InteractiveShell.ast_node_interactivity = \"all\"\n",
    "from IPython.display import Markdown, Image\n",
    "\n",
    "def add_to_sys_path(this_path, up=False):\n",
    "    \"\"\"\n",
    "    To be used if the current project is not (yet)  packaged.\n",
    "    Prepend this_path to sys.path.\n",
    "    If up=True, path refers to parent folder (1 level up).\n",
    "    \"\"\"\n",
    "    if up:\n",
    "        newp = Path(this_path).parent\n",
    "    else:\n",
    "        newp = Path(this_path)\n",
    "    src = newp.joinpath(\"src\")\n",
    "    if src.exists():\n",
    "        newp = str(src)\n",
    "    else:\n",
    "        newp = str(newp)\n",
    "    if newp not in sys.path:\n",
    "        sys.path.insert(1, newp)\n",
    "        print('Path added to sys.path: {}'.format(newp))\n",
    "        \n",
    "\n",
    "# autoreload extension: automaticall refresh imports when code is changed:\n",
    "%load_ext autoreload\n",
    "%autoreload 2"
   ]
  },
  {
   "cell_type": "code",
   "execution_count": 2,
   "metadata": {},
   "outputs": [
    {
     "name": "stdout",
     "output_type": "stream",
     "text": [
      "Path added to sys.path: /home/cat/projects/MCCE4/MCCE_bin\n",
      "Path added to sys.path: /home/cat/projects/MCCE4/bin\n"
     ]
    }
   ],
   "source": [
    "import shutil\n",
    "\n",
    "mc4_path = shutil.which(\"mcce\")\n",
    "if mc4_path is not None and \"MCCE4\" in mc4_path:\n",
    "    MC4 = Path(mc4_path)\n",
    "    bin_dir = MC4.parent\n",
    "    mcbin_dir = bin_dir.parent.joinpath(\"MCCE_bin\")\n",
    "\n",
    "    # Add them to the system path to enable imports\n",
    "    add_to_sys_path(mcbin_dir)\n",
    "    add_to_sys_path(bin_dir)\n",
    "else:\n",
    "    print(\"Missing MCCE4 where the codebase for ms_protonation resides: export a MCCE4 clone path to your PATH.\")"
   ]
  },
  {
   "cell_type": "markdown",
   "metadata": {},
   "source": [
    "---\n",
    "# run_cms_analysis2.ipynb - Uses 'fast loading' class MSout_np\n",
    "---"
   ]
  },
  {
   "cell_type": "markdown",
   "metadata": {
    "tags": []
   },
   "source": [
    "# Tutorial notebook for processing MCCE microstate file in ms_out folder.\n",
    "\n",
    "# Required mcce run output files:\n",
    "### 1. head3.lst\n",
    "### 2. file in ms_out/, a.k.a. the 'msout file'\n",
    " * Notes:\n",
    "   - The ms_out folder is retained when the `--ms` flag is used at the command line for Step 4: `step4.py --ms`;\n",
    "   - Format of the msout file name: pHXeHYms.tx at pH point X and Eh point Y;\n",
    "   - The most typical filename encountered is \"pH7eH0ms.txt\", meaning the MCCE simulation was a pH titation run at pH7.\n",
    "---"
   ]
  },
  {
   "cell_type": "markdown",
   "metadata": {},
   "source": [
    "## Load the needed libraries and modules:"
   ]
  },
  {
   "cell_type": "code",
   "execution_count": 3,
   "metadata": {},
   "outputs": [],
   "source": [
    "import numpy as np\n",
    "# Module needed to read the microstate file:\n",
    "import mcce4.cms_analysis_wc.analysis as msa\n",
    "import mcce4.cms_analysis_wc.parameters as prm"
   ]
  },
  {
   "cell_type": "markdown",
   "metadata": {},
   "source": [
    "---\n",
    "# Inputs\n",
    "## Required user input: the path to the msout file:\n",
    " * e.g. 4lzt/ms_out/pH7eH0ms.txt\n",
    "## Optional user input: list of residues of interest\n",
    "---"
   ]
  },
  {
   "cell_type": "markdown",
   "metadata": {},
   "source": [
    "# Get the paths to the input files using a folder name and a pH point:"
   ]
  },
  {
   "cell_type": "code",
   "execution_count": 4,
   "metadata": {},
   "outputs": [
    {
     "name": "stdout",
     "output_type": "stream",
     "text": [
      "head3_path: 4lzt/head3.lst\n",
      "msout_path: 4lzt/ms_out/pH7eH0ms.txt\n",
      "output_dir: 4lzt/crgms_corr_ph7eh0\n"
     ]
    }
   ],
   "source": [
    "mcce_dir = Path(\"4lzt\")  # local folder\n",
    "msout_file = \"pH7eH0ms.txt\"\n",
    "ph = 7\n",
    "eh = 0\n",
    "\n",
    "# Ensure the output directory exists:\n",
    "outname = f\"crgms_corr_ph{ph}eh{eh}\"\n",
    "output_dir = mcce_dir.joinpath(outname)\n",
    "if not output_dir.exists():\n",
    "    output_dir.mkdir()\n",
    "    \n",
    "h3_path = mcce_dir.joinpath(\"head3.lst\")\n",
    "msout_path = mcce_dir.joinpath(\"ms_out\", msout_file)\n",
    "\n",
    "print(f\"head3_path: {str(h3_path)}\")\n",
    "print(f\"msout_path: {str(msout_path)}\")\n",
    "print(f\"output_dir: {str(output_dir)}\")"
   ]
  },
  {
   "cell_type": "markdown",
   "metadata": {},
   "source": [
    "# Residues of interest\n",
    "\n",
    "Note: Make sure to add the names of your residues of interest, such as quinone, here:"
   ]
  },
  {
   "cell_type": "markdown",
   "metadata": {},
   "source": [
    "### Which kind of residues to consider (3-letter codes)\n",
    "\n",
    "#### Code for interactive input to obtain `user_resoi`:\n",
    "Example string to give:  \n",
    "ASP, pl9 GLU, LYS ARG HIS, TYR NTR PAA, HEM\n",
    "   \n",
    "  ```\n",
    "  user_resoi = msa.split_spunct(input(\"Enter which kind of residues are of interest, e.g. ASP, HIS:\\n\"), upper=True)\n",
    "  ```"
   ]
  },
  {
   "cell_type": "code",
   "execution_count": 5,
   "metadata": {},
   "outputs": [
    {
     "name": "stdout",
     "output_type": "stream",
     "text": [
      "Sorted resoi kinds: ['ASP', 'GLU', 'HIS', 'TYR', 'NTR', 'CTR', 'HEM', 'PL9']\n"
     ]
    }
   ],
   "source": [
    "# Which kind of residues to consider (3-letter codes):\n",
    "\n",
    "user_resoi = prm.IONIZABLES  # :: ['ASP', 'GLU', 'ARG', 'HIS', 'LYS', 'CYS', 'TYR', 'NTR', 'CTR']\n",
    "user_resoi = ['ASP', 'GLU']\n",
    "user_resoi = [\"ASP\", \"HEM\", \"PL9\", \"GLU\", \"HIS\", \"TYR\", \"NTR\", \"CTR\"]\n",
    "\n",
    "residue_kinds = prm.sort_resoi_list(user_resoi)\n",
    "print(\"Sorted resoi kinds:\", residue_kinds)"
   ]
  },
  {
   "cell_type": "code",
   "execution_count": 6,
   "metadata": {},
   "outputs": [],
   "source": [
    "# Helper function to list resid from head3.lst; can be used to select 'choose_res':\n",
    "# Uncomment to display:\n",
    "\n",
    "#print(msa.list_head3_ionizables(h3_path))"
   ]
  },
  {
   "cell_type": "code",
   "execution_count": 7,
   "metadata": {},
   "outputs": [
    {
     "name": "stdout",
     "output_type": "stream",
     "text": [
      "Chosen resid for correlation (before validation): ['NTRA0001_', 'LYSA0001_', 'ARGA0005_', 'GLUA0007_', 'LYSA0013_', 'ARGA0014_', 'LYSA0033_', 'GLUA0035_', 'ARGA0045_', 'ASPA0048_', 'ASPA0052_', 'TYRA0053_']\n"
     ]
    }
   ],
   "source": [
    "# Specific residues of interest for correlation.\n",
    "# Here, the list supplied must be conformer ids as they appear in the conformers list, without \"-\" or \"+\";\n",
    "# Use helper function above if needed:\n",
    "choose_res = [\n",
    "'NTRA0001_',\n",
    "'LYSA0001_',\n",
    "'ARGA0005_',\n",
    "'GLUA0007_',\n",
    "'LYSA0013_',\n",
    "'ARGA0014_',\n",
    "'LYSA0033_',\n",
    "'GLUA0035_',\n",
    "'ARGA0045_',\n",
    "'ASPA0048_',\n",
    "'ASPA0052_',\n",
    "'TYRA0053_',\n",
    "]\n",
    "print(\"Chosen resid for correlation (before validation):\", choose_res)"
   ]
  },
  {
   "cell_type": "markdown",
   "metadata": {},
   "source": [
    "# Instantiate msa.MSout_np"
   ]
  },
  {
   "cell_type": "code",
   "execution_count": 8,
   "metadata": {},
   "outputs": [
    {
     "name": "stdout",
     "output_type": "stream",
     "text": [
      "\n",
      "Head3 lookup array 'conf_info'\n",
      "\tfields :: iconf:0, resid:1, in_kinds:2, is_ioniz:3, is_fixed:4, is_free:5, resix:6, crg:7\n",
      "\n",
      "Protonation microstates: 32,021\n",
      "\n",
      "Elapsed time - Loading msout for cms: 1.49 s (0.02 min).\n",
      "\n",
      "\n",
      "Conformers: 270\n",
      "Conformational state space: 1,200,000\n",
      "Free residues: 41\n",
      "Fixed residues: 78\n",
      "\n"
     ]
    }
   ],
   "source": [
    "mc = msa.MSout_np(h3_path, msout_path, res_kinds=residue_kinds, mc_load=\"crg\")\n",
    "\n",
    "print(mc)"
   ]
  },
  {
   "cell_type": "markdown",
   "metadata": {},
   "source": [
    "# Validate choose_res:"
   ]
  },
  {
   "cell_type": "code",
   "execution_count": 9,
   "metadata": {},
   "outputs": [
    {
     "name": "stderr",
     "output_type": "stream",
     "text": [
      "[WARNING]: mcce4.cms_analysis_wc.parameters:\n",
      "\tIgnoring 'LYSA0001_' from correl_lst: LYS not in residue_kinds.\n",
      "[WARNING]: mcce4.cms_analysis_wc.parameters:\n",
      "\tIgnoring 'ARGA0005_' from correl_lst: ARG not in residue_kinds.\n",
      "[WARNING]: mcce4.cms_analysis_wc.parameters:\n",
      "\tIgnoring 'LYSA0013_' from correl_lst: LYS not in residue_kinds.\n",
      "[WARNING]: mcce4.cms_analysis_wc.parameters:\n",
      "\tIgnoring 'ARGA0014_' from correl_lst: ARG not in residue_kinds.\n",
      "[WARNING]: mcce4.cms_analysis_wc.parameters:\n",
      "\tIgnoring 'LYSA0033_' from correl_lst: LYS not in residue_kinds.\n",
      "[WARNING]: mcce4.cms_analysis_wc.parameters:\n",
      "\tIgnoring 'ARGA0045_' from correl_lst: ARG not in residue_kinds.\n",
      "[WARNING]: mcce4.cms_analysis_wc.parameters:\n",
      "\tRemoving 'TYRA0053_' from correl_lst: not in conformer space.\n"
     ]
    },
    {
     "name": "stdout",
     "output_type": "stream",
     "text": [
      "Valid resid for correlation: ['NTRA0001_', 'GLUA0007_', 'GLUA0035_', 'ASPA0048_', 'ASPA0052_']\n"
     ]
    }
   ],
   "source": [
    "correl_resids = prm.check_res_list(choose_res, res_lst=residue_kinds, conf_info=mc.conf_info)\n",
    "print(\"Valid resid for correlation:\", correl_resids)"
   ]
  },
  {
   "cell_type": "markdown",
   "metadata": {},
   "source": [
    "# fixed res info:"
   ]
  },
  {
   "cell_type": "code",
   "execution_count": 10,
   "metadata": {},
   "outputs": [],
   "source": [
    "all_fixed_res_crg_df = mc.get_fixed_residues_df()"
   ]
  },
  {
   "cell_type": "markdown",
   "metadata": {},
   "source": [
    "# free res average crg"
   ]
  },
  {
   "cell_type": "code",
   "execution_count": 11,
   "metadata": {},
   "outputs": [
    {
     "data": {
      "text/html": [
       "<div>\n",
       "<style scoped>\n",
       "    .dataframe tbody tr th:only-of-type {\n",
       "        vertical-align: middle;\n",
       "    }\n",
       "\n",
       "    .dataframe tbody tr th {\n",
       "        vertical-align: top;\n",
       "    }\n",
       "\n",
       "    .dataframe thead th {\n",
       "        text-align: right;\n",
       "    }\n",
       "</style>\n",
       "<table border=\"1\" class=\"dataframe\">\n",
       "  <thead>\n",
       "    <tr style=\"text-align: right;\">\n",
       "      <th></th>\n",
       "      <th>Residue</th>\n",
       "      <th>crg</th>\n",
       "    </tr>\n",
       "  </thead>\n",
       "  <tbody>\n",
       "    <tr>\n",
       "      <th>0</th>\n",
       "      <td>NTRA0001_</td>\n",
       "      <td>0.0</td>\n",
       "    </tr>\n",
       "    <tr>\n",
       "      <th>1</th>\n",
       "      <td>GLUA0007_</td>\n",
       "      <td>-1.0</td>\n",
       "    </tr>\n",
       "    <tr>\n",
       "      <th>2</th>\n",
       "      <td>HISA0015_</td>\n",
       "      <td>0.0</td>\n",
       "    </tr>\n",
       "    <tr>\n",
       "      <th>3</th>\n",
       "      <td>TYRA0020_</td>\n",
       "      <td>0.0</td>\n",
       "    </tr>\n",
       "    <tr>\n",
       "      <th>4</th>\n",
       "      <td>GLUA0035_</td>\n",
       "      <td>-1.0</td>\n",
       "    </tr>\n",
       "    <tr>\n",
       "      <th>5</th>\n",
       "      <td>ASPA0048_</td>\n",
       "      <td>-1.0</td>\n",
       "    </tr>\n",
       "    <tr>\n",
       "      <th>6</th>\n",
       "      <td>ASPA0052_</td>\n",
       "      <td>-1.0</td>\n",
       "    </tr>\n",
       "    <tr>\n",
       "      <th>7</th>\n",
       "      <td>ASPA0066_</td>\n",
       "      <td>-1.0</td>\n",
       "    </tr>\n",
       "    <tr>\n",
       "      <th>8</th>\n",
       "      <td>ASPA0101_</td>\n",
       "      <td>-1.0</td>\n",
       "    </tr>\n",
       "  </tbody>\n",
       "</table>\n",
       "</div>"
      ],
      "text/plain": [
       "     Residue  crg\n",
       "0  NTRA0001_  0.0\n",
       "1  GLUA0007_ -1.0\n",
       "2  HISA0015_  0.0\n",
       "3  TYRA0020_  0.0\n",
       "4  GLUA0035_ -1.0\n",
       "5  ASPA0048_ -1.0\n",
       "6  ASPA0052_ -1.0\n",
       "7  ASPA0066_ -1.0\n",
       "8  ASPA0101_ -1.0"
      ]
     },
     "execution_count": 11,
     "metadata": {},
     "output_type": "execute_result"
    }
   ],
   "source": [
    "free_res_aver_crg_df = mc.get_free_res_aver_crg_df()\n",
    "\n",
    "free_res_aver_crg_df"
   ]
  },
  {
   "cell_type": "markdown",
   "metadata": {},
   "source": [
    "# Combine free & fixed res with crg and save to csv:\n",
    "\n",
    "## Output file: output_dir / \"all_res_crg.csv\""
   ]
  },
  {
   "cell_type": "code",
   "execution_count": 12,
   "metadata": {},
   "outputs": [
    {
     "name": "stdout",
     "output_type": "stream",
     "text": [
      "Saving all_res_crg_df to file.\n",
      " Note: For residues with 'free' status, the charge is the average charge.\n"
     ]
    }
   ],
   "source": [
    "all_res_crg_df = msa.combine_all_free_fixed_residues(free_res_aver_crg_df, all_fixed_res_crg_df)\n",
    "all_res_crg_csv = output_dir.joinpath(\"all_res_crg.csv\")\n",
    "\n",
    "print(\"Saving all_res_crg_df to file.\\n\", \"Note: For residues with 'free' status, the charge is the average charge.\")\n",
    "all_res_crg_df.to_csv(all_res_crg_csv)"
   ]
  },
  {
   "cell_type": "markdown",
   "metadata": {},
   "source": [
    "# Fixed residues of interest (resoi) info:\n",
    "\n",
    "## Output file: output_dir / \"fixed_crg_resoi.csv\""
   ]
  },
  {
   "cell_type": "code",
   "execution_count": 13,
   "metadata": {},
   "outputs": [
    {
     "name": "stdout",
     "output_type": "stream",
     "text": [
      "Fixed res in residues of interest: 6\n"
     ]
    }
   ],
   "source": [
    "fixed_resoi_crg_df = mc.get_fixed_res_of_interest_df()\n",
    "n_fixed_resoi = fixed_resoi_crg_df.shape[0]\n",
    "if n_fixed_resoi:\n",
    "    print(f\"Fixed res in residues of interest: {n_fixed_resoi}\")\n",
    "    fixed_resoi_crg_df.to_csv(output_dir.joinpath(\"fixed_crg_resoi.csv\"), index=False)\n",
    "else:\n",
    "    fixed_resoi_crg_df = None\n",
    "    print(\"No fixed residues of interest.\")"
   ]
  },
  {
   "cell_type": "markdown",
   "metadata": {},
   "source": [
    "# Energies distribution plot:\n",
    "\n",
    "## Output file: output_dir / \"enthalpy_dist.png\""
   ]
  },
  {
   "cell_type": "code",
   "execution_count": 14,
   "metadata": {},
   "outputs": [
    {
     "name": "stdout",
     "output_type": "stream",
     "text": [
      "Microstate energy distribution figure saved: 4lzt/crgms_corr_ph7eh0/enthalpy_dist.png\n"
     ]
    },
    {
     "data": {
      "image/png": "[encoded data removed]",
      "text/plain": [
       "<Figure size 800x800 with 1 Axes>"
      ]
     },
     "metadata": {},
     "output_type": "display_data"
    }
   ],
   "source": [
    "msa.energy_distribution(mc.all_cms, output_dir, kind=\"cms\", save_name=\"enthalpy_dist.png\", show=True)"
   ]
  },
  {
   "cell_type": "markdown",
   "metadata": {},
   "source": [
    "# Get the top N cms data\n",
    "\n",
    " * Note: top_df corresponds to all_res_crg_df in the previous version of cms_analysis_wc.py."
   ]
  },
  {
   "cell_type": "markdown",
   "metadata": {},
   "source": [
    "### Define the number of top cms desired & the occ threshold:"
   ]
  },
  {
   "cell_type": "code",
   "execution_count": 15,
   "metadata": {},
   "outputs": [
    {
     "name": "stdout",
     "output_type": "stream",
     "text": [
      "Elapsed time - Populating .uniq_cms array: 0.03 s (0.00 min).\n",
      "\n",
      "Unique protonation microstates: 14\n",
      "\n",
      "Processing unique cms for requested top 5 at min_occ = 0.0%\n",
      "Number of top cms returned: 5\n"
     ]
    }
   ],
   "source": [
    "n_top = 5              # default is 5\n",
    "min_threshold = 0.0   # default is 0%\n",
    "\n",
    "# get uniq cms:\n",
    "mc.get_uniq_ms()\n",
    "top_cms, _ = mc.get_topN_data(N=n_top, min_occ=min_threshold)\n",
    "\n",
    "# second output (top_ms) is not populate bc the loading mode in \"crg\": charge ms only\n",
    "# otherwise, top_ms would hold conformer space data that can be used to create a ms-pdb"
   ]
  },
  {
   "cell_type": "markdown",
   "metadata": {},
   "source": [
    "## Create a df for the crg ms data:\n",
    "\n",
    "## Output file: output_dir / \"all_crg_count_res.csv\""
   ]
  },
  {
   "cell_type": "code",
   "execution_count": 22,
   "metadata": {},
   "outputs": [
    {
     "data": {
      "text/plain": [
       "(5, 12)"
      ]
     },
     "execution_count": 22,
     "metadata": {},
     "output_type": "execute_result"
    }
   ],
   "source": [
    "# create a df for the crg ms data:\n",
    "top_df = mc.top_cms_df(top_cms, cms_wc_format=True)\n",
    "top_df.shape\n",
    "\n",
    "crg_count_csv = output_dir.joinpath(\"all_crg_count_res.csv\")\n",
    "top_df.to_csv(crg_count_csv, header=True)"
   ]
  },
  {
   "cell_type": "code",
   "execution_count": 23,
   "metadata": {},
   "outputs": [
    {
     "name": "stdout",
     "output_type": "stream",
     "text": [
      "Sum Count: 1,192,976\n",
      "Sum Occ  : 99%\n"
     ]
    },
    {
     "data": {
      "text/html": [
       "<div>\n",
       "<style scoped>\n",
       "    .dataframe tbody tr th:only-of-type {\n",
       "        vertical-align: middle;\n",
       "    }\n",
       "\n",
       "    .dataframe tbody tr th {\n",
       "        vertical-align: top;\n",
       "    }\n",
       "\n",
       "    .dataframe thead th {\n",
       "        text-align: right;\n",
       "    }\n",
       "</style>\n",
       "<table border=\"1\" class=\"dataframe\">\n",
       "  <thead>\n",
       "    <tr style=\"text-align: right;\">\n",
       "      <th>Residue</th>\n",
       "      <th>NTRA0001_</th>\n",
       "      <th>GLUA0007_</th>\n",
       "      <th>HISA0015_</th>\n",
       "      <th>TYRA0020_</th>\n",
       "      <th>GLUA0035_</th>\n",
       "      <th>ASPA0048_</th>\n",
       "      <th>ASPA0052_</th>\n",
       "      <th>ASPA0066_</th>\n",
       "      <th>ASPA0101_</th>\n",
       "      <th>Count</th>\n",
       "      <th>Occupancy</th>\n",
       "      <th>SumCharge</th>\n",
       "    </tr>\n",
       "    <tr>\n",
       "      <th>Order</th>\n",
       "      <th></th>\n",
       "      <th></th>\n",
       "      <th></th>\n",
       "      <th></th>\n",
       "      <th></th>\n",
       "      <th></th>\n",
       "      <th></th>\n",
       "      <th></th>\n",
       "      <th></th>\n",
       "      <th></th>\n",
       "      <th></th>\n",
       "      <th></th>\n",
       "    </tr>\n",
       "  </thead>\n",
       "  <tbody>\n",
       "    <tr>\n",
       "      <th>1</th>\n",
       "      <td>0</td>\n",
       "      <td>-1</td>\n",
       "      <td>0</td>\n",
       "      <td>0</td>\n",
       "      <td>-1</td>\n",
       "      <td>-1</td>\n",
       "      <td>-1</td>\n",
       "      <td>-1</td>\n",
       "      <td>-1</td>\n",
       "      <td>638774</td>\n",
       "      <td>0.5323</td>\n",
       "      <td>4</td>\n",
       "    </tr>\n",
       "    <tr>\n",
       "      <th>2</th>\n",
       "      <td>0</td>\n",
       "      <td>-1</td>\n",
       "      <td>1</td>\n",
       "      <td>0</td>\n",
       "      <td>-1</td>\n",
       "      <td>-1</td>\n",
       "      <td>-1</td>\n",
       "      <td>-1</td>\n",
       "      <td>-1</td>\n",
       "      <td>367594</td>\n",
       "      <td>0.3063</td>\n",
       "      <td>5</td>\n",
       "    </tr>\n",
       "    <tr>\n",
       "      <th>3</th>\n",
       "      <td>1</td>\n",
       "      <td>-1</td>\n",
       "      <td>0</td>\n",
       "      <td>0</td>\n",
       "      <td>-1</td>\n",
       "      <td>-1</td>\n",
       "      <td>-1</td>\n",
       "      <td>-1</td>\n",
       "      <td>-1</td>\n",
       "      <td>119051</td>\n",
       "      <td>0.0992</td>\n",
       "      <td>5</td>\n",
       "    </tr>\n",
       "    <tr>\n",
       "      <th>4</th>\n",
       "      <td>1</td>\n",
       "      <td>-1</td>\n",
       "      <td>1</td>\n",
       "      <td>0</td>\n",
       "      <td>-1</td>\n",
       "      <td>-1</td>\n",
       "      <td>-1</td>\n",
       "      <td>-1</td>\n",
       "      <td>-1</td>\n",
       "      <td>58866</td>\n",
       "      <td>0.0491</td>\n",
       "      <td>6</td>\n",
       "    </tr>\n",
       "    <tr>\n",
       "      <th>5</th>\n",
       "      <td>0</td>\n",
       "      <td>-1</td>\n",
       "      <td>0</td>\n",
       "      <td>0</td>\n",
       "      <td>0</td>\n",
       "      <td>-1</td>\n",
       "      <td>-1</td>\n",
       "      <td>-1</td>\n",
       "      <td>-1</td>\n",
       "      <td>8691</td>\n",
       "      <td>0.0072</td>\n",
       "      <td>5</td>\n",
       "    </tr>\n",
       "  </tbody>\n",
       "</table>\n",
       "</div>"
      ],
      "text/plain": [
       "Residue  NTRA0001_  GLUA0007_  HISA0015_  TYRA0020_  GLUA0035_  ASPA0048_  \\\n",
       "Order                                                                       \n",
       "1                0         -1          0          0         -1         -1   \n",
       "2                0         -1          1          0         -1         -1   \n",
       "3                1         -1          0          0         -1         -1   \n",
       "4                1         -1          1          0         -1         -1   \n",
       "5                0         -1          0          0          0         -1   \n",
       "\n",
       "Residue  ASPA0052_  ASPA0066_  ASPA0101_   Count  Occupancy  SumCharge  \n",
       "Order                                                                   \n",
       "1               -1         -1         -1  638774     0.5323          4  \n",
       "2               -1         -1         -1  367594     0.3063          5  \n",
       "3               -1         -1         -1  119051     0.0992          5  \n",
       "4               -1         -1         -1   58866     0.0491          6  \n",
       "5               -1         -1         -1    8691     0.0072          5  "
      ]
     },
     "execution_count": 23,
     "metadata": {},
     "output_type": "execute_result"
    }
   ],
   "source": [
    "if top_df.shape[0]:\n",
    "    print(\"Sum Count: {:,.0f}\\nSum Occ  : {:.0%}\".format(*top_df[top_df.columns[-3:-1]].sum()))\n",
    "    top_df\n",
    "else:\n",
    "    print(\"NO TOP DATA: top_df is empty\")"
   ]
  },
  {
   "cell_type": "markdown",
   "metadata": {},
   "source": [
    "## Add fixed res of interest crg to top df  & save to csv\n",
    "\n",
    "## Output file: output_dir / \"all_crg_count_resoi.csv\""
   ]
  },
  {
   "cell_type": "code",
   "execution_count": 38,
   "metadata": {},
   "outputs": [
    {
     "data": {
      "text/plain": [
       "(5, 18)"
      ]
     },
     "execution_count": 38,
     "metadata": {},
     "output_type": "execute_result"
    },
    {
     "data": {
      "text/html": [
       "<div>\n",
       "<style scoped>\n",
       "    .dataframe tbody tr th:only-of-type {\n",
       "        vertical-align: middle;\n",
       "    }\n",
       "\n",
       "    .dataframe tbody tr th {\n",
       "        vertical-align: top;\n",
       "    }\n",
       "\n",
       "    .dataframe thead th {\n",
       "        text-align: right;\n",
       "    }\n",
       "</style>\n",
       "<table border=\"1\" class=\"dataframe\">\n",
       "  <thead>\n",
       "    <tr style=\"text-align: right;\">\n",
       "      <th>Residue</th>\n",
       "      <th>NTRA0001_</th>\n",
       "      <th>GLUA0007_</th>\n",
       "      <th>HISA0015_</th>\n",
       "      <th>TYRA0020_</th>\n",
       "      <th>GLUA0035_</th>\n",
       "      <th>ASPA0048_</th>\n",
       "      <th>ASPA0052_</th>\n",
       "      <th>ASPA0066_</th>\n",
       "      <th>ASPA0101_</th>\n",
       "      <th>ASPA0018_</th>\n",
       "      <th>TYRA0023_</th>\n",
       "      <th>TYRA0053_</th>\n",
       "      <th>ASPA0087_</th>\n",
       "      <th>ASPA0119_</th>\n",
       "      <th>CTRA0129_</th>\n",
       "      <th>Count</th>\n",
       "      <th>Occupancy</th>\n",
       "      <th>SumCharge</th>\n",
       "    </tr>\n",
       "    <tr>\n",
       "      <th>Order</th>\n",
       "      <th></th>\n",
       "      <th></th>\n",
       "      <th></th>\n",
       "      <th></th>\n",
       "      <th></th>\n",
       "      <th></th>\n",
       "      <th></th>\n",
       "      <th></th>\n",
       "      <th></th>\n",
       "      <th></th>\n",
       "      <th></th>\n",
       "      <th></th>\n",
       "      <th></th>\n",
       "      <th></th>\n",
       "      <th></th>\n",
       "      <th></th>\n",
       "      <th></th>\n",
       "      <th></th>\n",
       "    </tr>\n",
       "  </thead>\n",
       "  <tbody>\n",
       "    <tr>\n",
       "      <th>1</th>\n",
       "      <td>0</td>\n",
       "      <td>-1</td>\n",
       "      <td>0</td>\n",
       "      <td>0</td>\n",
       "      <td>-1</td>\n",
       "      <td>-1</td>\n",
       "      <td>-1</td>\n",
       "      <td>-1</td>\n",
       "      <td>-1</td>\n",
       "      <td>-5</td>\n",
       "      <td>0</td>\n",
       "      <td>0</td>\n",
       "      <td>-5</td>\n",
       "      <td>-5</td>\n",
       "      <td>-5</td>\n",
       "      <td>638774</td>\n",
       "      <td>0.5323</td>\n",
       "      <td>4</td>\n",
       "    </tr>\n",
       "    <tr>\n",
       "      <th>2</th>\n",
       "      <td>0</td>\n",
       "      <td>-1</td>\n",
       "      <td>1</td>\n",
       "      <td>0</td>\n",
       "      <td>-1</td>\n",
       "      <td>-1</td>\n",
       "      <td>-1</td>\n",
       "      <td>-1</td>\n",
       "      <td>-1</td>\n",
       "      <td>-5</td>\n",
       "      <td>0</td>\n",
       "      <td>0</td>\n",
       "      <td>-5</td>\n",
       "      <td>-5</td>\n",
       "      <td>-5</td>\n",
       "      <td>367594</td>\n",
       "      <td>0.3063</td>\n",
       "      <td>5</td>\n",
       "    </tr>\n",
       "    <tr>\n",
       "      <th>3</th>\n",
       "      <td>1</td>\n",
       "      <td>-1</td>\n",
       "      <td>0</td>\n",
       "      <td>0</td>\n",
       "      <td>-1</td>\n",
       "      <td>-1</td>\n",
       "      <td>-1</td>\n",
       "      <td>-1</td>\n",
       "      <td>-1</td>\n",
       "      <td>-5</td>\n",
       "      <td>0</td>\n",
       "      <td>0</td>\n",
       "      <td>-5</td>\n",
       "      <td>-5</td>\n",
       "      <td>-5</td>\n",
       "      <td>119051</td>\n",
       "      <td>0.0992</td>\n",
       "      <td>5</td>\n",
       "    </tr>\n",
       "    <tr>\n",
       "      <th>4</th>\n",
       "      <td>1</td>\n",
       "      <td>-1</td>\n",
       "      <td>1</td>\n",
       "      <td>0</td>\n",
       "      <td>-1</td>\n",
       "      <td>-1</td>\n",
       "      <td>-1</td>\n",
       "      <td>-1</td>\n",
       "      <td>-1</td>\n",
       "      <td>-5</td>\n",
       "      <td>0</td>\n",
       "      <td>0</td>\n",
       "      <td>-5</td>\n",
       "      <td>-5</td>\n",
       "      <td>-5</td>\n",
       "      <td>58866</td>\n",
       "      <td>0.0491</td>\n",
       "      <td>6</td>\n",
       "    </tr>\n",
       "    <tr>\n",
       "      <th>5</th>\n",
       "      <td>0</td>\n",
       "      <td>-1</td>\n",
       "      <td>0</td>\n",
       "      <td>0</td>\n",
       "      <td>0</td>\n",
       "      <td>-1</td>\n",
       "      <td>-1</td>\n",
       "      <td>-1</td>\n",
       "      <td>-1</td>\n",
       "      <td>-5</td>\n",
       "      <td>0</td>\n",
       "      <td>0</td>\n",
       "      <td>-5</td>\n",
       "      <td>-5</td>\n",
       "      <td>-5</td>\n",
       "      <td>8691</td>\n",
       "      <td>0.0072</td>\n",
       "      <td>5</td>\n",
       "    </tr>\n",
       "  </tbody>\n",
       "</table>\n",
       "</div>"
      ],
      "text/plain": [
       "Residue  NTRA0001_  GLUA0007_  HISA0015_  TYRA0020_  GLUA0035_  ASPA0048_  \\\n",
       "Order                                                                       \n",
       "1                0         -1          0          0         -1         -1   \n",
       "2                0         -1          1          0         -1         -1   \n",
       "3                1         -1          0          0         -1         -1   \n",
       "4                1         -1          1          0         -1         -1   \n",
       "5                0         -1          0          0          0         -1   \n",
       "\n",
       "Residue  ASPA0052_  ASPA0066_  ASPA0101_  ASPA0018_  TYRA0023_  TYRA0053_  \\\n",
       "Order                                                                       \n",
       "1               -1         -1         -1         -5          0          0   \n",
       "2               -1         -1         -1         -5          0          0   \n",
       "3               -1         -1         -1         -5          0          0   \n",
       "4               -1         -1         -1         -5          0          0   \n",
       "5               -1         -1         -1         -5          0          0   \n",
       "\n",
       "Residue  ASPA0087_  ASPA0119_  CTRA0129_   Count  Occupancy  SumCharge  \n",
       "Order                                                                   \n",
       "1               -5         -5         -5  638774     0.5323          4  \n",
       "2               -5         -5         -5  367594     0.3063          5  \n",
       "3               -5         -5         -5  119051     0.0992          5  \n",
       "4               -5         -5         -5   58866     0.0491          6  \n",
       "5               -5         -5         -5    8691     0.0072          5  "
      ]
     },
     "execution_count": 38,
     "metadata": {},
     "output_type": "execute_result"
    }
   ],
   "source": [
    "all_res_crg_df = msa.add_fixed_resoi_crg_to_topdf(top_df, fixed_resoi_crg_df, cms_wc_format=True)\n",
    "all_res_crg_df.shape\n",
    "\n",
    "crg_count_csv = output_dir.joinpath(\"all_crg_count_resoi.csv\")\n",
    "all_res_crg_df.to_csv(crg_count_csv)\n",
    "\n",
    "all_res_crg_df"
   ]
  },
  {
   "cell_type": "markdown",
   "metadata": {},
   "source": [
    "# Protonation states energy histograms"
   ]
  },
  {
   "cell_type": "markdown",
   "metadata": {},
   "source": [
    "### Without filtering: All Protonation Microstates Energy"
   ]
  },
  {
   "cell_type": "code",
   "execution_count": 39,
   "metadata": {},
   "outputs": [
    {
     "name": "stdout",
     "output_type": "stream",
     "text": [
      "Figure saved: 4lzt/crgms_corr_ph7eh0/crgms_logcount_vs_all_E.png\n"
     ]
    },
    {
     "data": {
      "image/png": "[encoded data removed]",
      "text/plain": [
       "<Figure size 600x600 with 3 Axes>"
      ]
     },
     "metadata": {},
     "output_type": "display_data"
    }
   ],
   "source": [
    "fig_title = f\"All Protonation Microstates Energy, pH{ph}\"\n",
    "\n",
    "msa.crgms_energy_histogram(mc.all_cms,\n",
    "                            mc.background_crg,\n",
    "                            fig_title,\n",
    "                            output_dir,\n",
    "                            save_name=\"crgms_logcount_vs_all_E.png\",\n",
    "                            show=True)"
   ]
  },
  {
   "cell_type": "markdown",
   "metadata": {},
   "source": [
    "### get min, aver & max E of crg ms"
   ]
  },
  {
   "cell_type": "code",
   "execution_count": 40,
   "metadata": {},
   "outputs": [],
   "source": [
    "cms_E_stats = mc.get_cms_energy_stats()"
   ]
  },
  {
   "cell_type": "markdown",
   "metadata": {},
   "source": [
    "### Protonation Microstates Energy within 1.36 kcal/mol of Lowest cms E"
   ]
  },
  {
   "cell_type": "code",
   "execution_count": null,
   "metadata": {},
   "outputs": [],
   "source": [
    "E_bounds = (cms_E_stats[0], cms_E_stats[0] + 1.36)\n",
    "filtered_cms = mc.filter_cms_E_within_bounds(mc.all_cms, E_bounds)\n",
    "\n",
    "if filtered_cms:\n",
    "    fig_title = f\"Protonation Microstates Energy within 1.36 kcal/mol of Lowest, pH{ph}\"\n",
    "    msa.crgms_energy_histogram(filtered_cms,\n",
    "                                mc.background_crg,\n",
    "                                fig_title,\n",
    "                                output_dir,\n",
    "                                save_name=\"crgms_logcount_vs_lowest_E.png\",\n",
    "                                show=True)"
   ]
  },
  {
   "cell_type": "markdown",
   "metadata": {},
   "source": [
    "### Protonation Microstates Energy within 0.5 pH unit (0.68 kcal/mol) of Average cms E"
   ]
  },
  {
   "cell_type": "code",
   "execution_count": null,
   "metadata": {},
   "outputs": [],
   "source": [
    "E_bounds = (cms_E_stats[1] - 0.68, cms_E_stats[1]  + 0.68)\n",
    "\n",
    "filtered_cms = mc.filter_cms_E_within_bounds(mc.all_cms, E_bounds)\n",
    "if filtered_cms:\n",
    "    fig_title = f\"Protonation Microstates Energy within 0.5 pH unit (0.68 kcal/mol) of Average, pH{ph}\"\n",
    "    msa.crgms_energy_histogram(filtered_cms,\n",
    "                                mc.background_crg,\n",
    "                                fig_title,\n",
    "                                output_dir,\n",
    "                                save_name=\"crgms_logcount_vs_aver_E.png\",\n",
    "                                show=True)"
   ]
  },
  {
   "cell_type": "markdown",
   "metadata": {},
   "source": [
    "### Protonation Microstates Energy within 1.36 kcal/mol of highest"
   ]
  },
  {
   "cell_type": "code",
   "execution_count": null,
   "metadata": {},
   "outputs": [],
   "source": [
    "E_bounds = (cms_E_stats[2] - 1.36, cms_E_stats[2])\n",
    "\n",
    "filtered_cms = mc.filter_cms_E_within_bounds(mc.all_cms, E_bounds)\n",
    "if filtered_cms:\n",
    "    fig_title = f\"Protonation Microstates Energy within 1.36 kcal/mol of highest, pH{ph}\"\n",
    "    msa.crgms_energy_histogram(filtered_cms,\n",
    "                                mc.background_crg,\n",
    "                                fig_title,\n",
    "                                output_dir,\n",
    "                                save_name=\"crgms_logcount_vs_highest_E.png\",\n",
    "                                show=True)"
   ]
  },
  {
   "cell_type": "markdown",
   "metadata": {},
   "source": [
    "# Prepare data for weighted correlation using correl_resids\n",
    "\n",
    "## Output file: output_dir / \"crg_count_res_of_interest.csv\""
   ]
  },
  {
   "cell_type": "code",
   "execution_count": null,
   "metadata": {},
   "outputs": [],
   "source": [
    "if correl_resids:\n",
    "    choose_res_data_df = msa.choose_res_data(top_df, correl_resids)\n",
    "    choose_res_data_df.to_csv(output_dir.joinpath(\"crg_count_res_of_interest.csv\"), header=True)\n",
    "    if choose_res_data_df.shape[0]:\n",
    "        # Relabel residues with shorter names and in chemical property order: acid, base, polar, etc:\n",
    "        df_chosen_res_renamed = msa.rename_reorder_df_cols(choose_res_data_df)"
   ]
  },
  {
   "cell_type": "code",
   "execution_count": null,
   "metadata": {},
   "outputs": [],
   "source": [
    "df_chosen_res_renamed"
   ]
  },
  {
   "cell_type": "markdown",
   "metadata": {},
   "source": [
    "### Get the wc:"
   ]
  },
  {
   "cell_type": "code",
   "execution_count": null,
   "metadata": {},
   "outputs": [],
   "source": [
    "# define a correlation cutoff & method:\n",
    "corr_cutoff = 0.02\n",
    "corr_method = \"pearson\""
   ]
  },
  {
   "cell_type": "code",
   "execution_count": null,
   "metadata": {},
   "outputs": [],
   "source": [
    "if df_chosen_res_renamed.shape[0] > 1:\n",
    "    df_correlation = msa.WeightedCorr(df=df_chosen_res_renamed,\n",
    "                                      wcol=\"Count\",\n",
    "                                      cutoff=corr_cutoff)(method=corr_method)\n",
    "else:\n",
    "    print(\"Too few rows for correlation\")"
   ]
  },
  {
   "cell_type": "markdown",
   "metadata": {},
   "source": [
    "## Maybe plot"
   ]
  },
  {
   "cell_type": "markdown",
   "metadata": {},
   "source": [
    "### ... and maybe cluster with n_clusters=5 by default\n",
    " * Clustering is performed for matrices > 6x6"
   ]
  },
  {
   "cell_type": "code",
   "execution_count": null,
   "metadata": {},
   "outputs": [],
   "source": [
    "# change the number of target clusters here if needed\n",
    "clst = 5"
   ]
  },
  {
   "cell_type": "code",
   "execution_count": null,
   "metadata": {},
   "outputs": [],
   "source": [
    "if df_correlation.shape[0]:\n",
    "    savename = \"corr_heatmap.png\"\n",
    "    \n",
    "    if df_correlation.shape[0] > 6:\n",
    "        print(\"Clustering the correlation matrix\")\n",
    "        clustered_corr = msa.cluster_corr_matrix(df_correlation, n_clusters=clst)\n",
    "        msa.corr_heatmap(clustered_corr, out_dir=output_dir, save_name=savename, show=True)\n",
    "    else:\n",
    "        msa.corr_heatmap(df_correlation, out_dir=output_dir, save_name=savename, show=True)"
   ]
  },
  {
   "cell_type": "markdown",
   "metadata": {},
   "source": [
    "---\n",
    "---\n",
    "#### [ optional ]\n",
    "#### Learn which methods come with the instantiated class (mc)\n",
    " * What's in the msnp.MSout_np class?"
   ]
  },
  {
   "cell_type": "code",
   "execution_count": null,
   "metadata": {},
   "outputs": [],
   "source": [
    "# Uncomment to display:\n",
    "\n",
    "print(\"Methods the in msa.MSout_np instance:\")\n",
    "print(\"\\n\".join(obj for obj in dir(mc) if not obj.startswith(\"__\")))"
   ]
  },
  {
   "cell_type": "markdown",
   "metadata": {},
   "source": [
    "\n"
   ]
  }
 ],
 "metadata": {
  "kernelspec": {
   "display_name": "Python (p310)",
   "language": "python",
   "name": "p310"
  },
  "language_info": {
   "codemirror_mode": {
    "name": "ipython",
    "version": 3
   },
   "file_extension": ".py",
   "mimetype": "text/x-python",
   "name": "python",
   "nbconvert_exporter": "python",
   "pygments_lexer": "ipython3",
   "version": "3.10.15"
  }
 },
 "nbformat": 4,
 "nbformat_minor": 4
}

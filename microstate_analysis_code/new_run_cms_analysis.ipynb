{
 "cells": [
  {
   "cell_type": "code",
   "execution_count": 1,
   "metadata": {
    "jupyter": {
     "source_hidden": true
    }
   },
   "outputs": [],
   "source": [
    "# Notebook behavior:\n",
    "from pathlib import Path\n",
    "import sys\n",
    "\n",
    "# Enable multiple outputs from one cell:\n",
    "from IPython.core.interactiveshell import InteractiveShell\n",
    "InteractiveShell.ast_node_interactivity = \"all\"\n",
    "from IPython.display import Markdown, Image\n",
    "\n",
    "def add_to_sys_path(this_path, up=False):\n",
    "    \"\"\"\n",
    "    To be used if the current project is not (yet)  packaged.\n",
    "    Prepend this_path to sys.path.\n",
    "    If up=True, path refers to parent folder (1 level up).\n",
    "    \"\"\"\n",
    "    if up:\n",
    "        newp = Path(this_path).parent\n",
    "    else:\n",
    "        newp = Path(this_path)\n",
    "    src = newp.joinpath(\"src\")\n",
    "    if src.exists():\n",
    "        newp = str(src)\n",
    "    else:\n",
    "        newp = str(newp)\n",
    "    if newp not in sys.path:\n",
    "        sys.path.insert(1, newp)\n",
    "        print('Path added to sys.path: {}'.format(newp))\n",
    "        \n",
    "\n",
    "# autoreload extension: automaticall refresh imports when code is changed:\n",
    "%load_ext autoreload\n",
    "%autoreload 2"
   ]
  },
  {
   "cell_type": "code",
   "execution_count": null,
   "metadata": {},
   "outputs": [],
   "source": [
    "# Reference the location of MCCE4/MCCE_bin & MCCE4/bin viz. the location of this notebook:\n",
    "here = Path.cwd()\n",
    "\n",
    "MC4 = here.parent.parent.parent\n",
    "MC4\n",
    "bin_dir = MC4.joinpath(\"bin\")\n",
    "mcbin_dir = MC4.joinpath(\"MCCE_bin\")\n",
    "param_dp = MC4.joinpath(\"param\")\n",
    "param_dp\n",
    "\n",
    "# Add them to the system path to enable imports\n",
    "add_to_sys_path(here)\n",
    "add_to_sys_path(mcbin_dir)\n",
    "add_to_sys_path(bin_dir)"
   ]
  },
  {
   "cell_type": "markdown",
   "metadata": {},
   "source": [
    "---\n",
    "# run_cms_analysis2.ipynb - Uses 'fast loading' class MSout_np\n",
    "---"
   ]
  },
  {
   "cell_type": "markdown",
   "metadata": {
    "tags": []
   },
   "source": [
    "# Tutorial notebook for processing MCCE microstate file in ms_out folder.\n",
    "\n",
    "# Required mcce run output files:\n",
    "### 1. head3.lst\n",
    "### 2. file in ms_out/, a.k.a. the 'msout file'\n",
    " * Notes:\n",
    "   - The ms_out folder is retained when the `--ms` flag is used at the command line for Step 4: `step4.py --ms`;\n",
    "   - Format of the msout file name: pHXeHYms.tx at pH point X and Eh point Y;\n",
    "   - The most typical filename encountered is \"pH7eH0ms.txt\", meaning the MCCE simulation was a pH titation run at pH7.\n",
    "---"
   ]
  },
  {
   "cell_type": "markdown",
   "metadata": {},
   "source": [
    "## Load the needed libraries and modules:"
   ]
  },
  {
   "cell_type": "code",
   "execution_count": null,
   "metadata": {},
   "outputs": [],
   "source": [
    "# Module needed to read the microstate file:\n",
    "import cms_analysis_wc as msa"
   ]
  },
  {
   "cell_type": "markdown",
   "metadata": {},
   "source": [
    "---\n",
    "# Inputs\n",
    "## Required user input: the path to the msout file:\n",
    " * e.g. 4lzt/ms_out/pH7eH0ms.txt\n",
    "## Optional user input: list of residues of interest\n",
    "---"
   ]
  },
  {
   "cell_type": "markdown",
   "metadata": {},
   "source": [
    "# Get the paths to the input files using a folder name and a pH point:"
   ]
  },
  {
   "cell_type": "code",
   "execution_count": null,
   "metadata": {},
   "outputs": [],
   "source": [
    "mcce_dir = Path(\"4lzt\")  # local folder\n",
    "msout_file = \"pH7eH0ms.txt\"\n",
    "ph = 7\n",
    "\n",
    "# Ensure the output directory exists:\n",
    "outname = f\"crgms_corr_ph{ph}\"\n",
    "output_dir = mcce_dir.joinpath(outname)\n",
    "if not output_dir.exists():\n",
    "    output_dir.mkdir()\n",
    "    \n",
    "h3_path = mcce_dir.joinpath(\"head3.lst\")\n",
    "msout_path = mcce_dir.joinpath(\"ms_out\", msout_file)\n",
    "\n",
    "DEBUG = False\n",
    "if DEBUG:\n",
    "    msout_path = mcce_dir.joinpath(\"ms_out\", \"pH7eH0ms.txt.sm10\")\n",
    "\n",
    "print(f\"head3_path: {str(h3_path)}\")\n",
    "print(f\"msout_path: {str(msout_path)}\")\n",
    "print(f\"output_dir: {str(output_dir)}\")"
   ]
  },
  {
   "cell_type": "markdown",
   "metadata": {},
   "source": [
    "# Residues of interest\n",
    "\n",
    "Note: Make sure to add the names of your residues of interest, such as quinone, here:"
   ]
  },
  {
   "cell_type": "markdown",
   "metadata": {},
   "source": [
    "### Which kind of residues to consider (3-letter codes)\n",
    "\n",
    "#### Code for interactive input to obtain `user_resoi`:\n",
    "Example string to give:  \n",
    "ASP, pl9 GLU, LYS ARG HIS, TYR NTR PAA, HEM\n",
    "   \n",
    "  ```\n",
    "  user_resoi = msa.split_spunct(input(\"Enter which kind of residues are of interest, e.g. ASP, HIS:\\n\"), upper=True)\n",
    "  ```"
   ]
  },
  {
   "cell_type": "code",
   "execution_count": null,
   "metadata": {},
   "outputs": [],
   "source": [
    "# Which kind of residues to consider (3-letter codes):\n",
    "\n",
    "user_resoi = msa.IONIZABLES  # :: ['ASP', 'GLU', 'ARG', 'HIS', 'LYS', 'CYS', 'TYR', 'NTR', 'CTR']\n",
    "user_resoi = ['ASP', 'GLU']\n",
    "user_resoi = [\"ASP\", \"HEM\", \"PL9\", \"GLU\", \"HIS\", \"TYR\", \"NTR\", \"CTR\"]\n",
    "\n",
    "residue_kinds = msa.sort_resoi_list(user_resoi)\n",
    "print(\"Sorted resoi kinds:\", residue_kinds)"
   ]
  },
  {
   "cell_type": "code",
   "execution_count": null,
   "metadata": {},
   "outputs": [],
   "source": [
    "# Helper function to list resid from head3.lst; can be used to select 'choose_res':\n",
    "# Uncomment to display:\n",
    "\n",
    "#print(msa.list_head3_ionizables(h3_path))"
   ]
  },
  {
   "cell_type": "code",
   "execution_count": null,
   "metadata": {},
   "outputs": [],
   "source": [
    "# Specific residues of interest for correlation.\n",
    "# Here, the list supplied must be conformer ids as they appear in the conformers list, without \"-\" or \"+\";\n",
    "# Use helper function above if needed:\n",
    "choose_res = [\n",
    "'NTRA0001_',\n",
    "'LYSA0001_',\n",
    "'ARGA0005_',\n",
    "'GLUA0007_',\n",
    "'LYSA0013_',\n",
    "'ARGA0014_',\n",
    "'LYSA0033_',\n",
    "'GLUA0035_',\n",
    "'ARGA0045_',\n",
    "'ASPA0048_',\n",
    "'ASPA0052_',\n",
    "'TYRA0053_',\n",
    "]\n",
    "print(\"Chosen resid for correlation (before validation):\", choose_res)"
   ]
  },
  {
   "cell_type": "markdown",
   "metadata": {},
   "source": [
    "# Instantiate msa.MSout_np"
   ]
  },
  {
   "cell_type": "code",
   "execution_count": null,
   "metadata": {},
   "outputs": [],
   "source": [
    "mc = msa.MSout_np(h3_path, msout_path, res_kinds=residue_kinds)\n",
    "\n",
    "print(mc)"
   ]
  },
  {
   "cell_type": "markdown",
   "metadata": {},
   "source": [
    "# Validate choose_res:"
   ]
  },
  {
   "cell_type": "code",
   "execution_count": null,
   "metadata": {},
   "outputs": [],
   "source": [
    "correl_resids = msa.check_res_list(choose_res, res_lst=residue_kinds, conf_info=mc.conf_info)\n",
    "print(\"Valid resid for correlation:\", correl_resids)"
   ]
  },
  {
   "cell_type": "markdown",
   "metadata": {},
   "source": [
    "# fixed res info:"
   ]
  },
  {
   "cell_type": "code",
   "execution_count": null,
   "metadata": {},
   "outputs": [],
   "source": [
    "all_fixed_res_crg_df = mc.get_fixed_residues_df()"
   ]
  },
  {
   "cell_type": "markdown",
   "metadata": {},
   "source": [
    "# free res average crg"
   ]
  },
  {
   "cell_type": "code",
   "execution_count": null,
   "metadata": {},
   "outputs": [],
   "source": [
    "free_res_aver_crg_df = mc.get_free_res_aver_crg_df()"
   ]
  },
  {
   "cell_type": "markdown",
   "metadata": {},
   "source": [
    "# Combine free & fixed res with crg and save to csv:"
   ]
  },
  {
   "cell_type": "code",
   "execution_count": null,
   "metadata": {},
   "outputs": [],
   "source": [
    "all_res_crg_df = msa.combine_all_free_fixed_residues(free_res_aver_crg_df, all_fixed_res_crg_df)\n",
    "all_res_crg_csv = output_dir.joinpath(\"all_res_crg_csv\")\n",
    "print(\"Saving all_res_crg_df to file.\\n\", \"Note: For residues with 'free' status, the charge is the average charge.\")\n",
    "all_res_crg_df.to_csv(all_res_crg_csv)"
   ]
  },
  {
   "cell_type": "markdown",
   "metadata": {},
   "source": [
    "# fixed res of interest info:"
   ]
  },
  {
   "cell_type": "code",
   "execution_count": null,
   "metadata": {},
   "outputs": [],
   "source": [
    "fixed_resoi_crg_df = mc.get_fixed_res_of_interest_df()\n",
    "n_fixed_resoi = fixed_resoi_crg_df.shape[0]\n",
    "if n_fixed_resoi:\n",
    "    print(f\"Fixed res in residues of interest: {n_fixed_resoi}\")\n",
    "    fixed_resoi_crg_df.to_csv(output_dir.joinpath(f\"fixed_crg_resoi.csv\"), index=False)\n",
    "else:\n",
    "    fixed_resoi_crg_df = None\n",
    "    print(\"No fixed residues of interest.\")"
   ]
  },
  {
   "cell_type": "markdown",
   "metadata": {},
   "source": [
    "# energies distribution plot:"
   ]
  },
  {
   "cell_type": "code",
   "execution_count": null,
   "metadata": {},
   "outputs": [],
   "source": [
    "msa.ms_energy_distribution(mc.all_ms, output_dir, \"enthalpy_dist.png\", show=True)"
   ]
  },
  {
   "cell_type": "markdown",
   "metadata": {},
   "source": [
    "# get the top N cms data\n",
    "\n",
    " * Note: top_df corresponds to all_res_crg_df in the previous version of cms_analysis_wc.py."
   ]
  },
  {
   "cell_type": "markdown",
   "metadata": {},
   "source": [
    "### define the number of top cms desired & the occ threshold:"
   ]
  },
  {
   "cell_type": "code",
   "execution_count": null,
   "metadata": {},
   "outputs": [],
   "source": [
    "n_top = 100            # default is 5\n",
    "min_threshold = 0.01   # default is 2%\n",
    "\n",
    "top_cms, top_ms = mc.get_topN_lists(N=n_top, min_occ=min_threshold)\n",
    "\n",
    "# top_ms holds conformer space data: may be used to create a pdb"
   ]
  },
  {
   "cell_type": "code",
   "execution_count": null,
   "metadata": {},
   "outputs": [],
   "source": [
    "# create a df for the crg ms data:\n",
    "top_df = mc.top_cms_df(top_cms, output_tauto=False, cms_wc_format=True)\n",
    "\n",
    "crg_count_csv = output_dir.joinpath(\"all_crg_count_res.csv\")\n",
    "top_df.to_csv(crg_count_csv, header=True)"
   ]
  },
  {
   "cell_type": "code",
   "execution_count": null,
   "metadata": {},
   "outputs": [],
   "source": [
    "print(\"Sum Count: {:,.0f}\\nSum Occ  : {:.0%}\".format(*top_df[top_df.columns[-3:-1]].sum()))\n",
    "top_df"
   ]
  },
  {
   "cell_type": "markdown",
   "metadata": {},
   "source": [
    "## Add fixed res of interest crg to top df  & save to csv"
   ]
  },
  {
   "cell_type": "code",
   "execution_count": null,
   "metadata": {},
   "outputs": [],
   "source": [
    "all_res_crg_df = msa.add_fixed_resoi_crg_to_topdf(top_df, fixed_resoi_crg_df, cms_wc_format = True)\n",
    "\n",
    "crg_count_csv = output_dir.joinpath(f\"all_crg_count_resoi.csv\")\n",
    "all_res_crg_df.to_csv(crg_count_csv, header=True)"
   ]
  },
  {
   "cell_type": "markdown",
   "metadata": {},
   "source": [
    "# Protonation states energy histograms"
   ]
  },
  {
   "cell_type": "markdown",
   "metadata": {},
   "source": [
    "### Without filtering: All Protonation Microstates Energy"
   ]
  },
  {
   "cell_type": "code",
   "execution_count": null,
   "metadata": {},
   "outputs": [],
   "source": [
    "fig_title = f\"All Protonation Microstates Energy, pH{ph}\"\n",
    "\n",
    "msa.crgms_energy_histogram(mc.all_cms,\n",
    "                            mc.background_crg,\n",
    "                            fig_title,\n",
    "                            output_dir,\n",
    "                            save_name=\"crgms_logcount_vs_all_E.png\",\n",
    "                            show=True)"
   ]
  },
  {
   "cell_type": "markdown",
   "metadata": {},
   "source": [
    "### get min, aver & max E of crg ms"
   ]
  },
  {
   "cell_type": "code",
   "execution_count": null,
   "metadata": {},
   "outputs": [],
   "source": [
    "cms_E_stats = mc.get_cms_energy_stats()"
   ]
  },
  {
   "cell_type": "markdown",
   "metadata": {},
   "source": [
    "### Protonation Microstates Energy within 1.36 kcal/mol of Lowest cms E"
   ]
  },
  {
   "cell_type": "code",
   "execution_count": null,
   "metadata": {},
   "outputs": [],
   "source": [
    "E_bounds = (cms_E_stats[0], cms_E_stats[0] + 1.36)\n",
    "filtered_cms = mc.filter_cms_E_within_bounds(mc.all_cms, E_bounds)\n",
    "\n",
    "if filtered_cms:\n",
    "    fig_title = f\"Protonation Microstates Energy within 1.36 kcal/mol of Lowest, pH{ph}\"\n",
    "    msa.crgms_energy_histogram(filtered_cms,\n",
    "                                mc.background_crg,\n",
    "                                fig_title,\n",
    "                                output_dir,\n",
    "                                save_name=\"crgms_logcount_vs_lowest_E.png\",\n",
    "                                show=True)"
   ]
  },
  {
   "cell_type": "markdown",
   "metadata": {},
   "source": [
    "### Protonation Microstates Energy within 0.5 pH unit (0.68 kcal/mol) of Average cms E"
   ]
  },
  {
   "cell_type": "code",
   "execution_count": null,
   "metadata": {},
   "outputs": [],
   "source": [
    "E_bounds = (cms_E_stats[1] - 0.68, cms_E_stats[1]  + 0.68)\n",
    "\n",
    "filtered_cms = mc.filter_cms_E_within_bounds(mc.all_cms, E_bounds)\n",
    "if filtered_cms:\n",
    "    fig_title = f\"Protonation Microstates Energy within 0.5 pH unit (0.68 kcal/mol) of Average, pH{ph}\"\n",
    "    msa.crgms_energy_histogram(filtered_cms,\n",
    "                                mc.background_crg,\n",
    "                                fig_title,\n",
    "                                output_dir,\n",
    "                                save_name=\"crgms_logcount_vs_aver_E.png\",\n",
    "                                show=True)"
   ]
  },
  {
   "cell_type": "markdown",
   "metadata": {},
   "source": [
    "### Protonation Microstates Energy within 1.36 kcal/mol of highest"
   ]
  },
  {
   "cell_type": "code",
   "execution_count": null,
   "metadata": {},
   "outputs": [],
   "source": [
    "E_bounds = (cms_E_stats[2] - 1.36, cms_E_stats[2])\n",
    "\n",
    "filtered_cms = mc.filter_cms_E_within_bounds(mc.all_cms, E_bounds)\n",
    "if filtered_cms:\n",
    "    fig_title = f\"Protonation Microstates Energy within 1.36 kcal/mol of highest, pH{ph}\"\n",
    "    msa.crgms_energy_histogram(filtered_cms,\n",
    "                                mc.background_crg,\n",
    "                                fig_title,\n",
    "                                output_dir,\n",
    "                                save_name=\"crgms_logcount_vs_highest_E.png\",\n",
    "                                show=True)"
   ]
  },
  {
   "cell_type": "markdown",
   "metadata": {},
   "source": [
    "# Prepare data for weighted correlation"
   ]
  },
  {
   "cell_type": "code",
   "execution_count": null,
   "metadata": {},
   "outputs": [],
   "source": [
    "if correl_resids:\n",
    "    choose_res_data_df = msa.choose_res_data(top_df, correl_resids)\n",
    "    choose_res_data_df.to_csv(output_dir.joinpath(\"crg_count_res_of_interest.csv\"), header=True)\n",
    "    if choose_res_data_df.shape[0]:\n",
    "        # Relabel residues with shorter names and in chemical property order: acid, base, polar, etc:\n",
    "        df_chosen_res_renamed = msa.rename_reorder_df_cols(choose_res_data_df)"
   ]
  },
  {
   "cell_type": "code",
   "execution_count": null,
   "metadata": {},
   "outputs": [],
   "source": [
    "df_chosen_res_renamed"
   ]
  },
  {
   "cell_type": "markdown",
   "metadata": {},
   "source": [
    "### Get the wc:"
   ]
  },
  {
   "cell_type": "code",
   "execution_count": null,
   "metadata": {},
   "outputs": [],
   "source": [
    "# define a correlation cutoff & method:\n",
    "corr_cutoff = 0.02\n",
    "corr_method = \"pearson\""
   ]
  },
  {
   "cell_type": "code",
   "execution_count": null,
   "metadata": {},
   "outputs": [],
   "source": [
    "if df_chosen_res_renamed.shape[0] > 1:\n",
    "    df_correlation = msa.WeightedCorr(df=df_chosen_res_renamed,\n",
    "                                      wcol=\"Count\",\n",
    "                                      cutoff=corr_cutoff)(method=corr_method)\n",
    "else:\n",
    "    print(\"Too few rows for correlation\")"
   ]
  },
  {
   "cell_type": "markdown",
   "metadata": {},
   "source": [
    "## Maybe plot"
   ]
  },
  {
   "cell_type": "markdown",
   "metadata": {},
   "source": [
    "### ... and maybe cluster with n_clusters=5 by default\n",
    " * Clustering is performed for matrices > 6x6"
   ]
  },
  {
   "cell_type": "code",
   "execution_count": null,
   "metadata": {},
   "outputs": [],
   "source": [
    "# change the number of target clusters here if needed\n",
    "clst = 5"
   ]
  },
  {
   "cell_type": "code",
   "execution_count": null,
   "metadata": {},
   "outputs": [],
   "source": [
    "if df_correlation.shape[0]:\n",
    "    savename = \"corr_heatmap.png\"\n",
    "    \n",
    "    if df_correlation.shape[0] > 6:\n",
    "        print(\"Clustering the correlation matrix\")\n",
    "        clustered_corr = msa.cluster_corr_matrix(df_correlation, n_clusters=clst)\n",
    "        msa.corr_heatmap(clustered_corr, out_dir=output_dir, save_name=savename, show=True)\n",
    "    else:\n",
    "        msa.corr_heatmap(df_correlation, out_dir=output_dir, save_name=savename, show=True)"
   ]
  },
  {
   "cell_type": "markdown",
   "metadata": {},
   "source": [
    "---\n",
    "---\n",
    "#### [ optional ]\n",
    "#### Learn which methods come with the instantiated class (mc)\n",
    " * What's in the msnp.MSout_np class?"
   ]
  },
  {
   "cell_type": "code",
   "execution_count": null,
   "metadata": {},
   "outputs": [],
   "source": [
    "# Uncomment to display:\n",
    "\n",
    "#print(\"Methods the in msa.MSout_np instance:\")\n",
    "#print([obj for obj in dir(mc) if not obj.startswith(\"__\")])"
   ]
  },
  {
   "cell_type": "markdown",
   "metadata": {},
   "source": [
    "\n"
   ]
  }
 ],
 "metadata": {
  "kernelspec": {
   "display_name": "Python (p310)",
   "language": "python",
   "name": "p310"
  },
  "language_info": {
   "codemirror_mode": {
    "name": "ipython",
    "version": 3
   },
   "file_extension": ".py",
   "mimetype": "text/x-python",
   "name": "python",
   "nbconvert_exporter": "python",
   "pygments_lexer": "ipython3",
   "version": "3.10.15"
  }
 },
 "nbformat": 4,
 "nbformat_minor": 4
}

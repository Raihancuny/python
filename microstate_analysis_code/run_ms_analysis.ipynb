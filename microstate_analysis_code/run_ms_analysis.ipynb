{
 "cells": [
  {
   "cell_type": "code",
   "execution_count": 1,
   "metadata": {},
   "outputs": [],
   "source": [
    "# Notebook behavior:\n",
    "\n",
    "# Enable multiple outputs from one cell:\n",
    "from IPython.core.interactiveshell import InteractiveShell\n",
    "InteractiveShell.ast_node_interactivity = \"all\"\n",
    "\n",
    "# autoreload extension: automaticall refresh imports when code is changed:\n",
    "%load_ext autoreload\n",
    "%autoreload 2"
   ]
  },
  {
   "cell_type": "markdown",
   "metadata": {},
   "source": [
    "# run_ms_analysis.ipynb\n",
    "---"
   ]
  },
  {
   "cell_type": "markdown",
   "metadata": {
    "tags": []
   },
   "source": [
    "# Tutorial notebook for processing MCCE microstate file in ms_out folder.\n",
    "\n",
    "# Required mcce run output files:\n",
    "### 1. head3.lst\n",
    "### 2. file in ms_out/, a.k.a. the 'msout file'\n",
    " * Notes:\n",
    "   - The ms_out folder is retained when the `--ms` flag is used at the command line for Step 4: `step4.py --ms`;\n",
    "   - Format of the msout file name: pHXeHYms.tx at pH point X and Eh point Y;\n",
    "   - The most typical filename encountered is \"pH7eH0ms.txt\", meaning the MCCE simulation was a pH titation run at pH7.\n",
    "---"
   ]
  },
  {
   "cell_type": "markdown",
   "metadata": {},
   "source": [
    "## Load the needed libraries and modules:"
   ]
  },
  {
   "cell_type": "code",
   "execution_count": 2,
   "metadata": {},
   "outputs": [],
   "source": [
    "from collections import defaultdict\n",
    "import math\n",
    "import matplotlib.pyplot as plt\n",
    "from matplotlib.colors import LinearSegmentedColormap, ListedColormap, BoundaryNorm\n",
    "import numpy as np\n",
    "import pandas as pd\n",
    "from pathlib import Path\n",
    "import seaborn as sns\n",
    "import sys\n",
    "\n",
    "%matplotlib inline\n",
    "\n",
    "# Module needed to read the microstate file:\n",
    "import ms_analysis_wc as msa"
   ]
  },
  {
   "cell_type": "markdown",
   "metadata": {},
   "source": [
    "---\n",
    "# Inputs\n",
    "## Required user input: the path to the msout file:\n",
    " * e.g. 4lzt/ms_out/pH7eH0ms.txt\n",
    "## Optional user input: list of residues of interest\n",
    "---"
   ]
  },
  {
   "cell_type": "markdown",
   "metadata": {},
   "source": [
    "# Define the path to msout file:"
   ]
  },
  {
   "cell_type": "code",
   "execution_count": 8,
   "metadata": {},
   "outputs": [
    {
     "data": {
      "text/plain": [
       "True"
      ]
     },
     "execution_count": 8,
     "metadata": {},
     "output_type": "execute_result"
    },
    {
     "data": {
      "text/plain": [
       "PosixPath('/home/cat/projects/raihan/python/microstate_analysis_code/4lzt/ms_out/pH7eH0ms.txt')"
      ]
     },
     "execution_count": 8,
     "metadata": {},
     "output_type": "execute_result"
    },
    {
     "data": {
      "text/plain": [
       "PosixPath('/home/cat/projects/raihan/python/microstate_analysis_code/4lzt/head3.lst')"
      ]
     },
     "execution_count": 8,
     "metadata": {},
     "output_type": "execute_result"
    },
    {
     "data": {
      "text/plain": [
       "PosixPath('crgms_wc')"
      ]
     },
     "execution_count": 8,
     "metadata": {},
     "output_type": "execute_result"
    }
   ],
   "source": [
    "# MCCE microstates file:\n",
    "msout_file = Path(\"4lzt/ms_out/pH7eH0ms.txt\").resolve()\n",
    "\n",
    "# Get the related head3.lst path:\n",
    "h3_path = msout_file.parent.parent.joinpath(\"head3.lst\")\n",
    "h3_path.exists()\n",
    "\n",
    "msout_file\n",
    "h3_path\n",
    "\n",
    "# More specific name for output folder: KEEP?\n",
    "outname = \"crgms_wc\"  # \"output\"\n",
    "\n",
    "# Ensure the output directory exists:\n",
    "output_dir = Path(outname)\n",
    "if not output_dir.exists():\n",
    "    output_dir.mkdir()\n",
    "\n",
    "output_dir"
   ]
  },
  {
   "cell_type": "code",
   "execution_count": 9,
   "metadata": {},
   "outputs": [
    {
     "name": "stdout",
     "output_type": "stream",
     "text": [
      "total 92\n",
      "-rw-r--r-- 1 cat users   856 Feb  7 18:08 all_crg_count_res.csv\n",
      "-rw-r--r-- 1 cat users   213 Feb  7 18:08 cluster4_crg_count_res_june06_king.csv\n",
      "-rw-r--r-- 1 cat users  8850 Feb  7 18:09 corr.pdf\n",
      "-rw-r--r-- 1 cat users 18822 Feb  7 18:06 crgms_logcount_vs_all_E_ph7.pdf\n",
      "-rw-r--r-- 1 cat users 17642 Feb  7 18:07 crgms_logcount_vs_aver_E.pdf\n",
      "-rw-r--r-- 1 cat users 16195 Feb  7 18:08 crgms_logcount_vs_highest_E.pdf\n",
      "-rw-r--r-- 1 cat users 15772 Feb  7 18:06 crgms_logcount_vs_lowest_E.pdf\n"
     ]
    }
   ],
   "source": [
    "! ls -l {output_dir}"
   ]
  },
  {
   "cell_type": "markdown",
   "metadata": {},
   "source": [
    "# Residues of interest\n",
    "Note: Make sure to add the names of your residues of interest, such as quinone, here:"
   ]
  },
  {
   "cell_type": "code",
   "execution_count": 10,
   "metadata": {},
   "outputs": [],
   "source": [
    "# Which kind of residues to consider (3-letter codes):\n",
    "res_of_interest = [\"ASP\", \"PL9\", \"GLU\", \"ARG\", \"HIS\", \"LYS\", \"TYR\", \"NTR\", \"CTR\"]\n",
    "\n",
    "# Specific residues of interest. Here the list supplied must be conformer ids:\n",
    "choose_resid = [\"GLUA0035_\", \"HISA0015_\", \"ASPA0119_\"]"
   ]
  },
  {
   "cell_type": "raw",
   "metadata": {},
   "source": [
    "def crg_msa_with_correlation(\n",
    "    mcce_dir: Path, ph_pt: int = 7, res_of_interest: list = IONIZABLES, corr_cutoff: float = 0.0\n",
    "):\n",
    "    h3_fp, msout_fp = check_mcce_input_files(mcce_dir, ph_pt)\n",
    "\n",
    "    conformers = read_conformers(h3_fp)\n",
    "    logger.info(f\"Conformers count: {len(conformers):,}\")\n",
    "\n",
    "    mc = MSout(msout_fp)\n",
    "    logger.info(mc)\n",
    "\n",
    "    ms_orig_lst = [[ms.E, ms.count, ms.state] for ms in mc.sort_microstates()]\n",
    "    # default save_name: str = \"enthalpy_dist.pdf\", also saved as png\n",
    "    plot_hist_by_ms_energy(ms_orig_lst, mcce_dir)\n",
    "\n",
    "    # free residues\n",
    "    freeres_df = free_residues_df(mc.free_residues, conformers, colname=\"Residue\")\n",
    "\n",
    "    # fixed residues among res_of_interest\n",
    "    background_crg, fixed_res_crg_df, fixed_res_crg_dict = fixed_residues_info(mc.fixed_iconfs, conformers, res_of_interest)\n",
    "\n",
    "    # microstates to charge microstates\n",
    "    id_vs_charge = iconf2crg(conformers)\n",
    "    crg_orig_lst = ms2crgms(ms_orig_lst, id_vs_charge)\n",
    "\n",
    "    # group by count\n",
    "    charge_ms_info = find_uniq_crgms_count_order(crg_orig_lst)\n",
    "    plots_unique_crg_histogram(charge_ms_info, background_charge, mcce_dir, \"logcount_vs_all_en_crgms.pdf\")\n",
    "\n",
    "    free_res_crg_count_df = concat_crgms_dfs(\n",
    "        charge_ms_info[0], charge_ms_info[1], charge_ms_info[2], freeres_df, background_crg, res_of_interest\n",
    "    )\n",
    "\n",
    "    res_crg_csv = mcce_dir.joinpath(\"all_res_crg.csv\")\n",
    "    combine_free_fixed_residues(fixed_res_crg_df, free_res_crg_count_df).to_csv(res_crg_csv)\n",
    "\n",
    "    res_crg_count_csv = mcce_dir.joinpath(\"all_res_crg_count.csv\")\n",
    "    free_res_crg_count_df.to_csv(res_crg_count_csv, header=True)\n",
    "\n",
    "    all_crg_count_std = correlation_data_parsing(free_res_crg_count_df)\n",
    "    df_renamed = rename_order_residues(all_crg_count_std)\n",
    "    df_correlation = filter_weightedcorr(df_renamed, cutoff=corr_cutoff)\n",
    "\n",
    "    if df_correlation.shape[0] > 1:\n",
    "        corr_heat_map(df_correlation, mcce_dir)\n",
    "    else:\n",
    "        logger.info(\"Single point correlation: no map.\")\n",
    "\n",
    "    logger.info(\"Charge microstate analysis with correlation over.\")\n",
    "\n",
    "    return"
   ]
  },
  {
   "cell_type": "markdown",
   "metadata": {},
   "source": [
    "### Note about the `msa` module:\n",
    "The loading of the conformers list (into module variable `conformers`) is __performed on import using \"./head3.lst\" by default__;  \n",
    "The list will be empty whenever a different location is needed."
   ]
  },
  {
   "cell_type": "markdown",
   "metadata": {},
   "source": [
    "### Check whether the conformers list needs reloading:"
   ]
  },
  {
   "cell_type": "code",
   "execution_count": 11,
   "metadata": {},
   "outputs": [
    {
     "name": "stdout",
     "output_type": "stream",
     "text": [
      "Conformers count: 314\n"
     ]
    }
   ],
   "source": [
    "if not msa.conformers:\n",
    "    # redo with the appropriate head3.lst path:\n",
    "    conformers = msa.read_conformers(h3_path)\n",
    "else:\n",
    "    conformers = msa.conformers\n",
    "\n",
    "n_conformers = len(conformers)\n",
    "print(f\"Conformers count: {n_conformers:,}\")"
   ]
  },
  {
   "cell_type": "markdown",
   "metadata": {},
   "source": [
    "# Instantiate `msa.MSout` class with the given msout file:"
   ]
  },
  {
   "cell_type": "code",
   "execution_count": 31,
   "metadata": {},
   "outputs": [
    {
     "name": "stdout",
     "output_type": "stream",
     "text": [
      "Number of microstates: 1,500,000\n",
      "Number of unique microstates: 394,139\n",
      "Energies: lowest_E: -184.97; average_E: -179.39; highest_E: -166.75\n"
     ]
    }
   ],
   "source": [
    "mc = msa.MSout(msout_file)\n",
    "print(mc)"
   ]
  },
  {
   "cell_type": "markdown",
   "metadata": {
    "jp-MarkdownHeadingCollapsed": true
   },
   "source": [
    "#### [ optional ]\n",
    "#### Learn which methods come with the instantiated class (mc)\n",
    " * What's in the MSout class?"
   ]
  },
  {
   "cell_type": "raw",
   "metadata": {},
   "source": [
    "# Uncomment to display:\n",
    "\n",
    "#print(\"Methods mc, the in msa.MSout instance:\")\n",
    "#print([obj for obj in dir(mc) if not obj.startswith(\"__\")])"
   ]
  },
  {
   "cell_type": "markdown",
   "metadata": {},
   "source": [
    "### In MCCE, residues are divided into fixed or free residue groups.\n",
    " * Only free residues appear in the microstate sate list.\n",
    " * Fixed residues can be ionizable residues so we need to include their contribution to the total charge, which is referred to here as __background charge__. "
   ]
  },
  {
   "cell_type": "markdown",
   "metadata": {},
   "source": [
    "#### Free residues information"
   ]
  },
  {
   "cell_type": "code",
   "execution_count": 33,
   "metadata": {},
   "outputs": [],
   "source": [
    "# Uncomment to display:\n",
    "\n",
    "#print(\"mc.free_residues list holds each free residues' conformers.\\nSample data:\\n\", mc.free_residues[:2])"
   ]
  },
  {
   "cell_type": "code",
   "execution_count": 82,
   "metadata": {},
   "outputs": [
    {
     "name": "stdout",
     "output_type": "stream",
     "text": [
      "Number of free residues: 47\n"
     ]
    }
   ],
   "source": [
    "# Save the free_residues in a pandas.DataFrame, it will be one of the inputs to the function msa.ConcaCrgMsPandas:\n",
    "free_residues_df = msa.free_residues_df(mc.free_residues, conformers, colname=\"Residue\")\n",
    "print(f\"Number of free residues: {free_residues_df.shape[0]:,}\")"
   ]
  },
  {
   "cell_type": "code",
   "execution_count": 147,
   "metadata": {},
   "outputs": [],
   "source": [
    "# Uncomment to display:\n",
    "\n",
    "#free_residues_df.head(3)\n",
    "#free_residues_df.tail(3)"
   ]
  },
  {
   "cell_type": "code",
   "execution_count": null,
   "metadata": {},
   "outputs": [],
   "source": [
    "# get their net charges into a df for combiing with fixed_res\n",
    "\n",
    "free_res_crg_df = msa.free_res2sumcrg_df(mc.microstates.values(), mc.free_residues, conformers)"
   ]
  },
  {
   "cell_type": "code",
   "execution_count": null,
   "metadata": {},
   "outputs": [],
   "source": [
    "# Uncomment to display:\n",
    "\n",
    "#free_res_crg_df.head()"
   ]
  },
  {
   "cell_type": "markdown",
   "metadata": {},
   "source": [
    "#### Fixed residues charge.\n",
    "(Make sure to account for fixed residues charge for MD simulation protonation input.)"
   ]
  },
  {
   "cell_type": "markdown",
   "metadata": {},
   "source": [
    "__For all fixed residues:__"
   ]
  },
  {
   "cell_type": "code",
   "execution_count": 173,
   "metadata": {},
   "outputs": [
    {
     "name": "stdout",
     "output_type": "stream",
     "text": [
      "Background charge: 8.0\n",
      "Number of fixed residues: 81\n"
     ]
    }
   ],
   "source": [
    "# Note: pass an empty list to get all residues (default is ionizable residues)\n",
    "\n",
    "background_crg, all_fixed_res_crg_df, all_fixed_res_crg_dict = msa.fixed_residues_info(mc.fixed_iconfs, conformers, [])\n",
    "\n",
    "print(\"Background charge:\", background_crg)\n",
    "print(\"Number of fixed residues:\", len(all_fixed_res_crg_dict))"
   ]
  },
  {
   "cell_type": "code",
   "execution_count": 148,
   "metadata": {},
   "outputs": [],
   "source": [
    "# Uncomment to display:\n",
    "\n",
    "#all_fixed_res_crg_df.head()"
   ]
  },
  {
   "cell_type": "markdown",
   "metadata": {},
   "source": [
    "### Combine free & fixed res with crg and save to csv:"
   ]
  },
  {
   "cell_type": "code",
   "execution_count": 174,
   "metadata": {},
   "outputs": [],
   "source": [
    "all_res_crg_df = msa.combine_all_free_fixed_residues(free_res_crg_df, all_fixed_res_crg_df)\n",
    "\n",
    "# Save to csv:\n",
    "all_res_crg_df.to_csv(output_dir.joinpath(\"all_res_crg.csv\"), index_label=\"Residue\" )"
   ]
  },
  {
   "cell_type": "code",
   "execution_count": 164,
   "metadata": {},
   "outputs": [],
   "source": [
    "# Uncomment to display:\n",
    "\n",
    "#all_res_crg_df"
   ]
  },
  {
   "cell_type": "markdown",
   "metadata": {},
   "source": [
    "__For fixed residues among residues of interest:__  \n",
    "#### Save the fixed residues in your residues of interest to a separate list, DataFrame & csv:"
   ]
  },
  {
   "cell_type": "code",
   "execution_count": 161,
   "metadata": {},
   "outputs": [
    {
     "name": "stdout",
     "output_type": "stream",
     "text": [
      "Background charge: 8.0\n",
      "Fixed res in residues of interest: 25\n"
     ]
    }
   ],
   "source": [
    "background_crg, fixed_resoi_crg_df, fixed_resoi_crg_dict = msa.fixed_residues_info(mc.fixed_iconfs,\n",
    "                                                                                   conformers,\n",
    "                                                                                   res_of_interest\n",
    "                                                                                  )\n",
    "print(\"Background charge:\", background_crg)\n",
    "n_fixed_resoi = len(fixed_resoi_crg_dict)\n",
    "if n_fixed_resoi:\n",
    "    print(\"Fixed res in residues of interest:\", n_fixed_resoi)\n",
    "    # save to csv:\n",
    "    fixed_resoi_crg_df.to_csv(output_dir.joinpath(\"fixed_crg_resoi.csv\"), index=False)\n",
    "else:\n",
    "    fixed_resoi_crg_df = None\n",
    "    print(\"No fixed residues of interest.\")"
   ]
  },
  {
   "cell_type": "code",
   "execution_count": 162,
   "metadata": {},
   "outputs": [
    {
     "data": {
      "text/html": [
       "<div>\n",
       "<style scoped>\n",
       "    .dataframe tbody tr th:only-of-type {\n",
       "        vertical-align: middle;\n",
       "    }\n",
       "\n",
       "    .dataframe tbody tr th {\n",
       "        vertical-align: top;\n",
       "    }\n",
       "\n",
       "    .dataframe thead th {\n",
       "        text-align: right;\n",
       "    }\n",
       "</style>\n",
       "<table border=\"1\" class=\"dataframe\">\n",
       "  <thead>\n",
       "    <tr style=\"text-align: right;\">\n",
       "      <th></th>\n",
       "      <th>Residue</th>\n",
       "      <th>crg</th>\n",
       "    </tr>\n",
       "  </thead>\n",
       "  <tbody>\n",
       "    <tr>\n",
       "      <th>0</th>\n",
       "      <td>ARGA0005_</td>\n",
       "      <td>1.0</td>\n",
       "    </tr>\n",
       "    <tr>\n",
       "      <th>1</th>\n",
       "      <td>GLUA0007_</td>\n",
       "      <td>-1.0</td>\n",
       "    </tr>\n",
       "    <tr>\n",
       "      <th>2</th>\n",
       "      <td>LYSA0013_</td>\n",
       "      <td>1.0</td>\n",
       "    </tr>\n",
       "  </tbody>\n",
       "</table>\n",
       "</div>"
      ],
      "text/plain": [
       "     Residue  crg\n",
       "0  ARGA0005_  1.0\n",
       "1  GLUA0007_ -1.0\n",
       "2  LYSA0013_  1.0"
      ]
     },
     "execution_count": 162,
     "metadata": {},
     "output_type": "execute_result"
    }
   ],
   "source": [
    "if n_fixed_resoi:\n",
    "    fixed_resoi_crg_df.head(3)"
   ]
  },
  {
   "cell_type": "markdown",
   "metadata": {},
   "source": [
    "#### The following saves sorted microstates attributes (energy, count and microstate state) into a list;\n",
    "The default sort in .sort_microstates() is by energy."
   ]
  },
  {
   "cell_type": "code",
   "execution_count": 25,
   "metadata": {},
   "outputs": [],
   "source": [
    "# mc.sort_microstates() returns a list of sorted ms objects:\n",
    "\n",
    "ms_orig_lst = [[ms.E, ms.count, ms.state] for ms in mc.sort_microstates()]"
   ]
  },
  {
   "cell_type": "markdown",
   "metadata": {},
   "source": [
    "### `ms_orig_lst` holds each microstate's attributes, i.e: [ms.E, ms.count, ms.state] sorted by energy.\n",
    "#### The first attribute is the microstate energy; the second is the multiplicity of that state (mso.microstates holds unique ms info), the last one is the list of conformers in that state.\n",
    "\n",
    "#### The conformer numbers align with head3.lst. Head3.lst starts at 1; ms lists start at 0."
   ]
  },
  {
   "cell_type": "code",
   "execution_count": 13,
   "metadata": {},
   "outputs": [],
   "source": [
    "# Sample data (uncomment to display):\n",
    "\n",
    "#print(ms_orig_lst[:2])"
   ]
  },
  {
   "cell_type": "markdown",
   "metadata": {},
   "source": [
    "### This will map the microstate conformer id to its corresponding charge, and convert the conformer microstates from `mc` to charge microstates:"
   ]
  },
  {
   "cell_type": "code",
   "execution_count": 113,
   "metadata": {},
   "outputs": [],
   "source": [
    "# Map conf index to conf charge:\n",
    "id_vs_charge = msa.iconf2crg(conformers)\n",
    "\n",
    "# This list is identical to ms_orig_lst but now simply give the charge of the coformers selected for each residue.\n",
    "crg_orig_lst = msa.ms2crgms(ms_orig_lst, id_vs_charge)"
   ]
  },
  {
   "cell_type": "code",
   "execution_count": 15,
   "metadata": {},
   "outputs": [],
   "source": [
    "# Sample data (uncomment to display):\n",
    "\n",
    "#print(crg_orig_lst[:2])"
   ]
  },
  {
   "cell_type": "markdown",
   "metadata": {},
   "source": [
    "---\n",
    "# Process the charge microstates into various outputs"
   ]
  },
  {
   "cell_type": "markdown",
   "metadata": {},
   "source": [
    "# [ Cat ]\n",
    "#### Only the unfiltered data is plotted and the corresponding figure saved with a wierd name: output/all_en_cr_ph7_vs_log(count).pdf.\n",
    "#### We could have of the processing bounds saved into a dict & wrap the following processing into one function, but the names of the figures are needed."
   ]
  },
  {
   "cell_type": "markdown",
   "metadata": {},
   "source": [
    "## Unfiltered charge microstates"
   ]
  },
  {
   "cell_type": "code",
   "execution_count": 171,
   "metadata": {},
   "outputs": [
    {
     "name": "stderr",
     "output_type": "stream",
     "text": [
      "[INFO]: find_uniq_crgms_count_order:\n",
      "\tNo energy bounds given: All microstates are selected.\n",
      "[INFO]: find_uniq_crgms_count_order:\n",
      "\tNumber of charge ms: 394,139\n",
      "[INFO]: find_uniq_crgms_count_order:\n",
      "\tNumber of unique charge ms: 15\n"
     ]
    },
    {
     "name": "stdout",
     "output_type": "stream",
     "text": [
      "Size of 'all_crg_ms_unique' (crgms_files[0]): 15\n"
     ]
    }
   ],
   "source": [
    "crgms_files = msa.findUniqueCrgmsCountOrder(crg_orig_lst)\n",
    "print(f\"Size of 'all_crg_ms_unique' (crgms_files[0]): {len(crgms_files[0]):,}\")\n",
    "\n",
    "# crgms_files:\n",
    "#  0: all_crg_ms_unique,\n",
    "#  1: all_count,\n",
    "#  2: unique_crg_state_order,\n",
    "#  3: energy_diff_all (used in plot)\n",
    "\n",
    "all_crg_count_res = msa.ConcaCrgMsPandas(crgms_files[0],\n",
    "                                         crgms_files[1],\n",
    "                                         crgms_files[2], \n",
    "                                         free_residues_df,\n",
    "                                         background_crg,\n",
    "                                         res_of_interest\n",
    "                                         )"
   ]
  },
  {
   "cell_type": "code",
   "execution_count": 17,
   "metadata": {},
   "outputs": [],
   "source": [
    "# Sample data (uncomment to display):\n",
    "\n",
    "#all_crg_count_res.head(3)"
   ]
  },
  {
   "cell_type": "markdown",
   "metadata": {},
   "source": [
    "### This will plot the tautomer charge distribution of unqiue charge microstates based on the occupancy. \n",
    "Each dot are unique charge microstate and color coded based on the energy difference of that microstate appear in Monte Carlo run. Total charge is sum of background and free charge (protein charge)."
   ]
  },
  {
   "cell_type": "code",
   "execution_count": 167,
   "metadata": {},
   "outputs": [
    {
     "name": "stderr",
     "output_type": "stream",
     "text": [
      "[INFO]: jointplot:\n",
      "\tFigure saved: crgms_wc/crgms_logcount_vs_all_E_ph7.pdf\n",
      "[INFO]: jointplot:\n",
      "\tFigure saved: crgms_wc/crgms_logcount_vs_all_E_ph7.png\n"
     ]
    },
    {
     "data": {
      "image/png": "[encoded data removed]",
      "text/plain": [
       "<Figure size 600x600 with 3 Axes>"
      ]
     },
     "metadata": {},
     "output_type": "display_data"
    }
   ],
   "source": [
    "title = \"All Microstates Energy pH7\" \n",
    "msa.jointplot(crgms_files,\n",
    "              background_crg,\n",
    "              title,\n",
    "              out_dir=output_dir,\n",
    "              save_name=\"crgms_logcount_vs_all_E_ph7.pdf\",\n",
    "              show=True)"
   ]
  },
  {
   "cell_type": "markdown",
   "metadata": {},
   "source": [
    "# [ Raihan ]\n",
    "#### A very important thing here in this dot plot we need to be clear what is these dots numbers mean?\n",
    "#### In fact we have a different type of output figure for this. I will share with you. I believe these values are eneergy range of the microstates, but the numbers sometimes do not make sense.\n",
    "---"
   ]
  },
  {
   "cell_type": "markdown",
   "metadata": {},
   "source": [
    "#### This is to get the unique charge microstates >= lowest energy + 1.36 kcal/mol. \n",
    "Make sure your supply list is sorted based on energy in ascending order. \n",
    "The order in the dataframe is within the selected energy range."
   ]
  },
  {
   "cell_type": "code",
   "execution_count": 176,
   "metadata": {},
   "outputs": [
    {
     "name": "stderr",
     "output_type": "stream",
     "text": [
      "[INFO]: find_uniq_crgms_count_order:\n",
      "\tNumber of energy-filtered charge ms: 2,198\n",
      "[INFO]: find_uniq_crgms_count_order:\n",
      "\tNumber of unique charge ms: 2\n"
     ]
    },
    {
     "name": "stdout",
     "output_type": "stream",
     "text": [
      "Using energy bounds (-184.972214, -183.612214)\n"
     ]
    }
   ],
   "source": [
    "begin_E = crg_orig_lst[0][0]\n",
    "end_E = crg_orig_lst[0][0] + 1.36\n",
    "print(f\"Using energy bounds ({begin_E}, {end_E})\")\n",
    "\n",
    "lowest_crgms_files = msa.findUniqueCrgmsCountOrder(crg_orig_lst,\n",
    "                                                   begin_energy = begin_E,\n",
    "                                                   end_energy = end_E\n",
    "                                                   )\n",
    "low_crg_count_res = msa.ConcaCrgMsPandas(lowest_crgms_files[0],\n",
    "                                         lowest_crgms_files[1],\n",
    "                                         lowest_crgms_files[2], \n",
    "                                         free_residues_df,\n",
    "                                         background_charge,\n",
    "                                         res_of_interest)"
   ]
  },
  {
   "cell_type": "code",
   "execution_count": 177,
   "metadata": {},
   "outputs": [],
   "source": [
    "# Sample data (uncomment to display):\n",
    "\n",
    "#low_crg_count_res.head(3) "
   ]
  },
  {
   "cell_type": "code",
   "execution_count": 178,
   "metadata": {},
   "outputs": [
    {
     "name": "stderr",
     "output_type": "stream",
     "text": [
      "[INFO]: jointplot:\n",
      "\tFigure saved: crgms_wc/crgms_logcount_vs_lowest_E.pdf\n",
      "[INFO]: jointplot:\n",
      "\tFigure saved: crgms_wc/crgms_logcount_vs_lowest_E.png\n"
     ]
    },
    {
     "data": {
      "image/png": "[encoded data removed]",
      "text/plain": [
       "<Figure size 600x600 with 3 Axes>"
      ]
     },
     "metadata": {},
     "output_type": "display_data"
    }
   ],
   "source": [
    "title = \"Microstates Energy within 1.36 kcal/mol of Lowest, pH7\" \n",
    "msa.jointplot(lowest_crgms_files,\n",
    "              background_crg,\n",
    "              title,\n",
    "              out_dir=output_dir,\n",
    "              save_name=\"crgms_logcount_vs_lowest_E.pdf\",\n",
    "              show=True)"
   ]
  },
  {
   "cell_type": "markdown",
   "metadata": {},
   "source": [
    "#### This is to get the unique charge microstates within +/- 0.5 pH unit (+/- 0.68 kcal/mol) of average microstate energy"
   ]
  },
  {
   "cell_type": "code",
   "execution_count": 179,
   "metadata": {},
   "outputs": [
    {
     "name": "stderr",
     "output_type": "stream",
     "text": [
      "[INFO]: find_uniq_crgms_count_order:\n",
      "\tNumber of energy-filtered charge ms: 93,790\n"
     ]
    },
    {
     "name": "stdout",
     "output_type": "stream",
     "text": [
      "Using the average microstate energy +/- 0.5 pH unit (+/- 0.68 kcal/mol): (-180.07293514108827, -178.71293514108825)\n"
     ]
    },
    {
     "name": "stderr",
     "output_type": "stream",
     "text": [
      "[INFO]: find_uniq_crgms_count_order:\n",
      "\tNumber of unique charge ms: 9\n"
     ]
    }
   ],
   "source": [
    "begin_mc_aver = mc.average_E - 0.68\n",
    "end_mc_aver = mc.average_E + 0.68\n",
    "print(f\"Using the average microstate energy +/- 0.5 pH unit (+/- 0.68 kcal/mol): ({begin_mc_aver}, {end_mc_aver})\")\n",
    "\n",
    "average_crgms_files = msa.findUniqueCrgmsCountOrder(crg_orig_lst,\n",
    "                                                    begin_energy = begin_mc_aver,\n",
    "                                                    end_energy = end_mc_aver\n",
    "                                                    )\n",
    "av_crg_count_res = msa.ConcaCrgMsPandas(average_crgms_files[0],\n",
    "                                        average_crgms_files[1],\n",
    "                                        average_crgms_files[2], \n",
    "                                        free_residues_df,\n",
    "                                        background_charge,\n",
    "                                        res_of_interest\n",
    "                                       )"
   ]
  },
  {
   "cell_type": "code",
   "execution_count": 24,
   "metadata": {},
   "outputs": [],
   "source": [
    "# Sample data (uncomment to display):\n",
    "\n",
    "#av_crg_count_res.head(3) "
   ]
  },
  {
   "cell_type": "code",
   "execution_count": 180,
   "metadata": {},
   "outputs": [
    {
     "name": "stderr",
     "output_type": "stream",
     "text": [
      "[INFO]: jointplot:\n",
      "\tFigure saved: crgms_wc/crgms_logcount_vs_aver_E.pdf\n",
      "[INFO]: jointplot:\n",
      "\tFigure saved: crgms_wc/crgms_logcount_vs_aver_E.png\n"
     ]
    },
    {
     "data": {
      "image/png": "[encoded data removed]",
      "text/plain": [
       "<Figure size 600x600 with 3 Axes>"
      ]
     },
     "metadata": {},
     "output_type": "display_data"
    }
   ],
   "source": [
    "title = \"Microstates Energy within 0.5 pH unit (0.68 kcal/mol) of Average, pH7\" \n",
    "msa.jointplot(average_crgms_files,\n",
    "              background_crg,\n",
    "              title,\n",
    "              out_dir=output_dir,\n",
    "              save_name=\"crgms_logcount_vs_aver_E.pdf\",\n",
    "              show=True)"
   ]
  },
  {
   "cell_type": "markdown",
   "metadata": {},
   "source": [
    "#### This is to get the unique charge microstates >= 1 KT unit (1.36 kcal/mol) of highest microstate energy"
   ]
  },
  {
   "cell_type": "code",
   "execution_count": 181,
   "metadata": {},
   "outputs": [
    {
     "name": "stderr",
     "output_type": "stream",
     "text": [
      "[INFO]: find_uniq_crgms_count_order:\n",
      "\tNumber of energy-filtered charge ms: 9\n",
      "[INFO]: find_uniq_crgms_count_order:\n",
      "\tNumber of unique charge ms: 3\n"
     ]
    }
   ],
   "source": [
    "highest_crgms_files = msa.findUniqueCrgmsCountOrder(crg_orig_lst,\n",
    "                                                    begin_energy = (mc.highest_E - 1.36),\n",
    "                                                    end_energy = mc.highest_E\n",
    "                                                    )\n",
    "high_crg_count_res = msa.ConcaCrgMsPandas(highest_crgms_files[0],\n",
    "                                          highest_crgms_files[1],\n",
    "                                          highest_crgms_files[2], \n",
    "                                          free_residues_df,\n",
    "                                          background_charge,\n",
    "                                          res_of_interest)"
   ]
  },
  {
   "cell_type": "code",
   "execution_count": 28,
   "metadata": {},
   "outputs": [],
   "source": [
    "# Sample data (uncomment to display):\n",
    "\n",
    "#high_crg_count_res.head(3) "
   ]
  },
  {
   "cell_type": "code",
   "execution_count": 182,
   "metadata": {},
   "outputs": [
    {
     "name": "stderr",
     "output_type": "stream",
     "text": [
      "[INFO]: jointplot:\n",
      "\tFigure saved: crgms_wc/crgms_logcount_vs_highest_E.pdf\n",
      "[INFO]: jointplot:\n",
      "\tFigure saved: crgms_wc/crgms_logcount_vs_highest_E.png\n"
     ]
    },
    {
     "data": {
      "image/png": "[encoded data removed]",
      "text/plain": [
       "<Figure size 600x600 with 3 Axes>"
      ]
     },
     "metadata": {},
     "output_type": "display_data"
    }
   ],
   "source": [
    "title = \"Microstates Energy within 1.36 kcal/mol of highest, pH7\"\n",
    "msa.jointplot(highest_crgms_files,\n",
    "              background_crg,\n",
    "              title,\n",
    "              out_dir=output_dir,\n",
    "              save_name=\"crgms_logcount_vs_highest_E.pdf\",\n",
    "              show=True)"
   ]
  },
  {
   "cell_type": "markdown",
   "metadata": {},
   "source": [
    "# TODO:\n",
    " * try these other plotting fns:\n",
    "   - 'plot_hist_by_ms_energy'\n",
    "   - 'plots_unique_crg_histogram'"
   ]
  },
  {
   "cell_type": "markdown",
   "metadata": {},
   "source": [
    "## Save all these 3 DataFrames and non titrable residues charge information:\n",
    " * low_crg_count_res\n",
    " * av_crg_count_res\n",
    " * high_crg_count_res\n",
    " * fixed_resoi_crg_df"
   ]
  },
  {
   "cell_type": "code",
   "execution_count": 30,
   "metadata": {},
   "outputs": [
    {
     "name": "stdout",
     "output_type": "stream",
     "text": [
      "The excel writer engine must be installed; No module named 'xlsxwriter'\n"
     ]
    }
   ],
   "source": [
    "# Writing to Excel will fail if xlswriter is not installed:\n",
    "# see https://anaconda.org/conda-forge/xlsxwriter\n",
    "try:\n",
    "    # this will be a user specified name:\n",
    "    xl_filename = \"charge_ms_dry2_semi_pH7.xlsx\"\n",
    "    outfile_xl = output_dir.joinpath(xl_filename)\n",
    "\n",
    "    # Create an ExcelWriter object\n",
    "    with pd.ExcelWriter(outfile_xl,\n",
    "                        engine=\"xlsxwriter\"\n",
    "                       ) as writer:\n",
    "        # Write your dataframes to different sheets\n",
    "        low_crg_count_res.to_excel(writer, sheet_name='low_crg_count_res')\n",
    "        av_crg_count_res.to_excel(writer, sheet_name='av_crg_count_res')\n",
    "        high_crg_count_res.to_excel(writer, sheet_name='high_crg_count_res')\n",
    "        fixed_resoi_crg_df.to_excel(writer, sheet_name='fixed_residues_crg')\n",
    "\n",
    "        # Save the Excel file\n",
    "        writer.save()\n",
    "        print(f\"Saved Excel file {outfile_xl!s}.\")\n",
    "\n",
    "except Exception as e:\n",
    "    if type(e).__name__ == \"ModuleNotFoundError\":\n",
    "        print(\"The excel writer engine must be installed;\", e)\n",
    "    else:\n",
    "        print(f\"Error occurred while saving Excel file: {str(e)}\")"
   ]
  },
  {
   "cell_type": "code",
   "execution_count": null,
   "metadata": {},
   "outputs": [],
   "source": [
    "if n_fixed_resoi:\n",
    "    fixed_resoi_crg_df.head(3)"
   ]
  },
  {
   "cell_type": "code",
   "execution_count": 183,
   "metadata": {},
   "outputs": [
    {
     "name": "stdout",
     "output_type": "stream",
     "text": [
      "DataFrame all_crg_count_res saved to crgms_wc/all_crg_count_res.csv.\n"
     ]
    }
   ],
   "source": [
    "# Save all_crg_count_res DataFrame to a CSV file:\n",
    "# Due to column size issue in excel for large sytem. We save all_crg_count_res in csv format.\n",
    "\n",
    "crg_count_csv = output_dir.joinpath(\"all_crg_count_res.csv\")\n",
    "\n",
    "try:\n",
    "    all_crg_count_res.to_csv(crg_count_csv, header=True)\n",
    "    print(f\"DataFrame all_crg_count_res saved to {crg_count_csv!s}.\")\n",
    "\n",
    "except Exception as e:\n",
    "    print(f\"Error occurred while saving all_crg_count_res to csv file: {str(e)}\")"
   ]
  },
  {
   "cell_type": "markdown",
   "metadata": {},
   "source": [
    "---\n",
    "# Post-processing of already saved main crgms file to get the correlation matrix for residues. "
   ]
  },
  {
   "cell_type": "code",
   "execution_count": 195,
   "metadata": {},
   "outputs": [
    {
     "data": {
      "text/html": [
       "<div>\n",
       "<style scoped>\n",
       "    .dataframe tbody tr th:only-of-type {\n",
       "        vertical-align: middle;\n",
       "    }\n",
       "\n",
       "    .dataframe tbody tr th {\n",
       "        vertical-align: top;\n",
       "    }\n",
       "\n",
       "    .dataframe thead th {\n",
       "        text-align: right;\n",
       "    }\n",
       "</style>\n",
       "<table border=\"1\" class=\"dataframe\">\n",
       "  <thead>\n",
       "    <tr style=\"text-align: right;\">\n",
       "      <th></th>\n",
       "      <th>NTRA0001_</th>\n",
       "      <th>LYSA0001_</th>\n",
       "      <th>HISA0015_</th>\n",
       "      <th>TYRA0020_</th>\n",
       "      <th>TYRA0023_</th>\n",
       "      <th>GLUA0035_</th>\n",
       "      <th>ASPA0119_</th>\n",
       "      <th>Count</th>\n",
       "      <th>Occupancy</th>\n",
       "      <th>Sum_crg_protein</th>\n",
       "    </tr>\n",
       "    <tr>\n",
       "      <th>Order</th>\n",
       "      <th></th>\n",
       "      <th></th>\n",
       "      <th></th>\n",
       "      <th></th>\n",
       "      <th></th>\n",
       "      <th></th>\n",
       "      <th></th>\n",
       "      <th></th>\n",
       "      <th></th>\n",
       "      <th></th>\n",
       "    </tr>\n",
       "  </thead>\n",
       "  <tbody>\n",
       "    <tr>\n",
       "      <th>1.0</th>\n",
       "      <td>0.0</td>\n",
       "      <td>1.0</td>\n",
       "      <td>0.0</td>\n",
       "      <td>0.0</td>\n",
       "      <td>0.0</td>\n",
       "      <td>-1.0</td>\n",
       "      <td>-1.0</td>\n",
       "      <td>902236.0</td>\n",
       "      <td>0.601</td>\n",
       "      <td>7.0</td>\n",
       "    </tr>\n",
       "    <tr>\n",
       "      <th>2.0</th>\n",
       "      <td>0.0</td>\n",
       "      <td>1.0</td>\n",
       "      <td>1.0</td>\n",
       "      <td>0.0</td>\n",
       "      <td>0.0</td>\n",
       "      <td>-1.0</td>\n",
       "      <td>-1.0</td>\n",
       "      <td>545491.0</td>\n",
       "      <td>0.364</td>\n",
       "      <td>8.0</td>\n",
       "    </tr>\n",
       "    <tr>\n",
       "      <th>3.0</th>\n",
       "      <td>0.0</td>\n",
       "      <td>1.0</td>\n",
       "      <td>0.0</td>\n",
       "      <td>0.0</td>\n",
       "      <td>0.0</td>\n",
       "      <td>0.0</td>\n",
       "      <td>-1.0</td>\n",
       "      <td>18153.0</td>\n",
       "      <td>0.012</td>\n",
       "      <td>8.0</td>\n",
       "    </tr>\n",
       "    <tr>\n",
       "      <th>4.0</th>\n",
       "      <td>1.0</td>\n",
       "      <td>1.0</td>\n",
       "      <td>0.0</td>\n",
       "      <td>0.0</td>\n",
       "      <td>0.0</td>\n",
       "      <td>-1.0</td>\n",
       "      <td>-1.0</td>\n",
       "      <td>11926.0</td>\n",
       "      <td>0.008</td>\n",
       "      <td>8.0</td>\n",
       "    </tr>\n",
       "    <tr>\n",
       "      <th>5.0</th>\n",
       "      <td>0.0</td>\n",
       "      <td>1.0</td>\n",
       "      <td>1.0</td>\n",
       "      <td>0.0</td>\n",
       "      <td>0.0</td>\n",
       "      <td>0.0</td>\n",
       "      <td>-1.0</td>\n",
       "      <td>10356.0</td>\n",
       "      <td>0.007</td>\n",
       "      <td>9.0</td>\n",
       "    </tr>\n",
       "    <tr>\n",
       "      <th>6.0</th>\n",
       "      <td>1.0</td>\n",
       "      <td>1.0</td>\n",
       "      <td>1.0</td>\n",
       "      <td>0.0</td>\n",
       "      <td>0.0</td>\n",
       "      <td>-1.0</td>\n",
       "      <td>-1.0</td>\n",
       "      <td>7470.0</td>\n",
       "      <td>0.005</td>\n",
       "      <td>9.0</td>\n",
       "    </tr>\n",
       "    <tr>\n",
       "      <th>8.0</th>\n",
       "      <td>0.0</td>\n",
       "      <td>0.0</td>\n",
       "      <td>0.0</td>\n",
       "      <td>0.0</td>\n",
       "      <td>0.0</td>\n",
       "      <td>-1.0</td>\n",
       "      <td>-1.0</td>\n",
       "      <td>2214.0</td>\n",
       "      <td>0.001</td>\n",
       "      <td>6.0</td>\n",
       "    </tr>\n",
       "    <tr>\n",
       "      <th>7.0</th>\n",
       "      <td>0.0</td>\n",
       "      <td>0.0</td>\n",
       "      <td>1.0</td>\n",
       "      <td>0.0</td>\n",
       "      <td>0.0</td>\n",
       "      <td>-1.0</td>\n",
       "      <td>-1.0</td>\n",
       "      <td>1385.0</td>\n",
       "      <td>0.001</td>\n",
       "      <td>7.0</td>\n",
       "    </tr>\n",
       "    <tr>\n",
       "      <th>9.0</th>\n",
       "      <td>0.0</td>\n",
       "      <td>1.0</td>\n",
       "      <td>0.0</td>\n",
       "      <td>0.0</td>\n",
       "      <td>0.0</td>\n",
       "      <td>-1.0</td>\n",
       "      <td>0.0</td>\n",
       "      <td>250.0</td>\n",
       "      <td>0.000</td>\n",
       "      <td>8.0</td>\n",
       "    </tr>\n",
       "    <tr>\n",
       "      <th>10.0</th>\n",
       "      <td>0.0</td>\n",
       "      <td>1.0</td>\n",
       "      <td>1.0</td>\n",
       "      <td>0.0</td>\n",
       "      <td>0.0</td>\n",
       "      <td>-1.0</td>\n",
       "      <td>0.0</td>\n",
       "      <td>162.0</td>\n",
       "      <td>0.000</td>\n",
       "      <td>9.0</td>\n",
       "    </tr>\n",
       "    <tr>\n",
       "      <th>12.0</th>\n",
       "      <td>1.0</td>\n",
       "      <td>1.0</td>\n",
       "      <td>0.0</td>\n",
       "      <td>0.0</td>\n",
       "      <td>0.0</td>\n",
       "      <td>0.0</td>\n",
       "      <td>-1.0</td>\n",
       "      <td>161.0</td>\n",
       "      <td>0.000</td>\n",
       "      <td>9.0</td>\n",
       "    </tr>\n",
       "    <tr>\n",
       "      <th>13.0</th>\n",
       "      <td>1.0</td>\n",
       "      <td>1.0</td>\n",
       "      <td>1.0</td>\n",
       "      <td>0.0</td>\n",
       "      <td>0.0</td>\n",
       "      <td>0.0</td>\n",
       "      <td>-1.0</td>\n",
       "      <td>105.0</td>\n",
       "      <td>0.000</td>\n",
       "      <td>10.0</td>\n",
       "    </tr>\n",
       "    <tr>\n",
       "      <th>15.0</th>\n",
       "      <td>1.0</td>\n",
       "      <td>0.0</td>\n",
       "      <td>0.0</td>\n",
       "      <td>0.0</td>\n",
       "      <td>0.0</td>\n",
       "      <td>-1.0</td>\n",
       "      <td>-1.0</td>\n",
       "      <td>46.0</td>\n",
       "      <td>0.000</td>\n",
       "      <td>7.0</td>\n",
       "    </tr>\n",
       "    <tr>\n",
       "      <th>14.0</th>\n",
       "      <td>1.0</td>\n",
       "      <td>1.0</td>\n",
       "      <td>0.0</td>\n",
       "      <td>0.0</td>\n",
       "      <td>0.0</td>\n",
       "      <td>-1.0</td>\n",
       "      <td>0.0</td>\n",
       "      <td>30.0</td>\n",
       "      <td>0.000</td>\n",
       "      <td>9.0</td>\n",
       "    </tr>\n",
       "    <tr>\n",
       "      <th>11.0</th>\n",
       "      <td>1.0</td>\n",
       "      <td>0.0</td>\n",
       "      <td>1.0</td>\n",
       "      <td>0.0</td>\n",
       "      <td>0.0</td>\n",
       "      <td>-1.0</td>\n",
       "      <td>-1.0</td>\n",
       "      <td>15.0</td>\n",
       "      <td>0.000</td>\n",
       "      <td>8.0</td>\n",
       "    </tr>\n",
       "  </tbody>\n",
       "</table>\n",
       "</div>"
      ],
      "text/plain": [
       "       NTRA0001_  LYSA0001_  HISA0015_  TYRA0020_  TYRA0023_  GLUA0035_  \\\n",
       "Order                                                                     \n",
       "1.0          0.0        1.0        0.0        0.0        0.0       -1.0   \n",
       "2.0          0.0        1.0        1.0        0.0        0.0       -1.0   \n",
       "3.0          0.0        1.0        0.0        0.0        0.0        0.0   \n",
       "4.0          1.0        1.0        0.0        0.0        0.0       -1.0   \n",
       "5.0          0.0        1.0        1.0        0.0        0.0        0.0   \n",
       "6.0          1.0        1.0        1.0        0.0        0.0       -1.0   \n",
       "8.0          0.0        0.0        0.0        0.0        0.0       -1.0   \n",
       "7.0          0.0        0.0        1.0        0.0        0.0       -1.0   \n",
       "9.0          0.0        1.0        0.0        0.0        0.0       -1.0   \n",
       "10.0         0.0        1.0        1.0        0.0        0.0       -1.0   \n",
       "12.0         1.0        1.0        0.0        0.0        0.0        0.0   \n",
       "13.0         1.0        1.0        1.0        0.0        0.0        0.0   \n",
       "15.0         1.0        0.0        0.0        0.0        0.0       -1.0   \n",
       "14.0         1.0        1.0        0.0        0.0        0.0       -1.0   \n",
       "11.0         1.0        0.0        1.0        0.0        0.0       -1.0   \n",
       "\n",
       "       ASPA0119_     Count  Occupancy  Sum_crg_protein  \n",
       "Order                                                   \n",
       "1.0         -1.0  902236.0      0.601              7.0  \n",
       "2.0         -1.0  545491.0      0.364              8.0  \n",
       "3.0         -1.0   18153.0      0.012              8.0  \n",
       "4.0         -1.0   11926.0      0.008              8.0  \n",
       "5.0         -1.0   10356.0      0.007              9.0  \n",
       "6.0         -1.0    7470.0      0.005              9.0  \n",
       "8.0         -1.0    2214.0      0.001              6.0  \n",
       "7.0         -1.0    1385.0      0.001              7.0  \n",
       "9.0          0.0     250.0      0.000              8.0  \n",
       "10.0         0.0     162.0      0.000              9.0  \n",
       "12.0        -1.0     161.0      0.000              9.0  \n",
       "13.0        -1.0     105.0      0.000             10.0  \n",
       "15.0        -1.0      46.0      0.000              7.0  \n",
       "14.0         0.0      30.0      0.000              9.0  \n",
       "11.0        -1.0      15.0      0.000              8.0  "
      ]
     },
     "execution_count": 195,
     "metadata": {},
     "output_type": "execute_result"
    }
   ],
   "source": [
    "# This is for correlation.\n",
    "\n",
    "all_crg_count_read = pd.read_csv(crg_count_csv, index_col=0)\n",
    "all_crg_count_read "
   ]
  },
  {
   "cell_type": "code",
   "execution_count": 198,
   "metadata": {},
   "outputs": [
    {
     "name": "stderr",
     "output_type": "stream",
     "text": [
      "[INFO]: changing_residues_df:\n",
      "\tNumber of residues that change protonation state: 5\n"
     ]
    }
   ],
   "source": [
    "# drop if the protonation is not changing in free residues\n",
    "\n",
    "all_crg_change_df = msa.changing_residues_df(all_crg_count_read)"
   ]
  },
  {
   "cell_type": "markdown",
   "metadata": {},
   "source": [
    "# TODO:\n",
    " * Output file ~ \"crg_count_res_of_interest\"\n",
    " * After heatmap: Add fixed res of interest in same file for saving\n",
    " * Sort matrix to prevent \"scattered hot spots\""
   ]
  },
  {
   "cell_type": "code",
   "execution_count": 200,
   "metadata": {},
   "outputs": [
    {
     "data": {
      "text/html": [
       "<div>\n",
       "<style scoped>\n",
       "    .dataframe tbody tr th:only-of-type {\n",
       "        vertical-align: middle;\n",
       "    }\n",
       "\n",
       "    .dataframe tbody tr th {\n",
       "        vertical-align: top;\n",
       "    }\n",
       "\n",
       "    .dataframe thead th {\n",
       "        text-align: right;\n",
       "    }\n",
       "</style>\n",
       "<table border=\"1\" class=\"dataframe\">\n",
       "  <thead>\n",
       "    <tr style=\"text-align: right;\">\n",
       "      <th></th>\n",
       "      <th>GLUA0035_</th>\n",
       "      <th>HISA0015_</th>\n",
       "      <th>ASPA0119_</th>\n",
       "      <th>Count</th>\n",
       "      <th>Occupancy</th>\n",
       "    </tr>\n",
       "  </thead>\n",
       "  <tbody>\n",
       "    <tr>\n",
       "      <th>0</th>\n",
       "      <td>-1.0</td>\n",
       "      <td>0.0</td>\n",
       "      <td>-1.0</td>\n",
       "      <td>916422.0</td>\n",
       "      <td>0.61</td>\n",
       "    </tr>\n",
       "    <tr>\n",
       "      <th>1</th>\n",
       "      <td>-1.0</td>\n",
       "      <td>1.0</td>\n",
       "      <td>-1.0</td>\n",
       "      <td>554361.0</td>\n",
       "      <td>0.37</td>\n",
       "    </tr>\n",
       "    <tr>\n",
       "      <th>2</th>\n",
       "      <td>0.0</td>\n",
       "      <td>0.0</td>\n",
       "      <td>-1.0</td>\n",
       "      <td>18314.0</td>\n",
       "      <td>0.01</td>\n",
       "    </tr>\n",
       "    <tr>\n",
       "      <th>3</th>\n",
       "      <td>0.0</td>\n",
       "      <td>1.0</td>\n",
       "      <td>-1.0</td>\n",
       "      <td>10461.0</td>\n",
       "      <td>0.01</td>\n",
       "    </tr>\n",
       "    <tr>\n",
       "      <th>4</th>\n",
       "      <td>-1.0</td>\n",
       "      <td>0.0</td>\n",
       "      <td>0.0</td>\n",
       "      <td>280.0</td>\n",
       "      <td>0.00</td>\n",
       "    </tr>\n",
       "    <tr>\n",
       "      <th>5</th>\n",
       "      <td>-1.0</td>\n",
       "      <td>1.0</td>\n",
       "      <td>0.0</td>\n",
       "      <td>162.0</td>\n",
       "      <td>0.00</td>\n",
       "    </tr>\n",
       "  </tbody>\n",
       "</table>\n",
       "</div>"
      ],
      "text/plain": [
       "   GLUA0035_  HISA0015_  ASPA0119_     Count  Occupancy\n",
       "0       -1.0        0.0       -1.0  916422.0       0.61\n",
       "1       -1.0        1.0       -1.0  554361.0       0.37\n",
       "2        0.0        0.0       -1.0   18314.0       0.01\n",
       "3        0.0        1.0       -1.0   10461.0       0.01\n",
       "4       -1.0        0.0        0.0     280.0       0.00\n",
       "5       -1.0        1.0        0.0     162.0       0.00"
      ]
     },
     "execution_count": 200,
     "metadata": {},
     "output_type": "execute_result"
    }
   ],
   "source": [
    "# this is for demo: choose your favorite resids:\n",
    "\n",
    "df_choose_res_data = msa.choose_res_data(all_crg_change_df, choose_res)\n",
    "df_choose_res_data[\"Occupancy\"] = round(df_choose_res_data[\"Count\"]/sum(df_choose_res_data[\"Count\"]), 2)\n",
    "df_choose_res_data\n",
    "\n",
    "file_name = f\"cluster{len(choose_res)}_crg_count_res.csv\"\n",
    "df_choose_res_data.to_csv(output_dir.joinpath(file_name), header=True)"
   ]
  },
  {
   "cell_type": "code",
   "execution_count": 201,
   "metadata": {},
   "outputs": [
    {
     "data": {
      "text/html": [
       "<div>\n",
       "<style scoped>\n",
       "    .dataframe tbody tr th:only-of-type {\n",
       "        vertical-align: middle;\n",
       "    }\n",
       "\n",
       "    .dataframe tbody tr th {\n",
       "        vertical-align: top;\n",
       "    }\n",
       "\n",
       "    .dataframe thead th {\n",
       "        text-align: right;\n",
       "    }\n",
       "</style>\n",
       "<table border=\"1\" class=\"dataframe\">\n",
       "  <thead>\n",
       "    <tr style=\"text-align: right;\">\n",
       "      <th></th>\n",
       "      <th>AE35</th>\n",
       "      <th>AD119</th>\n",
       "      <th>AH15</th>\n",
       "      <th>Count</th>\n",
       "    </tr>\n",
       "  </thead>\n",
       "  <tbody>\n",
       "    <tr>\n",
       "      <th>0</th>\n",
       "      <td>-1.0</td>\n",
       "      <td>-1.0</td>\n",
       "      <td>0.0</td>\n",
       "      <td>916422.0</td>\n",
       "    </tr>\n",
       "    <tr>\n",
       "      <th>1</th>\n",
       "      <td>-1.0</td>\n",
       "      <td>-1.0</td>\n",
       "      <td>1.0</td>\n",
       "      <td>554361.0</td>\n",
       "    </tr>\n",
       "    <tr>\n",
       "      <th>2</th>\n",
       "      <td>0.0</td>\n",
       "      <td>-1.0</td>\n",
       "      <td>0.0</td>\n",
       "      <td>18314.0</td>\n",
       "    </tr>\n",
       "    <tr>\n",
       "      <th>3</th>\n",
       "      <td>0.0</td>\n",
       "      <td>-1.0</td>\n",
       "      <td>1.0</td>\n",
       "      <td>10461.0</td>\n",
       "    </tr>\n",
       "    <tr>\n",
       "      <th>4</th>\n",
       "      <td>-1.0</td>\n",
       "      <td>0.0</td>\n",
       "      <td>0.0</td>\n",
       "      <td>280.0</td>\n",
       "    </tr>\n",
       "    <tr>\n",
       "      <th>5</th>\n",
       "      <td>-1.0</td>\n",
       "      <td>0.0</td>\n",
       "      <td>1.0</td>\n",
       "      <td>162.0</td>\n",
       "    </tr>\n",
       "  </tbody>\n",
       "</table>\n",
       "</div>"
      ],
      "text/plain": [
       "   AE35  AD119  AH15     Count\n",
       "0  -1.0   -1.0   0.0  916422.0\n",
       "1  -1.0   -1.0   1.0  554361.0\n",
       "2   0.0   -1.0   0.0   18314.0\n",
       "3   0.0   -1.0   1.0   10461.0\n",
       "4  -1.0    0.0   0.0     280.0\n",
       "5  -1.0    0.0   1.0     162.0"
      ]
     },
     "execution_count": 201,
     "metadata": {},
     "output_type": "execute_result"
    }
   ],
   "source": [
    "df_chosen_res_renamed = msa.renameOrderResidues(df_choose_res_data)\n",
    "df_chosen_res_renamed"
   ]
  },
  {
   "cell_type": "markdown",
   "metadata": {},
   "source": [
    "# TODO: Check size of df: if not > 1: no need for correlation processing"
   ]
  },
  {
   "cell_type": "markdown",
   "metadata": {},
   "source": [
    "# Weighted correlation"
   ]
  },
  {
   "cell_type": "code",
   "execution_count": 202,
   "metadata": {},
   "outputs": [
    {
     "data": {
      "text/html": [
       "<div>\n",
       "<style scoped>\n",
       "    .dataframe tbody tr th:only-of-type {\n",
       "        vertical-align: middle;\n",
       "    }\n",
       "\n",
       "    .dataframe tbody tr th {\n",
       "        vertical-align: top;\n",
       "    }\n",
       "\n",
       "    .dataframe thead th {\n",
       "        text-align: right;\n",
       "    }\n",
       "</style>\n",
       "<table border=\"1\" class=\"dataframe\">\n",
       "  <thead>\n",
       "    <tr style=\"text-align: right;\">\n",
       "      <th></th>\n",
       "      <th>AE35</th>\n",
       "      <th>AD119</th>\n",
       "      <th>AH15</th>\n",
       "    </tr>\n",
       "  </thead>\n",
       "  <tbody>\n",
       "    <tr>\n",
       "      <th>AE35</th>\n",
       "      <td>1.000000</td>\n",
       "      <td>-0.002401</td>\n",
       "      <td>-0.003784</td>\n",
       "    </tr>\n",
       "    <tr>\n",
       "      <th>AD119</th>\n",
       "      <td>-0.002401</td>\n",
       "      <td>1.000000</td>\n",
       "      <td>-0.000359</td>\n",
       "    </tr>\n",
       "    <tr>\n",
       "      <th>AH15</th>\n",
       "      <td>-0.003784</td>\n",
       "      <td>-0.000359</td>\n",
       "      <td>1.000000</td>\n",
       "    </tr>\n",
       "  </tbody>\n",
       "</table>\n",
       "</div>"
      ],
      "text/plain": [
       "           AE35     AD119      AH15\n",
       "AE35   1.000000 -0.002401 -0.003784\n",
       "AD119 -0.002401  1.000000 -0.000359\n",
       "AH15  -0.003784 -0.000359  1.000000"
      ]
     },
     "execution_count": 202,
     "metadata": {},
     "output_type": "execute_result"
    }
   ],
   "source": [
    "if df_chosen_res_renamed.shape[0] > 1:\n",
    "    df_correlation = msa.WeightedCorr(df=df_chosen_res_renamed, wcol=\"Count\")(method=\"pearson\")\n",
    "    df_correlation\n",
    "else:\n",
    "    print(\"Too few rows for correlation.\")"
   ]
  },
  {
   "cell_type": "raw",
   "metadata": {},
   "source": [
    "# no difference!\n",
    "df_correlation2 = msa.WeightedCorr(df=df_chosen_res_renamed, wcol=\"Count\")(method=\"spearman\")\n",
    "df_correlation2"
   ]
  },
  {
   "cell_type": "markdown",
   "metadata": {},
   "source": [
    "## FIX: Does not work.\n",
    "#### what is the expected output?"
   ]
  },
  {
   "cell_type": "raw",
   "metadata": {},
   "source": [
    "def dropCorrCriterion(data_frame, cutoff=0.1):\n",
    "    \"\"\"\n",
    "    Drop the residues if any of the correlation value is not greater than 0.1 except that residues.\n",
    "    \"\"\"\n",
    "    if not cutoff:\n",
    "        for i in data_frame.columns:\n",
    "            if list(abs(data_frame[i]) >= cutoff).count(True) == 1:\n",
    "                data_frame.drop(i, inplace=True)\n",
    "                data_frame.drop(i, axis=1, inplace=True)\n",
    "\n",
    "    return data_frame\n",
    "\n",
    "df_corr_drop = dropCorrCriterion(df_correlation)\n",
    "df_corr_drop"
   ]
  },
  {
   "cell_type": "markdown",
   "metadata": {},
   "source": [
    "## Create a heatmap to display the residue correlation:\n",
    " * Kept `correl_heatmap` in notebook for tweaking"
   ]
  },
  {
   "cell_type": "markdown",
   "metadata": {},
   "source": [
    " * Existing function: `msa.corr_heat_map`\n",
    " ```\n",
    "    def corr_heat_map(df_corr: pd.DataFrame, out_dir: Path, save_name: str = \"corr.pdf\", show: bool = False):\n",
    " ```"
   ]
  },
  {
   "cell_type": "code",
   "execution_count": 203,
   "metadata": {},
   "outputs": [
    {
     "name": "stderr",
     "output_type": "stream",
     "text": [
      "[INFO]: corr_heat_map:\n",
      "\tCorrelation heat map saved as crgms_wc/corr.pdf\n"
     ]
    },
    {
     "data": {
      "image/png": "[encoded data removed]",
      "text/plain": [
       "<Figure size 2500x800 with 2 Axes>"
      ]
     },
     "metadata": {},
     "output_type": "display_data"
    }
   ],
   "source": [
    "msa.corr_heat_map(df_correlation,\n",
    "                  out_dir=output_dir,\n",
    "                  save_name=\"corr.pdf\",\n",
    "                  show=True)"
   ]
  },
  {
   "cell_type": "code",
   "execution_count": 40,
   "metadata": {},
   "outputs": [],
   "source": [
    "def correl_heatmap(correl_df: pd.DataFrame, out_dir: str, fig_name: str, show: bool = False):\n",
    "    \n",
    "    plt.figure(figsize=(25, 8))\n",
    "    cmap = ListedColormap([\"darkred\", \"red\", \"pink\", \"lightgray\",\"skyblue\", \"blue\", \"darkblue\"])\n",
    "    bounds = [-1.0, -0.5, -0.3, -0.1, 0.1, 0.3, 0.5, 1.0]\n",
    "    norm = BoundaryNorm(bounds, cmap.N)\n",
    "    heatmap = sns.heatmap(correl_df,\n",
    "                          linecolor=\"gray\",\n",
    "                          cmap=cmap,\n",
    "                          norm=norm,\n",
    "                          square=True,\n",
    "                          fmt=\".2f\",\n",
    "                          linewidths=.01,\n",
    "                          annot=True,\n",
    "                          annot_kws={\"fontsize\":12}\n",
    "                         )\n",
    "    heatmap.set_title(\"Loaded\", fontdict={\"fontsize\":18}, pad=16)\n",
    "    cbar = heatmap.collections[0].colorbar\n",
    "    cbar.ax.tick_params(labelsize=20)\n",
    "    \n",
    "    plt.ylabel(None)\n",
    "    plt.xlabel(None)\n",
    "    plt.yticks(fontsize = 15, rotation = 0)\n",
    "    plt.xticks(fontsize = 15, rotation = 90)\n",
    "\n",
    "    corr_pdf = Path(out_dir).joinpath(fig_name)\n",
    "    plt.savefig(corr_pdf, dpi=600, bbox_inches=\"tight\");\n",
    "    print(f\"Figure saved: {corr_pdf!s}\")\n",
    "    if show:\n",
    "        plt.show()\n",
    "\n",
    "    return"
   ]
  },
  {
   "cell_type": "code",
   "execution_count": 41,
   "metadata": {},
   "outputs": [
    {
     "name": "stdout",
     "output_type": "stream",
     "text": [
      "Using correl_heatmap:\n",
      "Figure saved: crgms_wc/corr.pdf\n"
     ]
    },
    {
     "data": {
      "image/png": "[encoded data removed]",
      "text/plain": [
       "<Figure size 2500x800 with 2 Axes>"
      ]
     },
     "metadata": {},
     "output_type": "display_data"
    }
   ],
   "source": [
    "print(\"Using correl_heatmap:\")\n",
    "\n",
    "correl_heatmap(df_correlation, \n",
    "               out_dir=output_dir, fig_name=\"corr.pdf\",\n",
    "               show=True)"
   ]
  },
  {
   "cell_type": "code",
   "execution_count": 45,
   "metadata": {},
   "outputs": [
    {
     "data": {
      "text/plain": [
       "\u001b[0;31mSignature:\u001b[0m\n",
       "\u001b[0mmsa\u001b[0m\u001b[0;34m.\u001b[0m\u001b[0mplots_unique_crg_histogram\u001b[0m\u001b[0;34m(\u001b[0m\u001b[0;34m\u001b[0m\n",
       "\u001b[0;34m\u001b[0m    \u001b[0mcharge_ms_info\u001b[0m\u001b[0;34m:\u001b[0m \u001b[0mtuple\u001b[0m\u001b[0;34m,\u001b[0m\u001b[0;34m\u001b[0m\n",
       "\u001b[0;34m\u001b[0m    \u001b[0mbackground_charge\u001b[0m\u001b[0;34m:\u001b[0m \u001b[0mfloat\u001b[0m\u001b[0;34m,\u001b[0m\u001b[0;34m\u001b[0m\n",
       "\u001b[0;34m\u001b[0m    \u001b[0mout_dir\u001b[0m\u001b[0;34m:\u001b[0m \u001b[0mpathlib\u001b[0m\u001b[0;34m.\u001b[0m\u001b[0mPath\u001b[0m\u001b[0;34m,\u001b[0m\u001b[0;34m\u001b[0m\n",
       "\u001b[0;34m\u001b[0m    \u001b[0msave_name\u001b[0m\u001b[0;34m:\u001b[0m \u001b[0mstr\u001b[0m\u001b[0;34m,\u001b[0m\u001b[0;34m\u001b[0m\n",
       "\u001b[0;34m\u001b[0m    \u001b[0mshow\u001b[0m\u001b[0;34m:\u001b[0m \u001b[0mbool\u001b[0m \u001b[0;34m=\u001b[0m \u001b[0;32mFalse\u001b[0m\u001b[0;34m,\u001b[0m\u001b[0;34m\u001b[0m\n",
       "\u001b[0;34m\u001b[0m\u001b[0;34m)\u001b[0m\u001b[0;34m\u001b[0m\u001b[0;34m\u001b[0m\u001b[0m\n",
       "\u001b[0;31mDocstring:\u001b[0m\n",
       "Visualize which tautomer charge state is most populated.\n",
       "This includes the background charge.\n",
       "\u001b[0;31mFile:\u001b[0m      ~/projects/raihan/python/microstate_analysis_code/ms_analysis_wc.py\n",
       "\u001b[0;31mType:\u001b[0m      function"
      ]
     },
     "metadata": {},
     "output_type": "display_data"
    }
   ],
   "source": [
    "msa.plots_unique_crg_histogram?"
   ]
  },
  {
   "cell_type": "code",
   "execution_count": 48,
   "metadata": {},
   "outputs": [
    {
     "data": {
      "text/plain": [
       "\u001b[0;31mSignature:\u001b[0m\n",
       "\u001b[0mmsa\u001b[0m\u001b[0;34m.\u001b[0m\u001b[0mplot_hist_by_ms_energy\u001b[0m\u001b[0;34m(\u001b[0m\u001b[0;34m\u001b[0m\n",
       "\u001b[0;34m\u001b[0m    \u001b[0mms_by_enrg\u001b[0m\u001b[0;34m:\u001b[0m \u001b[0mlist\u001b[0m\u001b[0;34m,\u001b[0m\u001b[0;34m\u001b[0m\n",
       "\u001b[0;34m\u001b[0m    \u001b[0mout_dir\u001b[0m\u001b[0;34m:\u001b[0m \u001b[0mpathlib\u001b[0m\u001b[0;34m.\u001b[0m\u001b[0mPath\u001b[0m\u001b[0;34m,\u001b[0m\u001b[0;34m\u001b[0m\n",
       "\u001b[0;34m\u001b[0m    \u001b[0msave_name\u001b[0m\u001b[0;34m:\u001b[0m \u001b[0mstr\u001b[0m \u001b[0;34m=\u001b[0m \u001b[0;34m'enthalpy_dist.pdf'\u001b[0m\u001b[0;34m,\u001b[0m\u001b[0;34m\u001b[0m\n",
       "\u001b[0;34m\u001b[0m    \u001b[0mshow\u001b[0m\u001b[0;34m:\u001b[0m \u001b[0mbool\u001b[0m \u001b[0;34m=\u001b[0m \u001b[0;32mFalse\u001b[0m\u001b[0;34m,\u001b[0m\u001b[0;34m\u001b[0m\n",
       "\u001b[0;34m\u001b[0m\u001b[0;34m)\u001b[0m\u001b[0;34m\u001b[0m\u001b[0;34m\u001b[0m\u001b[0m\n",
       "\u001b[0;31mDocstring:\u001b[0m <no docstring>\n",
       "\u001b[0;31mFile:\u001b[0m      ~/projects/raihan/python/microstate_analysis_code/ms_analysis_wc.py\n",
       "\u001b[0;31mType:\u001b[0m      function"
      ]
     },
     "metadata": {},
     "output_type": "display_data"
    }
   ],
   "source": [
    "# Show in notebook:\n",
    "\n",
    "msa.plot_hist_by_ms_energy?"
   ]
  },
  {
   "cell_type": "code",
   "execution_count": null,
   "metadata": {},
   "outputs": [],
   "source": []
  }
 ],
 "metadata": {
  "kernelspec": {
   "display_name": "Python (p310)",
   "language": "python",
   "name": "p310"
  },
  "language_info": {
   "codemirror_mode": {
    "name": "ipython",
    "version": 3
   },
   "file_extension": ".py",
   "mimetype": "text/x-python",
   "name": "python",
   "nbconvert_exporter": "python",
   "pygments_lexer": "ipython3",
   "version": "3.10.15"
  }
 },
 "nbformat": 4,
 "nbformat_minor": 4
}

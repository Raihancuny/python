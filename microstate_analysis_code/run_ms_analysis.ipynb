{
 "cells": [
  {
   "cell_type": "code",
   "execution_count": 1,
   "metadata": {},
   "outputs": [],
   "source": [
    "# Notebook behavior:\n",
    "\n",
    "# Enable multiple outputs from one cell:\n",
    "from IPython.core.interactiveshell import InteractiveShell\n",
    "InteractiveShell.ast_node_interactivity = \"all\"\n",
    "\n",
    "# autoreload extension: automaticall refresh imports when code is changed:\n",
    "%load_ext autoreload\n",
    "%autoreload 2"
   ]
  },
  {
   "cell_type": "markdown",
   "metadata": {},
   "source": [
    "# run_ms_analysis.ipynb\n",
    "---"
   ]
  },
  {
   "cell_type": "markdown",
   "metadata": {
    "tags": []
   },
   "source": [
    "# Tutorial notebook for processing MCCE microstate file in ms_out folder.\n",
    "\n",
    "# Required mcce run output files:\n",
    "### 1. head3.lst\n",
    "### 2. file in ms_out/, a.k.a. the 'msout file'\n",
    " * Notes:\n",
    "   - The ms_out folder is retained when the `--ms` flag is used at the command line for Step 4: `step4.py --ms`;\n",
    "   - Format of the msout file name: pHXeHYms.tx at pH point X and Eh point Y;\n",
    "   - The most typical filename encountered is \"pH7eH0ms.txt\", meaning the MCCE simulation was a pH titation run at pH7.\n",
    "---"
   ]
  },
  {
   "cell_type": "markdown",
   "metadata": {},
   "source": [
    "## Load the needed libraries and modules:"
   ]
  },
  {
   "cell_type": "code",
   "execution_count": 2,
   "metadata": {},
   "outputs": [],
   "source": [
    "from collections import defaultdict\n",
    "import math\n",
    "import matplotlib.pyplot as plt\n",
    "from matplotlib.colors import LinearSegmentedColormap, ListedColormap, BoundaryNorm\n",
    "import numpy as np\n",
    "import pandas as pd\n",
    "from pathlib import Path\n",
    "import seaborn as sns\n",
    "import sys\n",
    "\n",
    "%matplotlib inline\n",
    "\n",
    "# Module needed to read the microstate file:\n",
    "import ms_analysis_wc as msa"
   ]
  },
  {
   "cell_type": "markdown",
   "metadata": {},
   "source": [
    "---\n",
    "# Inputs\n",
    "## Required user input: the path to the msout file:\n",
    " * e.g. 4lzt/ms_out/pH7eH0ms.txt\n",
    "## Optional user input: list of residues of interest\n",
    "---"
   ]
  },
  {
   "cell_type": "markdown",
   "metadata": {},
   "source": [
    "# Define the path to msout file:"
   ]
  },
  {
   "cell_type": "code",
   "execution_count": 3,
   "metadata": {},
   "outputs": [
    {
     "data": {
      "text/plain": [
       "PosixPath('/home/cat/projects/raihan/python/microstate_analysis_code/4lzt/ms_out/pH7eH0ms.txt')"
      ]
     },
     "execution_count": 3,
     "metadata": {},
     "output_type": "execute_result"
    },
    {
     "data": {
      "text/plain": [
       "PosixPath('/home/cat/projects/raihan/python/microstate_analysis_code/4lzt/head3.lst')"
      ]
     },
     "execution_count": 3,
     "metadata": {},
     "output_type": "execute_result"
    },
    {
     "data": {
      "text/plain": [
       "PosixPath('crgms_wc')"
      ]
     },
     "execution_count": 3,
     "metadata": {},
     "output_type": "execute_result"
    }
   ],
   "source": [
    "# MCCE microstates file:\n",
    "msout_file = Path(\"4lzt/ms_out/pH7eH0ms.txt\").resolve()\n",
    "\n",
    "# Get the related head3.lst path:\n",
    "h3_path = msout_file.parent.parent.joinpath(\"head3.lst\")\n",
    "msout_file\n",
    "h3_path\n",
    "\n",
    "# More specific name for output folder: KEEP?\n",
    "outname = \"crgms_wc\"  # \"output\"\n",
    "\n",
    "# Ensure the output directory exists:\n",
    "output_dir = Path(outname)\n",
    "if not output_dir.exists():\n",
    "    output_dir.mkdir()\n",
    "\n",
    "output_dir"
   ]
  },
  {
   "cell_type": "markdown",
   "metadata": {},
   "source": [
    "### DONE: Move the definiation of residue types of interst and individual residues of interest here at the top\n",
    "## DOES NOT WORK: threshold for the heat maps;\n",
    "## TBD: lables for plots\n",
    "## DOES NOT WORK: if we dont do all 6 blocks of Microstates\n",
    "  * The msout file would have to be split into MC0, MC1, etc portions first"
   ]
  },
  {
   "cell_type": "markdown",
   "metadata": {},
   "source": [
    "# Residues of interest\n",
    "Note: Make sure to add the names of your residues of interest, such as quinone, here:"
   ]
  },
  {
   "cell_type": "code",
   "execution_count": 4,
   "metadata": {},
   "outputs": [],
   "source": [
    "# Which kind of residues to consider (3-letter codes):\n",
    "res_of_interest = [\"ASP\", \"PL9\", \"GLU\", \"ARG\", \"HIS\", \"LYS\", \"TYR\", \"NTR\", \"CTR\"]"
   ]
  },
  {
   "cell_type": "markdown",
   "metadata": {},
   "source": [
    "### Note about the `msa` module:\n",
    "The loading of the conformers list (into module variable `conformers`) is __performed on import using \"./head3.lst\" by default__;  \n",
    "The list will be empty whenever a different location is needed."
   ]
  },
  {
   "cell_type": "markdown",
   "metadata": {},
   "source": [
    "### Check whether the conformers list needs reloading:"
   ]
  },
  {
   "cell_type": "code",
   "execution_count": 5,
   "metadata": {},
   "outputs": [
    {
     "name": "stdout",
     "output_type": "stream",
     "text": [
      "Conformers count: 314\n"
     ]
    }
   ],
   "source": [
    "if not msa.conformers:\n",
    "    # redo with the appropriate head3.lst path:\n",
    "    msa.conformers = msa.read_conformers(h3_path)\n",
    "\n",
    "n_conformers = len(msa.conformers)\n",
    "print(f\"Conformers count: {n_conformers:,}\")"
   ]
  },
  {
   "cell_type": "markdown",
   "metadata": {},
   "source": [
    "# Instantiate `msa.MSout` class with the given msout file:"
   ]
  },
  {
   "cell_type": "code",
   "execution_count": 6,
   "metadata": {},
   "outputs": [
    {
     "name": "stdout",
     "output_type": "stream",
     "text": [
      "Conformer microstates count: 1,500,000\n",
      "Unique conformer microstates count: 394,139\n",
      "mso energies:\n",
      " \tmso.lowest_E = -184.97; mso.average_E = -179.39; mso.highest_E = -166.75\n"
     ]
    }
   ],
   "source": [
    "mso = msa.MSout(msout_file)\n",
    "\n",
    "print(f\"Conformer microstates count: {mso.N_ms:,}\")\n",
    "print(f\"Unique conformer microstates count: {mso.N_uniq:,}\")\n",
    "print(f\"mso energies:\\n\", f\"\\t{mso.lowest_E = :,.2f}; {mso.average_E = :,.2f}; {mso.highest_E = :,.2f}\")"
   ]
  },
  {
   "cell_type": "markdown",
   "metadata": {},
   "source": [
    "#### [ optional: Learn which methods come with the instantiated class (mso) ]\n",
    " * What's in the MSout class?"
   ]
  },
  {
   "cell_type": "raw",
   "metadata": {},
   "source": [
    "print(\"Methods in msa.MSout:\")\n",
    "print([obj for obj in dir(mso) if not obj.startswith(\"__\")])"
   ]
  },
  {
   "cell_type": "markdown",
   "metadata": {},
   "source": [
    "### In MCCE, residues are divided into fixed or free residue groups.\n",
    " * Only free residues appear in the microstate sate list.\n",
    " * Fixed residues can be ionizable residues so we need to include their contribution to the total charge, which is called referred to here as __background charge__. "
   ]
  },
  {
   "cell_type": "markdown",
   "metadata": {},
   "source": [
    "#### Free residues information"
   ]
  },
  {
   "cell_type": "code",
   "execution_count": 7,
   "metadata": {},
   "outputs": [],
   "source": [
    "# Uncomment to display:\n",
    "\n",
    "#print(\"mso.free_residues list holds each free residues' conformers.\\nSample data:\\n\", mso.free_residues[:2])"
   ]
  },
  {
   "cell_type": "code",
   "execution_count": 8,
   "metadata": {},
   "outputs": [
    {
     "name": "stdout",
     "output_type": "stream",
     "text": [
      "Number of free residues: 47\n"
     ]
    }
   ],
   "source": [
    "# Obtain the free residues' \"resid\" using the first conformer index in each sublist:\n",
    "free_residues = msa.get_free_res_ids(msa.conformers, mso.free_residues)\n",
    "print(f\"Number of free residues: {len(free_residues):,}\")\n",
    "\n",
    "# Save them in a pandas.DataFrame, it will be one of the inputs to the function msa.ConcaCrgMsPandas:\n",
    "free_residues_df = pd.DataFrame(free_residues, columns = [\"Residue\"])"
   ]
  },
  {
   "cell_type": "code",
   "execution_count": 9,
   "metadata": {},
   "outputs": [],
   "source": [
    "# Uncomment to display:\n",
    "\n",
    "#free_residues_df.head(2)\n",
    "#free_residues_df.tail(2)"
   ]
  },
  {
   "cell_type": "markdown",
   "metadata": {},
   "source": [
    "#### Fixed residues charge.\n",
    "(Make sure to account for fixed residues charge for MD simulation protonation input.)"
   ]
  },
  {
   "cell_type": "code",
   "execution_count": 10,
   "metadata": {},
   "outputs": [
    {
     "name": "stdout",
     "output_type": "stream",
     "text": [
      "Background charge: 8.0\n"
     ]
    }
   ],
   "source": [
    "# Using the methods in the mso instance:\n",
    "\n",
    "fixed_res_crg_dict = mso.get_fixed_res_crg_dict(msa.conformers)\n",
    "background_charge = mso.get_fixed_res_crg(fixed_res_crg_dict)\n",
    "print(\"Background charge:\", background_charge)"
   ]
  },
  {
   "cell_type": "markdown",
   "metadata": {},
   "source": [
    "### Save the fixed residues in your residues of interest to a separate list & DataFrame:"
   ]
  },
  {
   "cell_type": "code",
   "execution_count": 11,
   "metadata": {},
   "outputs": [
    {
     "name": "stdout",
     "output_type": "stream",
     "text": [
      "Number of fixed residues of interest: 25.\n"
     ]
    }
   ],
   "source": [
    "crg_fixed_res_of_interest = {k:v for k,v in fixed_res_crg_dict.items() if k[:3] in res_of_interest}\n",
    "n_crg_fixed_res_of_interest = len(crg_fixed_res_of_interest)\n",
    "\n",
    "if n_crg_fixed_res_of_interest:\n",
    "    crg_fixed_resoi_df = pd.DataFrame(crg_fixed_res_of_interest.items(), columns=[\"Residue\", \"crg\"])\n",
    "    print(f\"Number of fixed residues of interest: {crg_fixed_resoi_df.shape[0]:,}.\")\n",
    "    #crg_fixed_resoi_df.head(3)\n",
    "else:\n",
    "    print(\"No fixed residues of interest.\")"
   ]
  },
  {
   "cell_type": "markdown",
   "metadata": {},
   "source": [
    "#### The following saves sorted microstates attributes (energy, count and microstate state) into a list;\n",
    "The default sort in .sort_microstates() is by energy."
   ]
  },
  {
   "cell_type": "markdown",
   "metadata": {},
   "source": [
    "# Corrected:\n",
    "\n",
    "### WRONG: The ms_orig_lst gives one conformer for each residues. The first number is the microstate energy; the second is the MC restart (default 6 times)\n",
    "### CORRECT: ms_orig_lst holds each microste's attributes, i.e: [ms.E, ms.count, ms.state] sorted by energy. # The first attribute is the microstate energy; the second is the multiplicity of that state (mso.microstates holds unique ms info), the last one is the list of conformers in that state.\n",
    "\n",
    "### OK: The conformer numbers align with head3.lst. Head3.lst starts at 1; ms lists start at 0.\n"
   ]
  },
  {
   "cell_type": "code",
   "execution_count": 12,
   "metadata": {},
   "outputs": [],
   "source": [
    "# mso.sort_microstates() returns a list of sorted ms objects:\n",
    "\n",
    "ms_orig_lst = [[ms.E, ms.count, ms.state] for ms in mso.sort_microstates()]"
   ]
  },
  {
   "cell_type": "code",
   "execution_count": 13,
   "metadata": {},
   "outputs": [
    {
     "name": "stdout",
     "output_type": "stream",
     "text": [
      "[[-184.972214, 7, [0, 7, 33, 41, 44, 50, 54, 57, 71, 75, 79, 81, 83, 86, 92, 95, 101, 108, 120, 127, 136, 150, 154, 163, 169, 174, 177, 185, 191, 193, 205, 211, 215, 218, 227, 236, 242, 245, 268, 272, 278, 281, 287, 290, 297, 302, 313]], [-184.947266, 36, [0, 7, 33, 41, 44, 50, 54, 57, 71, 75, 79, 81, 83, 86, 92, 95, 101, 108, 120, 127, 136, 150, 154, 163, 169, 175, 177, 185, 191, 193, 205, 211, 215, 218, 227, 236, 242, 245, 268, 272, 278, 281, 287, 290, 297, 302, 313]]]\n"
     ]
    }
   ],
   "source": [
    "# Sample data (uncomment to display):\n",
    "print(ms_orig_lst[:2])"
   ]
  },
  {
   "cell_type": "markdown",
   "metadata": {},
   "source": [
    "### This will map the microstate conformer id to its corresponding charge, and convert the conformer microstates from `mso` to charge microstates:"
   ]
  },
  {
   "cell_type": "code",
   "execution_count": 14,
   "metadata": {},
   "outputs": [],
   "source": [
    "# Map conf index to conf charge:\n",
    "id_vs_charge = msa.iconf2crg(msa.conformers)\n",
    "\n",
    "# This list is identical to ms_orig_lst but now simply give the charge of the coformers selected for each residue.\n",
    "crg_orig_lst = msa.ms2crgms(ms_orig_lst, id_vs_charge)"
   ]
  },
  {
   "cell_type": "code",
   "execution_count": 15,
   "metadata": {},
   "outputs": [],
   "source": [
    "# Sample data (uncomment to display):\n",
    "#print(crg_orig_lst[:2])"
   ]
  },
  {
   "cell_type": "markdown",
   "metadata": {},
   "source": [
    "---\n",
    "# Process the charge microstates into various outputs"
   ]
  },
  {
   "cell_type": "markdown",
   "metadata": {},
   "source": [
    "# [ Cat ]\n",
    "#### Only the unfiltered data is plotted and the corresponding figure saved with a wierd name: output/all_en_cr_ph7_vs_log(count).pdf.\n",
    "#### We could have of the processing bounds saved into a dict & wrap the following processing into one function, but the names of the figures are needed."
   ]
  },
  {
   "cell_type": "markdown",
   "metadata": {},
   "source": [
    "## Unfiltered charge microstates"
   ]
  },
  {
   "cell_type": "code",
   "execution_count": 16,
   "metadata": {},
   "outputs": [
    {
     "name": "stdout",
     "output_type": "stream",
     "text": [
      "No energy bounds given: All microstates are selected.\n",
      "Number of charge ms: 394,139\n",
      "Number of unique charge ms: 15\n"
     ]
    }
   ],
   "source": [
    "crgms_files = msa.findUniqueCrgmsCountOrder(crg_orig_lst)\n",
    "# crgms_files:\n",
    "#  0: all_crg_ms_unique,\n",
    "#  1: all_count,\n",
    "#  2: unique_crg_state_order,\n",
    "#  3: energy_diff_all (used in plot)\n",
    "\n",
    "all_crg_count_res = msa.ConcaCrgMsPandas(crgms_files[0],\n",
    "                                         crgms_files[1],\n",
    "                                         crgms_files[2], \n",
    "                                         free_residues_df,\n",
    "                                         background_charge,\n",
    "                                         res_of_interest\n",
    "                                         )"
   ]
  },
  {
   "cell_type": "code",
   "execution_count": 17,
   "metadata": {},
   "outputs": [],
   "source": [
    "# Sample data (uncomment to display):\n",
    "#all_crg_count_res.head(3)"
   ]
  },
  {
   "cell_type": "markdown",
   "metadata": {},
   "source": [
    "### This will plot the tautomer charge distribution of unqiue charge microstates based on the occupancy. \n",
    "Each dot are unique charge microstate and color coded based on the energy difference of that microstate appear in Monte Carlo run. Total charge is sum of background and free charge (protein charge)."
   ]
  },
  {
   "cell_type": "markdown",
   "metadata": {},
   "source": [
    "# [ Cat ]\n",
    "#### Incorrect name viz plot, rather should be: \"crgms_logcount_vs_all_ph7.pdf\" (y vs x)"
   ]
  },
  {
   "cell_type": "code",
   "execution_count": 18,
   "metadata": {},
   "outputs": [
    {
     "name": "stdout",
     "output_type": "stream",
     "text": [
      "Figure saved: crgms_wc/all_en_cr_ph7_vs_log(count).pdf\n"
     ]
    },
    {
     "data": {
      "image/png": "[encoded data removed]",
      "text/plain": [
       "<Figure size 600x600 with 3 Axes>"
      ]
     },
     "metadata": {},
     "output_type": "display_data"
    }
   ],
   "source": [
    "msa.jointplot(crgms_files, background_charge,\n",
    "              out_dir=output_dir, fig_name=\"all_en_cr_ph7_vs_log(count).pdf\",\n",
    "              show=True)"
   ]
  },
  {
   "cell_type": "markdown",
   "metadata": {},
   "source": [
    "# [ Raihan ]\n",
    "#### A very important thing here in this dot plot we need to be clear what is these dots numbers mean?\n",
    "#### In fact we have a different type of output figure for this. I will share with you. I believe these values are eneergy range of the microstates, but the numbers sometimes do not make sense."
   ]
  },
  {
   "cell_type": "markdown",
   "metadata": {},
   "source": [
    "#### This is to get the unique charge microstates >= lowest energy + 1.36 kcal/mol. \n",
    "Make sure your supply list is sorted based on energy in ascending order. \n",
    "The order in the dataframe is within the selected energy range."
   ]
  },
  {
   "cell_type": "code",
   "execution_count": 19,
   "metadata": {},
   "outputs": [
    {
     "name": "stdout",
     "output_type": "stream",
     "text": [
      "Using energy bounds (-184.972214, -183.612214)\n",
      "Number of filtered charge ms: 2,198\n",
      "Number of unique charge ms: 2\n"
     ]
    }
   ],
   "source": [
    "begin_E = crg_orig_lst[0][0]\n",
    "end_E = crg_orig_lst[0][0] + 1.36\n",
    "print(f\"Using energy bounds ({begin_E}, {end_E})\")\n",
    "\n",
    "lowest_crgms_files = msa.findUniqueCrgmsCountOrder(crg_orig_lst,\n",
    "                                                   begin_energy = begin_E,\n",
    "                                                   end_energy = end_E\n",
    "                                                   )\n",
    "low_crg_count_res = msa.ConcaCrgMsPandas(lowest_crgms_files[0],\n",
    "                                         lowest_crgms_files[1],\n",
    "                                         lowest_crgms_files[2], \n",
    "                                         free_residues_df,\n",
    "                                         background_charge,\n",
    "                                         res_of_interest)"
   ]
  },
  {
   "cell_type": "code",
   "execution_count": 20,
   "metadata": {},
   "outputs": [],
   "source": [
    "# Sample data (uncomment to display):\n",
    "#low_crg_count_res.head(3) "
   ]
  },
  {
   "cell_type": "raw",
   "metadata": {},
   "source": [
    "msa.jointplot(crgms_files, background_charge,\n",
    "              out_dir=output_dir, fig_name=\"crgms_logcount_vc_lowerE.pdf\",\n",
    "              show=True)"
   ]
  },
  {
   "cell_type": "markdown",
   "metadata": {},
   "source": [
    "#### This is to get the unique charge microstates within +/- 0.5 pH unit (+/- 0.68 kcal/mol) of average microstate energy"
   ]
  },
  {
   "cell_type": "code",
   "execution_count": 21,
   "metadata": {},
   "outputs": [
    {
     "name": "stdout",
     "output_type": "stream",
     "text": [
      "Using the average microstate energy +/- 0.5 pH unit (+/- 0.68 kcal/mol): (-180.07293514108827, -178.71293514108825)\n",
      "Number of filtered charge ms: 93,790\n",
      "Number of unique charge ms: 9\n"
     ]
    }
   ],
   "source": [
    "begin_mc_aver = mso.average_E - 0.68\n",
    "end_mc_aver = mso.average_E + 0.68\n",
    "print(f\"Using the average microstate energy +/- 0.5 pH unit (+/- 0.68 kcal/mol): ({begin_mc_aver}, {end_mc_aver})\")\n",
    "\n",
    "average_crgms_files = msa.findUniqueCrgmsCountOrder(crg_orig_lst,\n",
    "                                                    begin_energy = begin_mc_aver,\n",
    "                                                    end_energy = end_mc_aver\n",
    "                                                    )\n",
    "av_crg_count_res = msa.ConcaCrgMsPandas(average_crgms_files[0],\n",
    "                                        average_crgms_files[1],\n",
    "                                        average_crgms_files[2], \n",
    "                                        free_residues_df,\n",
    "                                        background_charge,\n",
    "                                        res_of_interest\n",
    "                                       )"
   ]
  },
  {
   "cell_type": "code",
   "execution_count": 22,
   "metadata": {},
   "outputs": [],
   "source": [
    "# Sample data (uncomment to display):\n",
    "#av_crg_count_res.head(3) "
   ]
  },
  {
   "cell_type": "markdown",
   "metadata": {},
   "source": [
    "#### This is to get the unique charge microstates >= 1 KT unit (1.36 kcal/mol) of highest microstate energy"
   ]
  },
  {
   "cell_type": "code",
   "execution_count": 23,
   "metadata": {},
   "outputs": [
    {
     "name": "stdout",
     "output_type": "stream",
     "text": [
      "Number of filtered charge ms: 9\n",
      "Number of unique charge ms: 3\n"
     ]
    }
   ],
   "source": [
    "highest_crgms_files = msa.findUniqueCrgmsCountOrder(crg_orig_lst,\n",
    "                                                    begin_energy = (mso.highest_E - 1.36),\n",
    "                                                    end_energy = mso.highest_E\n",
    "                                                    )\n",
    "high_crg_count_res = msa.ConcaCrgMsPandas(highest_crgms_files[0],\n",
    "                                          highest_crgms_files[1],\n",
    "                                          highest_crgms_files[2], \n",
    "                                          free_residues_df,\n",
    "                                          background_charge,\n",
    "                                          res_of_interest)"
   ]
  },
  {
   "cell_type": "code",
   "execution_count": 24,
   "metadata": {},
   "outputs": [],
   "source": [
    "# Sample data (uncomment to display):\n",
    "#high_crg_count_res.head(3) "
   ]
  },
  {
   "cell_type": "markdown",
   "metadata": {},
   "source": [
    "## Save all these 3 DataFrames and non titrable residues charge information:\n",
    " * low_crg_count_res\n",
    " * av_crg_count_res\n",
    " * high_crg_count_res\n",
    " * crg_fixed_resoi_df"
   ]
  },
  {
   "cell_type": "code",
   "execution_count": 25,
   "metadata": {},
   "outputs": [
    {
     "name": "stdout",
     "output_type": "stream",
     "text": [
      "The excel writer engine must be installed; No module named 'xlsxwriter'\n"
     ]
    }
   ],
   "source": [
    "# Writing to Excel will fill if xlswriter is not installed:\n",
    "# see https://anaconda.org/conda-forge/xlsxwriter\n",
    "try:\n",
    "    # this will be a user specified name:\n",
    "    xl_filename = \"charge_ms_dry2_semi_pH7.xlsx\"\n",
    "    outfile_xl = output_dir.joinpath(xl_filename)\n",
    "\n",
    "    # Create an ExcelWriter object\n",
    "    with pd.ExcelWriter(outfile_xl,\n",
    "                        engine=\"xlsxwriter\"\n",
    "                       ) as writer:\n",
    "        # Write your dataframes to different sheets\n",
    "        low_crg_count_res.to_excel(writer, sheet_name='low_crg_count_res')\n",
    "        av_crg_count_res.to_excel(writer, sheet_name='av_crg_count_res')\n",
    "        high_crg_count_res.to_excel(writer, sheet_name='high_crg_count_res')\n",
    "        crg_fixed_resoi_df.to_excel(writer, sheet_name='fixed_residues_crg')\n",
    "\n",
    "        # Save the Excel file\n",
    "        writer.save()\n",
    "        print(f\"Saved Excel file {outfile_xl!s}.\")\n",
    "\n",
    "except Exception as e:\n",
    "    if type(e).__name__ == \"ModuleNotFoundError\":\n",
    "        print(\"The excel writer engine must be installed;\", e)\n",
    "    else:\n",
    "        print(f\"Error occurred while saving Excel file: {str(e)}\")"
   ]
  },
  {
   "cell_type": "code",
   "execution_count": 26,
   "metadata": {},
   "outputs": [
    {
     "name": "stdout",
     "output_type": "stream",
     "text": [
      "DataFrame all_crg_count_res saved to crgms_wc/all_crg_count_res.csv.\n"
     ]
    }
   ],
   "source": [
    "# Save all_crg_count_res DataFrame to a CSV file:\n",
    "# Due to column size issue in excel for large sytem. We save all_crg_count_res in csv format.\n",
    "crg_count_csv = output_dir.joinpath(\"all_crg_count_res.csv\")\n",
    "\n",
    "try:\n",
    "    all_crg_count_res.to_csv(crg_count_csv, header=True)\n",
    "    print(f\"DataFrame all_crg_count_res saved to {crg_count_csv!s}.\")\n",
    "\n",
    "except Exception as e:\n",
    "    print(f\"Error occurred while saving all_crg_count_res to csv file: {str(e)}\")"
   ]
  },
  {
   "cell_type": "markdown",
   "metadata": {},
   "source": [
    "---\n",
    "# Post-processing of already saved main crgms file to get the correlation matrix for residues. "
   ]
  },
  {
   "cell_type": "code",
   "execution_count": 27,
   "metadata": {},
   "outputs": [
    {
     "data": {
      "text/html": [
       "<div>\n",
       "<style scoped>\n",
       "    .dataframe tbody tr th:only-of-type {\n",
       "        vertical-align: middle;\n",
       "    }\n",
       "\n",
       "    .dataframe tbody tr th {\n",
       "        vertical-align: top;\n",
       "    }\n",
       "\n",
       "    .dataframe thead th {\n",
       "        text-align: right;\n",
       "    }\n",
       "</style>\n",
       "<table border=\"1\" class=\"dataframe\">\n",
       "  <thead>\n",
       "    <tr style=\"text-align: right;\">\n",
       "      <th>Order</th>\n",
       "      <th>1.0</th>\n",
       "      <th>2.0</th>\n",
       "      <th>3.0</th>\n",
       "      <th>4.0</th>\n",
       "      <th>5.0</th>\n",
       "      <th>6.0</th>\n",
       "      <th>8.0</th>\n",
       "      <th>7.0</th>\n",
       "      <th>9.0</th>\n",
       "      <th>10.0</th>\n",
       "      <th>12.0</th>\n",
       "      <th>13.0</th>\n",
       "      <th>15.0</th>\n",
       "      <th>14.0</th>\n",
       "      <th>11.0</th>\n",
       "    </tr>\n",
       "  </thead>\n",
       "  <tbody>\n",
       "    <tr>\n",
       "      <th>NTRA0001_</th>\n",
       "      <td>0.0</td>\n",
       "      <td>0.0</td>\n",
       "      <td>0.0</td>\n",
       "      <td>1.0</td>\n",
       "      <td>0.0</td>\n",
       "      <td>1.0</td>\n",
       "      <td>0.0</td>\n",
       "      <td>0.0</td>\n",
       "      <td>0.0</td>\n",
       "      <td>0.0</td>\n",
       "      <td>1.0</td>\n",
       "      <td>1.0</td>\n",
       "      <td>1.0</td>\n",
       "      <td>1.0</td>\n",
       "      <td>1.0</td>\n",
       "    </tr>\n",
       "    <tr>\n",
       "      <th>LYSA0001_</th>\n",
       "      <td>1.0</td>\n",
       "      <td>1.0</td>\n",
       "      <td>1.0</td>\n",
       "      <td>1.0</td>\n",
       "      <td>1.0</td>\n",
       "      <td>1.0</td>\n",
       "      <td>0.0</td>\n",
       "      <td>0.0</td>\n",
       "      <td>1.0</td>\n",
       "      <td>1.0</td>\n",
       "      <td>1.0</td>\n",
       "      <td>1.0</td>\n",
       "      <td>0.0</td>\n",
       "      <td>1.0</td>\n",
       "      <td>0.0</td>\n",
       "    </tr>\n",
       "    <tr>\n",
       "      <th>HISA0015_</th>\n",
       "      <td>0.0</td>\n",
       "      <td>1.0</td>\n",
       "      <td>0.0</td>\n",
       "      <td>0.0</td>\n",
       "      <td>1.0</td>\n",
       "      <td>1.0</td>\n",
       "      <td>0.0</td>\n",
       "      <td>1.0</td>\n",
       "      <td>0.0</td>\n",
       "      <td>1.0</td>\n",
       "      <td>0.0</td>\n",
       "      <td>1.0</td>\n",
       "      <td>0.0</td>\n",
       "      <td>0.0</td>\n",
       "      <td>1.0</td>\n",
       "    </tr>\n",
       "    <tr>\n",
       "      <th>TYRA0020_</th>\n",
       "      <td>0.0</td>\n",
       "      <td>0.0</td>\n",
       "      <td>0.0</td>\n",
       "      <td>0.0</td>\n",
       "      <td>0.0</td>\n",
       "      <td>0.0</td>\n",
       "      <td>0.0</td>\n",
       "      <td>0.0</td>\n",
       "      <td>0.0</td>\n",
       "      <td>0.0</td>\n",
       "      <td>0.0</td>\n",
       "      <td>0.0</td>\n",
       "      <td>0.0</td>\n",
       "      <td>0.0</td>\n",
       "      <td>0.0</td>\n",
       "    </tr>\n",
       "    <tr>\n",
       "      <th>TYRA0023_</th>\n",
       "      <td>0.0</td>\n",
       "      <td>0.0</td>\n",
       "      <td>0.0</td>\n",
       "      <td>0.0</td>\n",
       "      <td>0.0</td>\n",
       "      <td>0.0</td>\n",
       "      <td>0.0</td>\n",
       "      <td>0.0</td>\n",
       "      <td>0.0</td>\n",
       "      <td>0.0</td>\n",
       "      <td>0.0</td>\n",
       "      <td>0.0</td>\n",
       "      <td>0.0</td>\n",
       "      <td>0.0</td>\n",
       "      <td>0.0</td>\n",
       "    </tr>\n",
       "    <tr>\n",
       "      <th>GLUA0035_</th>\n",
       "      <td>-1.0</td>\n",
       "      <td>-1.0</td>\n",
       "      <td>0.0</td>\n",
       "      <td>-1.0</td>\n",
       "      <td>0.0</td>\n",
       "      <td>-1.0</td>\n",
       "      <td>-1.0</td>\n",
       "      <td>-1.0</td>\n",
       "      <td>-1.0</td>\n",
       "      <td>-1.0</td>\n",
       "      <td>0.0</td>\n",
       "      <td>0.0</td>\n",
       "      <td>-1.0</td>\n",
       "      <td>-1.0</td>\n",
       "      <td>-1.0</td>\n",
       "    </tr>\n",
       "    <tr>\n",
       "      <th>ASPA0119_</th>\n",
       "      <td>-1.0</td>\n",
       "      <td>-1.0</td>\n",
       "      <td>-1.0</td>\n",
       "      <td>-1.0</td>\n",
       "      <td>-1.0</td>\n",
       "      <td>-1.0</td>\n",
       "      <td>-1.0</td>\n",
       "      <td>-1.0</td>\n",
       "      <td>0.0</td>\n",
       "      <td>0.0</td>\n",
       "      <td>-1.0</td>\n",
       "      <td>-1.0</td>\n",
       "      <td>-1.0</td>\n",
       "      <td>0.0</td>\n",
       "      <td>-1.0</td>\n",
       "    </tr>\n",
       "    <tr>\n",
       "      <th>Count</th>\n",
       "      <td>902236.0</td>\n",
       "      <td>545491.0</td>\n",
       "      <td>18153.0</td>\n",
       "      <td>11926.0</td>\n",
       "      <td>10356.0</td>\n",
       "      <td>7470.0</td>\n",
       "      <td>2214.0</td>\n",
       "      <td>1385.0</td>\n",
       "      <td>250.0</td>\n",
       "      <td>162.0</td>\n",
       "      <td>161.0</td>\n",
       "      <td>105.0</td>\n",
       "      <td>46.0</td>\n",
       "      <td>30.0</td>\n",
       "      <td>15.0</td>\n",
       "    </tr>\n",
       "  </tbody>\n",
       "</table>\n",
       "</div>"
      ],
      "text/plain": [
       "Order          1.0       2.0      3.0      4.0      5.0     6.0     8.0   \\\n",
       "NTRA0001_       0.0       0.0      0.0      1.0      0.0     1.0     0.0   \n",
       "LYSA0001_       1.0       1.0      1.0      1.0      1.0     1.0     0.0   \n",
       "HISA0015_       0.0       1.0      0.0      0.0      1.0     1.0     0.0   \n",
       "TYRA0020_       0.0       0.0      0.0      0.0      0.0     0.0     0.0   \n",
       "TYRA0023_       0.0       0.0      0.0      0.0      0.0     0.0     0.0   \n",
       "GLUA0035_      -1.0      -1.0      0.0     -1.0      0.0    -1.0    -1.0   \n",
       "ASPA0119_      -1.0      -1.0     -1.0     -1.0     -1.0    -1.0    -1.0   \n",
       "Count      902236.0  545491.0  18153.0  11926.0  10356.0  7470.0  2214.0   \n",
       "\n",
       "Order        7.0    9.0    10.0   12.0   13.0  15.0  14.0  11.0  \n",
       "NTRA0001_     0.0    0.0    0.0    1.0    1.0   1.0   1.0   1.0  \n",
       "LYSA0001_     0.0    1.0    1.0    1.0    1.0   0.0   1.0   0.0  \n",
       "HISA0015_     1.0    0.0    1.0    0.0    1.0   0.0   0.0   1.0  \n",
       "TYRA0020_     0.0    0.0    0.0    0.0    0.0   0.0   0.0   0.0  \n",
       "TYRA0023_     0.0    0.0    0.0    0.0    0.0   0.0   0.0   0.0  \n",
       "GLUA0035_    -1.0   -1.0   -1.0    0.0    0.0  -1.0  -1.0  -1.0  \n",
       "ASPA0119_    -1.0    0.0    0.0   -1.0   -1.0  -1.0   0.0  -1.0  \n",
       "Count      1385.0  250.0  162.0  161.0  105.0  46.0  30.0  15.0  "
      ]
     },
     "execution_count": 27,
     "metadata": {},
     "output_type": "execute_result"
    }
   ],
   "source": [
    "# This is for correlation.\n",
    "all_crg_count_read = pd.read_csv(crg_count_csv, index_col = 0)\n",
    "all_crg_count = all_crg_count_read.iloc[:,:-2].T\n",
    "all_crg_count"
   ]
  },
  {
   "cell_type": "code",
   "execution_count": 28,
   "metadata": {},
   "outputs": [
    {
     "data": {
      "text/html": [
       "<div>\n",
       "<style scoped>\n",
       "    .dataframe tbody tr th:only-of-type {\n",
       "        vertical-align: middle;\n",
       "    }\n",
       "\n",
       "    .dataframe tbody tr th {\n",
       "        vertical-align: top;\n",
       "    }\n",
       "\n",
       "    .dataframe thead th {\n",
       "        text-align: right;\n",
       "    }\n",
       "</style>\n",
       "<table border=\"1\" class=\"dataframe\">\n",
       "  <thead>\n",
       "    <tr style=\"text-align: right;\">\n",
       "      <th></th>\n",
       "      <th>NTRA0001_</th>\n",
       "      <th>LYSA0001_</th>\n",
       "      <th>HISA0015_</th>\n",
       "      <th>GLUA0035_</th>\n",
       "      <th>ASPA0119_</th>\n",
       "      <th>Count</th>\n",
       "    </tr>\n",
       "  </thead>\n",
       "  <tbody>\n",
       "    <tr>\n",
       "      <th>0</th>\n",
       "      <td>0.0</td>\n",
       "      <td>1.0</td>\n",
       "      <td>0.0</td>\n",
       "      <td>-1.0</td>\n",
       "      <td>-1.0</td>\n",
       "      <td>902236.0</td>\n",
       "    </tr>\n",
       "    <tr>\n",
       "      <th>1</th>\n",
       "      <td>0.0</td>\n",
       "      <td>1.0</td>\n",
       "      <td>1.0</td>\n",
       "      <td>-1.0</td>\n",
       "      <td>-1.0</td>\n",
       "      <td>545491.0</td>\n",
       "    </tr>\n",
       "    <tr>\n",
       "      <th>2</th>\n",
       "      <td>0.0</td>\n",
       "      <td>1.0</td>\n",
       "      <td>0.0</td>\n",
       "      <td>0.0</td>\n",
       "      <td>-1.0</td>\n",
       "      <td>18153.0</td>\n",
       "    </tr>\n",
       "    <tr>\n",
       "      <th>3</th>\n",
       "      <td>1.0</td>\n",
       "      <td>1.0</td>\n",
       "      <td>0.0</td>\n",
       "      <td>-1.0</td>\n",
       "      <td>-1.0</td>\n",
       "      <td>11926.0</td>\n",
       "    </tr>\n",
       "    <tr>\n",
       "      <th>4</th>\n",
       "      <td>0.0</td>\n",
       "      <td>1.0</td>\n",
       "      <td>1.0</td>\n",
       "      <td>0.0</td>\n",
       "      <td>-1.0</td>\n",
       "      <td>10356.0</td>\n",
       "    </tr>\n",
       "    <tr>\n",
       "      <th>5</th>\n",
       "      <td>1.0</td>\n",
       "      <td>1.0</td>\n",
       "      <td>1.0</td>\n",
       "      <td>-1.0</td>\n",
       "      <td>-1.0</td>\n",
       "      <td>7470.0</td>\n",
       "    </tr>\n",
       "    <tr>\n",
       "      <th>6</th>\n",
       "      <td>0.0</td>\n",
       "      <td>0.0</td>\n",
       "      <td>0.0</td>\n",
       "      <td>-1.0</td>\n",
       "      <td>-1.0</td>\n",
       "      <td>2214.0</td>\n",
       "    </tr>\n",
       "    <tr>\n",
       "      <th>7</th>\n",
       "      <td>0.0</td>\n",
       "      <td>0.0</td>\n",
       "      <td>1.0</td>\n",
       "      <td>-1.0</td>\n",
       "      <td>-1.0</td>\n",
       "      <td>1385.0</td>\n",
       "    </tr>\n",
       "    <tr>\n",
       "      <th>8</th>\n",
       "      <td>0.0</td>\n",
       "      <td>1.0</td>\n",
       "      <td>0.0</td>\n",
       "      <td>-1.0</td>\n",
       "      <td>0.0</td>\n",
       "      <td>250.0</td>\n",
       "    </tr>\n",
       "    <tr>\n",
       "      <th>9</th>\n",
       "      <td>0.0</td>\n",
       "      <td>1.0</td>\n",
       "      <td>1.0</td>\n",
       "      <td>-1.0</td>\n",
       "      <td>0.0</td>\n",
       "      <td>162.0</td>\n",
       "    </tr>\n",
       "    <tr>\n",
       "      <th>10</th>\n",
       "      <td>1.0</td>\n",
       "      <td>1.0</td>\n",
       "      <td>0.0</td>\n",
       "      <td>0.0</td>\n",
       "      <td>-1.0</td>\n",
       "      <td>161.0</td>\n",
       "    </tr>\n",
       "    <tr>\n",
       "      <th>11</th>\n",
       "      <td>1.0</td>\n",
       "      <td>1.0</td>\n",
       "      <td>1.0</td>\n",
       "      <td>0.0</td>\n",
       "      <td>-1.0</td>\n",
       "      <td>105.0</td>\n",
       "    </tr>\n",
       "    <tr>\n",
       "      <th>12</th>\n",
       "      <td>1.0</td>\n",
       "      <td>0.0</td>\n",
       "      <td>0.0</td>\n",
       "      <td>-1.0</td>\n",
       "      <td>-1.0</td>\n",
       "      <td>46.0</td>\n",
       "    </tr>\n",
       "    <tr>\n",
       "      <th>13</th>\n",
       "      <td>1.0</td>\n",
       "      <td>1.0</td>\n",
       "      <td>0.0</td>\n",
       "      <td>-1.0</td>\n",
       "      <td>0.0</td>\n",
       "      <td>30.0</td>\n",
       "    </tr>\n",
       "    <tr>\n",
       "      <th>14</th>\n",
       "      <td>1.0</td>\n",
       "      <td>0.0</td>\n",
       "      <td>1.0</td>\n",
       "      <td>-1.0</td>\n",
       "      <td>-1.0</td>\n",
       "      <td>15.0</td>\n",
       "    </tr>\n",
       "  </tbody>\n",
       "</table>\n",
       "</div>"
      ],
      "text/plain": [
       "    NTRA0001_  LYSA0001_  HISA0015_  GLUA0035_  ASPA0119_     Count\n",
       "0         0.0        1.0        0.0       -1.0       -1.0  902236.0\n",
       "1         0.0        1.0        1.0       -1.0       -1.0  545491.0\n",
       "2         0.0        1.0        0.0        0.0       -1.0   18153.0\n",
       "3         1.0        1.0        0.0       -1.0       -1.0   11926.0\n",
       "4         0.0        1.0        1.0        0.0       -1.0   10356.0\n",
       "5         1.0        1.0        1.0       -1.0       -1.0    7470.0\n",
       "6         0.0        0.0        0.0       -1.0       -1.0    2214.0\n",
       "7         0.0        0.0        1.0       -1.0       -1.0    1385.0\n",
       "8         0.0        1.0        0.0       -1.0        0.0     250.0\n",
       "9         0.0        1.0        1.0       -1.0        0.0     162.0\n",
       "10        1.0        1.0        0.0        0.0       -1.0     161.0\n",
       "11        1.0        1.0        1.0        0.0       -1.0     105.0\n",
       "12        1.0        0.0        0.0       -1.0       -1.0      46.0\n",
       "13        1.0        1.0        0.0       -1.0        0.0      30.0\n",
       "14        1.0        0.0        1.0       -1.0       -1.0      15.0"
      ]
     },
     "execution_count": 28,
     "metadata": {},
     "output_type": "execute_result"
    }
   ],
   "source": [
    "# drop if the protonation is not changing in free residues\n",
    "\n",
    "all_crg_count[\"std\"] = all_crg_count.std(axis=1).round(2)\n",
    "msk = all_crg_count[\"std\"] != 0\n",
    "all_crg_count_std = all_crg_count.loc[msk].T[:-1].reset_index(drop=True)\n",
    "\n",
    "all_crg_count_std"
   ]
  },
  {
   "cell_type": "code",
   "execution_count": 29,
   "metadata": {},
   "outputs": [],
   "source": [
    "# uncomment to display:\n",
    "\n",
    "#all_crg_count_std.columns"
   ]
  },
  {
   "cell_type": "code",
   "execution_count": 31,
   "metadata": {},
   "outputs": [
    {
     "data": {
      "text/html": [
       "<div>\n",
       "<style scoped>\n",
       "    .dataframe tbody tr th:only-of-type {\n",
       "        vertical-align: middle;\n",
       "    }\n",
       "\n",
       "    .dataframe tbody tr th {\n",
       "        vertical-align: top;\n",
       "    }\n",
       "\n",
       "    .dataframe thead th {\n",
       "        text-align: right;\n",
       "    }\n",
       "</style>\n",
       "<table border=\"1\" class=\"dataframe\">\n",
       "  <thead>\n",
       "    <tr style=\"text-align: right;\">\n",
       "      <th></th>\n",
       "      <th>GLUA0035_</th>\n",
       "      <th>HISA0015_</th>\n",
       "      <th>ASPA0119_</th>\n",
       "      <th>Count</th>\n",
       "      <th>Occupancy</th>\n",
       "    </tr>\n",
       "  </thead>\n",
       "  <tbody>\n",
       "    <tr>\n",
       "      <th>0</th>\n",
       "      <td>-1.0</td>\n",
       "      <td>0.0</td>\n",
       "      <td>-1.0</td>\n",
       "      <td>916422.0</td>\n",
       "      <td>0.61</td>\n",
       "    </tr>\n",
       "    <tr>\n",
       "      <th>1</th>\n",
       "      <td>-1.0</td>\n",
       "      <td>1.0</td>\n",
       "      <td>-1.0</td>\n",
       "      <td>554361.0</td>\n",
       "      <td>0.37</td>\n",
       "    </tr>\n",
       "    <tr>\n",
       "      <th>2</th>\n",
       "      <td>0.0</td>\n",
       "      <td>0.0</td>\n",
       "      <td>-1.0</td>\n",
       "      <td>18314.0</td>\n",
       "      <td>0.01</td>\n",
       "    </tr>\n",
       "    <tr>\n",
       "      <th>3</th>\n",
       "      <td>0.0</td>\n",
       "      <td>1.0</td>\n",
       "      <td>-1.0</td>\n",
       "      <td>10461.0</td>\n",
       "      <td>0.01</td>\n",
       "    </tr>\n",
       "    <tr>\n",
       "      <th>4</th>\n",
       "      <td>-1.0</td>\n",
       "      <td>0.0</td>\n",
       "      <td>0.0</td>\n",
       "      <td>280.0</td>\n",
       "      <td>0.00</td>\n",
       "    </tr>\n",
       "    <tr>\n",
       "      <th>5</th>\n",
       "      <td>-1.0</td>\n",
       "      <td>1.0</td>\n",
       "      <td>0.0</td>\n",
       "      <td>162.0</td>\n",
       "      <td>0.00</td>\n",
       "    </tr>\n",
       "  </tbody>\n",
       "</table>\n",
       "</div>"
      ],
      "text/plain": [
       "   GLUA0035_  HISA0015_  ASPA0119_     Count  Occupancy\n",
       "0       -1.0        0.0       -1.0  916422.0       0.61\n",
       "1       -1.0        1.0       -1.0  554361.0       0.37\n",
       "2        0.0        0.0       -1.0   18314.0       0.01\n",
       "3        0.0        1.0       -1.0   10461.0       0.01\n",
       "4       -1.0        0.0        0.0     280.0       0.00\n",
       "5       -1.0        1.0        0.0     162.0       0.00"
      ]
     },
     "execution_count": 31,
     "metadata": {},
     "output_type": "execute_result"
    }
   ],
   "source": [
    "# this is for demo: choose your favorite resids:\n",
    "\n",
    "# Here the list supplied must be conformer ids:\n",
    "choose_res = [\"GLUA0035_\", \"HISA0015_\", \"ASPA0119_\"]\n",
    "\n",
    "df_choose_res_data = msa.choose_res_data(all_crg_count_std, choose_res)\n",
    "df_choose_res_data[\"Occupancy\"] = round(df_choose_res_data[\"Count\"]/sum(df_choose_res_data[\"Count\"]), 2)\n",
    "df_choose_res_data\n",
    "\n",
    "outfile = output_dir.joinpath(\"cluster4_crg_count_res_june06_king.csv\")\n",
    "df_choose_res_data.to_csv(outfile, header=True)"
   ]
  },
  {
   "cell_type": "code",
   "execution_count": 32,
   "metadata": {},
   "outputs": [
    {
     "data": {
      "text/html": [
       "<div>\n",
       "<style scoped>\n",
       "    .dataframe tbody tr th:only-of-type {\n",
       "        vertical-align: middle;\n",
       "    }\n",
       "\n",
       "    .dataframe tbody tr th {\n",
       "        vertical-align: top;\n",
       "    }\n",
       "\n",
       "    .dataframe thead th {\n",
       "        text-align: right;\n",
       "    }\n",
       "</style>\n",
       "<table border=\"1\" class=\"dataframe\">\n",
       "  <thead>\n",
       "    <tr style=\"text-align: right;\">\n",
       "      <th></th>\n",
       "      <th>AE35</th>\n",
       "      <th>AD119</th>\n",
       "      <th>AH15</th>\n",
       "      <th>Count</th>\n",
       "    </tr>\n",
       "  </thead>\n",
       "  <tbody>\n",
       "    <tr>\n",
       "      <th>0</th>\n",
       "      <td>-1.0</td>\n",
       "      <td>-1.0</td>\n",
       "      <td>0.0</td>\n",
       "      <td>916422.0</td>\n",
       "    </tr>\n",
       "    <tr>\n",
       "      <th>1</th>\n",
       "      <td>-1.0</td>\n",
       "      <td>-1.0</td>\n",
       "      <td>1.0</td>\n",
       "      <td>554361.0</td>\n",
       "    </tr>\n",
       "    <tr>\n",
       "      <th>2</th>\n",
       "      <td>0.0</td>\n",
       "      <td>-1.0</td>\n",
       "      <td>0.0</td>\n",
       "      <td>18314.0</td>\n",
       "    </tr>\n",
       "    <tr>\n",
       "      <th>3</th>\n",
       "      <td>0.0</td>\n",
       "      <td>-1.0</td>\n",
       "      <td>1.0</td>\n",
       "      <td>10461.0</td>\n",
       "    </tr>\n",
       "    <tr>\n",
       "      <th>4</th>\n",
       "      <td>-1.0</td>\n",
       "      <td>0.0</td>\n",
       "      <td>0.0</td>\n",
       "      <td>280.0</td>\n",
       "    </tr>\n",
       "    <tr>\n",
       "      <th>5</th>\n",
       "      <td>-1.0</td>\n",
       "      <td>0.0</td>\n",
       "      <td>1.0</td>\n",
       "      <td>162.0</td>\n",
       "    </tr>\n",
       "  </tbody>\n",
       "</table>\n",
       "</div>"
      ],
      "text/plain": [
       "   AE35  AD119  AH15     Count\n",
       "0  -1.0   -1.0   0.0  916422.0\n",
       "1  -1.0   -1.0   1.0  554361.0\n",
       "2   0.0   -1.0   0.0   18314.0\n",
       "3   0.0   -1.0   1.0   10461.0\n",
       "4  -1.0    0.0   0.0     280.0\n",
       "5  -1.0    0.0   1.0     162.0"
      ]
     },
     "execution_count": 32,
     "metadata": {},
     "output_type": "execute_result"
    }
   ],
   "source": [
    "df_chosen_res_renamed = msa.renameOrderResidues(df_choose_res_data)\n",
    "df_chosen_res_renamed"
   ]
  },
  {
   "cell_type": "markdown",
   "metadata": {},
   "source": [
    "# Weighted correlation"
   ]
  },
  {
   "cell_type": "code",
   "execution_count": 33,
   "metadata": {},
   "outputs": [
    {
     "data": {
      "text/html": [
       "<div>\n",
       "<style scoped>\n",
       "    .dataframe tbody tr th:only-of-type {\n",
       "        vertical-align: middle;\n",
       "    }\n",
       "\n",
       "    .dataframe tbody tr th {\n",
       "        vertical-align: top;\n",
       "    }\n",
       "\n",
       "    .dataframe thead th {\n",
       "        text-align: right;\n",
       "    }\n",
       "</style>\n",
       "<table border=\"1\" class=\"dataframe\">\n",
       "  <thead>\n",
       "    <tr style=\"text-align: right;\">\n",
       "      <th></th>\n",
       "      <th>AE35</th>\n",
       "      <th>AD119</th>\n",
       "      <th>AH15</th>\n",
       "    </tr>\n",
       "  </thead>\n",
       "  <tbody>\n",
       "    <tr>\n",
       "      <th>AE35</th>\n",
       "      <td>1.000000</td>\n",
       "      <td>-0.002401</td>\n",
       "      <td>-0.003784</td>\n",
       "    </tr>\n",
       "    <tr>\n",
       "      <th>AD119</th>\n",
       "      <td>-0.002401</td>\n",
       "      <td>1.000000</td>\n",
       "      <td>-0.000359</td>\n",
       "    </tr>\n",
       "    <tr>\n",
       "      <th>AH15</th>\n",
       "      <td>-0.003784</td>\n",
       "      <td>-0.000359</td>\n",
       "      <td>1.000000</td>\n",
       "    </tr>\n",
       "  </tbody>\n",
       "</table>\n",
       "</div>"
      ],
      "text/plain": [
       "           AE35     AD119      AH15\n",
       "AE35   1.000000 -0.002401 -0.003784\n",
       "AD119 -0.002401  1.000000 -0.000359\n",
       "AH15  -0.003784 -0.000359  1.000000"
      ]
     },
     "execution_count": 33,
     "metadata": {},
     "output_type": "execute_result"
    }
   ],
   "source": [
    "df_correlation = msa.WeightedCorr(df=df_chosen_res_renamed, wcol=\"Count\")(method=\"pearson\")\n",
    "df_correlation"
   ]
  },
  {
   "cell_type": "raw",
   "metadata": {},
   "source": [
    "# no difference!\n",
    "df_correlation2 = msa.WeightedCorr(df=df_chosen_res_renamed, wcol=\"Count\")(method=\"spearman\")\n",
    "df_correlation2"
   ]
  },
  {
   "cell_type": "markdown",
   "metadata": {},
   "source": [
    "## FIX: Does not work.\n",
    "#### what is the expected output?"
   ]
  },
  {
   "cell_type": "raw",
   "metadata": {},
   "source": [
    "def dropCorrCriterion(data_frame, cutoff=0.1):\n",
    "    \"\"\"\n",
    "    Drop the residues if any of the correlation value is not greater than 0.1 except that residues.\n",
    "    \"\"\"\n",
    "    if not cutoff:\n",
    "        for i in data_frame.columns:\n",
    "            if list(abs(data_frame[i]) >= cutoff).count(True) == 1:\n",
    "                data_frame.drop(i, inplace=True)\n",
    "                data_frame.drop(i, axis=1, inplace=True)\n",
    "\n",
    "    return data_frame\n",
    "\n",
    "df_corr_drop = dropCorrCriterion(df_correlation)\n",
    "df_corr_drop"
   ]
  },
  {
   "cell_type": "markdown",
   "metadata": {},
   "source": [
    "## Create a heatmap to display the residue correlation:\n",
    " * Kept in notebook for tweaking"
   ]
  },
  {
   "cell_type": "code",
   "execution_count": 34,
   "metadata": {},
   "outputs": [],
   "source": [
    "def correl_heatmap(correl_df: pd.DataFrame, out_dir: str, fig_name: str, show: bool = False):\n",
    "    \n",
    "    plt.figure(figsize=(25, 8))\n",
    "    cmap = ListedColormap([\"darkred\", \"red\", \"pink\", \"lightgray\",\"skyblue\", \"blue\", \"darkblue\"])\n",
    "    bounds = [-1.0, -0.5, -0.3, -0.1, 0.1, 0.3, 0.5, 1.0]\n",
    "    norm = BoundaryNorm(bounds, cmap.N)\n",
    "    heatmap = sns.heatmap(correl_df,\n",
    "                          linecolor=\"gray\",\n",
    "                          cmap=cmap,\n",
    "                          norm=norm,\n",
    "                          square=True,\n",
    "                          fmt=\".2f\",\n",
    "                          linewidths=.01,\n",
    "                          annot=True,\n",
    "                          annot_kws={\"fontsize\":12}\n",
    "                         )\n",
    "    heatmap.set_title(\"Loaded\", fontdict={\"fontsize\":18}, pad=16)\n",
    "    cbar = heatmap.collections[0].colorbar\n",
    "    cbar.ax.tick_params(labelsize=20)\n",
    "    \n",
    "    plt.ylabel(None)\n",
    "    plt.xlabel(None)\n",
    "    plt.yticks(fontsize = 15, rotation = 0)\n",
    "    plt.xticks(fontsize = 15, rotation = 90)\n",
    "\n",
    "    corr_pdf = Path(out_dir).joinpath(fig_name)\n",
    "    plt.savefig(corr_pdf, dpi=600, bbox_inches=\"tight\");\n",
    "    print(f\"Figure saved: {corr_pdf!s}\")\n",
    "    if show:\n",
    "        plt.show()\n",
    "\n",
    "    return"
   ]
  },
  {
   "cell_type": "code",
   "execution_count": 35,
   "metadata": {},
   "outputs": [
    {
     "name": "stdout",
     "output_type": "stream",
     "text": [
      "Figure saved: crgms_wc/corr.pdf\n"
     ]
    },
    {
     "data": {
      "image/png": "[encoded data removed]",
      "text/plain": [
       "<Figure size 2500x800 with 2 Axes>"
      ]
     },
     "metadata": {},
     "output_type": "display_data"
    }
   ],
   "source": [
    "correl_heatmap(df_correlation, \n",
    "               out_dir=output_dir, fig_name=\"corr.pdf\",\n",
    "               show=True)"
   ]
  },
  {
   "cell_type": "code",
   "execution_count": null,
   "metadata": {},
   "outputs": [],
   "source": []
  }
 ],
 "metadata": {
  "kernelspec": {
   "display_name": "Python (p310)",
   "language": "python",
   "name": "p310"
  },
  "language_info": {
   "codemirror_mode": {
    "name": "ipython",
    "version": 3
   },
   "file_extension": ".py",
   "mimetype": "text/x-python",
   "name": "python",
   "nbconvert_exporter": "python",
   "pygments_lexer": "ipython3",
   "version": "3.10.15"
  }
 },
 "nbformat": 4,
 "nbformat_minor": 4
}

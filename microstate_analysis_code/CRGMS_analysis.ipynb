{
 "cells": [
  {
   "cell_type": "markdown",
   "metadata": {},
   "source": [
    "# CRGMS_analysis.ipynb\n",
    "---"
   ]
  },
  {
   "cell_type": "markdown",
   "metadata": {
    "tags": []
   },
   "source": [
    "# Tutorial notebook for processing MCCE microstate file in ms_out folder. "
   ]
  },
  {
   "cell_type": "markdown",
   "metadata": {},
   "source": [
    "## Load the needed libraries and modules:"
   ]
  },
  {
   "cell_type": "code",
   "execution_count": null,
   "metadata": {},
   "outputs": [],
   "source": [
    "from collections import defaultdict\n",
    "import math\n",
    "import matplotlib.pyplot as plt\n",
    "from matplotlib.colors import LinearSegmentedColormap, ListedColormap, BoundaryNorm\n",
    "import numpy as np\n",
    "import pandas as pd\n",
    "from pathlib import Path\n",
    "import seaborn as sns\n",
    "import sys\n",
    "\n",
    "%matplotlib inline\n",
    "\n",
    "# Module needed to read the microstate file:\n",
    "import ms_analysis as msa\n",
    "import weighted_correlation as wc"
   ]
  },
  {
   "cell_type": "markdown",
   "metadata": {
    "scrolled": true
   },
   "source": [
    "## Instantiate `msa.MSout` class with the desired MS file found in the ms_out output folder\n",
    "### The most typical filename encountered is \"pH7eH0ms.txt\", meaning the MCCE simulation was a pH titation run at pH7."
   ]
  },
  {
   "cell_type": "raw",
   "metadata": {
    "jupyter": {
     "source_hidden": true
    }
   },
   "source": [
    "# for later:\n",
    "\n",
    "# Define the run folder:\n",
    "run_dir_path = \"/path/to/the/folders/named/below\"\n",
    "run_folder1 = \"frame10\"\n",
    "run_folder2 = \"frame20\"\n",
    "\n",
    "\n",
    "# Define the path to the desired ms_out file:\n",
    "\n",
    "msout1 = Path(run_dir_path).joinpath(run_folder1, \"ms_out\")\n",
    "msout1\n",
    "msout1.exist()  # if True, folder found\n",
    "msout_file = msout1.joinpath(\"pH7eH0ms.txt\")\n",
    "msout_file\n",
    "msout_file.exists()\n",
    "# if not True:\n",
    "# - revise paths\n",
    "# - check if run was at pH7 & no eH titration (else the file name must change accordingly)"
   ]
  },
  {
   "cell_type": "code",
   "execution_count": null,
   "metadata": {},
   "outputs": [],
   "source": [
    "msout_file = \"ms_out/pH7eH0ms.txt\"\n",
    "mc = msa.MSout(msout_file)\n",
    "\n",
    "print(f\"Microstates count: {mc.N_ms:,}\")\n",
    "print(f\"Unique microstates count: {mc.N_uniq:,}\")"
   ]
  },
  {
   "cell_type": "markdown",
   "metadata": {},
   "source": [
    "#### The following saves microstates attributes (energy, count and microstate state) into a list, which is then sorted by enthalpy, descendingly."
   ]
  },
  {
   "cell_type": "code",
   "execution_count": null,
   "metadata": {},
   "outputs": [],
   "source": [
    "ms_orig_lst = [[ms.E, ms.count, ms.state] for  ms in list((mc.microstates.values()))]\n",
    "ms_orig_lst = sorted(ms_orig_lst, key = lambda x:x[0])\n",
    "print(ms_orig_lst[:2])"
   ]
  },
  {
   "cell_type": "markdown",
   "metadata": {},
   "source": [
    "### In MCCE, residues are divided into fixed or free residue groups.\n",
    " * Only free residues appear in the microstate sate list.\n",
    " * Fixed residues can be ionizable residues so we need to include their contribution to the total charge, which is called referred to here as __background charge__. "
   ]
  },
  {
   "cell_type": "markdown",
   "metadata": {},
   "source": [
    "#### Free residues information"
   ]
  },
  {
   "cell_type": "code",
   "execution_count": null,
   "metadata": {},
   "outputs": [],
   "source": [
    "free_residues = []\n",
    "for res in mc.free_residues:\n",
    "    free_residues.append(msa.conformers[res[0]].resid)\n",
    "ms_free_residues = pd.DataFrame(free_residues,columns = [\"Residue\"])\n",
    "print(f\"Number of free residues: {ms_free_residues.shape[0]:,}\")\n",
    "ms_free_residues.head(3)\n",
    "ms_free_residues.tail(3)"
   ]
  },
  {
   "cell_type": "markdown",
   "metadata": {},
   "source": [
    "#### Fixed residues charge.\n",
    "(Make sure to account for fixed residues charge for MD simulation protonation input.)"
   ]
  },
  {
   "cell_type": "code",
   "execution_count": null,
   "metadata": {},
   "outputs": [],
   "source": [
    "fixed_res_crg_dict = defaultdict(float)\n",
    "for conf in msa.conformers:\n",
    "    if conf.iconf in mc.fixed_iconfs:\n",
    "        fixed_res_crg_dict[conf.resid] = conf.crg\n",
    "\n",
    "background_charge = sum(fixed_res_crg_dict.values())\n",
    "print(\"Background charge:\", background_charge)"
   ]
  },
  {
   "cell_type": "markdown",
   "metadata": {},
   "source": [
    "## Residues of interest\n",
    "Note: Make sure to add the names of your residues of interest, such as quinone, here:"
   ]
  },
  {
   "cell_type": "code",
   "execution_count": null,
   "metadata": {},
   "outputs": [],
   "source": [
    "res_of_interest = [\"ASP\", \"PL9\", \"GLU\", \"ARG\", \"HIS\", \"LYS\", \"TYR\", \"NTR\", \"CTR\"]"
   ]
  },
  {
   "cell_type": "markdown",
   "metadata": {},
   "source": [
    "### Save the fixed residues in your residues of interest to list:"
   ]
  },
  {
   "cell_type": "code",
   "execution_count": null,
   "metadata": {},
   "outputs": [],
   "source": [
    "fixed_res_of_interest = {k:v for k,v in fixed_res_crg_dict.items() if k[:3] in res_of_interest}\n",
    "\n",
    "fixed_residues_crg = pd.DataFrame.from_dict(fixed_res_of_interest, orient='index', columns=['Residue', 'crg'])\n",
    "print(f\"Number of fixed residues from residues of interest: {fixed_residues_crg.shape[0]:,}\")\n",
    "fixed_residues_crg"
   ]
  },
  {
   "cell_type": "markdown",
   "metadata": {},
   "source": [
    "### This will convert the microstate conformer id to corresponding charge."
   ]
  },
  {
   "cell_type": "code",
   "execution_count": null,
   "metadata": {},
   "outputs": [],
   "source": [
    "def convert_ms_crg(l, d):\n",
    "    crg_lst =[[y[0], y[1], [convert_ms_crg(x, d) if isinstance(x, list) else d.get(x, x) for x in y[2]]] for y in l]\n",
    "    \n",
    "    return crg_lst"
   ]
  },
  {
   "cell_type": "code",
   "execution_count": null,
   "metadata": {},
   "outputs": [],
   "source": [
    "# Map conf index to conf charge:\n",
    "id_vs_charge = {conf.iconf:conf.crg for conf in msa.conformers}\n",
    "\n",
    "crg_orig_lst = convert_ms_crg(ms_orig_lst, id_vs_charge)\n",
    "print(crg_orig_lst[:2])"
   ]
  },
  {
   "cell_type": "markdown",
   "metadata": {},
   "source": [
    "## Function `findUniqueCrgmsCountOrder` will give the unique charge state id, corresponding count."
   ]
  },
  {
   "cell_type": "code",
   "execution_count": null,
   "metadata": {},
   "outputs": [],
   "source": [
    "def findUniqueCrgmsCountOrder(crg_list_ms: list, begin_energy: float = None, end_energy: float = None):\n",
    "    \"\"\"You need to supply the charge list microstate here. Make sure\n",
    "    the crg file is sorted with increasing order. If you want to filter \n",
    "    charge id based on the energy. Then you need to supply here.\n",
    "    \n",
    "    Variable unique_crg_state_order gives the order of unique charge state based on energy. \n",
    "    Lowest energy charge state will give the order 1 and then second unique charge \n",
    "    state will give the order 2. This order is based on unique charge ms order.\n",
    "    \n",
    "    Returns:\n",
    "     A tuple of lists: all_crg_ms_unique, all_count, unique_crg_state_order, energy_diff_all\n",
    "    \"\"\"\n",
    "    if not begin_energy and not end_energy:\n",
    "        # no energy bounds given\n",
    "        print(\"All energy microstates are selected.\")\n",
    "        begin_energy = crg_list_ms[0][0]\n",
    "        end_energy = crg_list_ms[-1][0]\n",
    "    elif begin_energy and end_energy:\n",
    "        # both energy bounds given\n",
    "        crg_list_ms = [[x[0], x[1], x[2]] for x in crg_list_ms if x[0] >= begin_energy and x[0] <= end_energy]   \n",
    "    else:\n",
    "        sys.exit(\"Both energy bounds are needed.\")\n",
    "        \n",
    "    # unique charge as key and energy, count and order\n",
    "    crg_all_count = {}\n",
    "    unique_crg_state_order = 1\n",
    "    for array in crg_list_ms:\n",
    "        if tuple(array[2]) not in crg_all_count:\n",
    "            crg_all_count[(tuple(array[2]))] = [array[1], [array[0]], [unique_crg_state_order]]\n",
    "            unique_crg_state_order +=1\n",
    "        else:\n",
    "            crg_all_count[(tuple(array[2]))][0] += array[1]\n",
    "\n",
    "            # add the maximum and minimum energy \n",
    "            min_energy = min(min(crg_all_count[(tuple(array[2]))][1]), array[0]) \n",
    "            max_energy = max(max(crg_all_count[(tuple(array[2]))][1]), array[0])\n",
    "\n",
    "            # clear energy list and append minimum and maximum energy\n",
    "            crg_all_count[(tuple(array[2]))][1].clear()\n",
    "            crg_all_count[(tuple(array[2]))][1].append(min_energy)\n",
    "            crg_all_count[(tuple(array[2]))][1].append(max_energy)\n",
    "\n",
    "    # make a list of count, unique charge microstate, energy difference and order.\n",
    "    all_crg_ms_unique  = []\n",
    "    all_count = []\n",
    "    energy_diff_all = []\n",
    "    unique_crg_state_order = []\n",
    "    for u, v in crg_all_count.items():\n",
    "        all_crg_ms_unique.append(list(u))\n",
    "        all_count.append(v[0])\n",
    "        unique_crg_state_order.append(v[2][0])\n",
    "        if len(v[1]) == 2:\n",
    "            energy_diff_all.append(round(v[1][1]-v[1][0], 6))\n",
    "        elif len(v[1]) == 1:\n",
    "            energy_diff_all.append(0)\n",
    "        else:\n",
    "            sys.exit(\"Error while creating unique charge state: len(v[1]) is neither 1 or 2.\")\n",
    "    print(f\"Number of charge ms: {len(crg_list_ms):,}\")\n",
    "    print(f\"Number of unique charge ms: {len(all_crg_ms_unique)}\")\n",
    "    \n",
    "    return all_crg_ms_unique, all_count, unique_crg_state_order, energy_diff_all \n",
    "\n",
    "\n",
    "def ConcaCrgMsPandas(unique_crg_ms_list, ms_count, ms_order, free_residues, background_charge, residue_interest_list):\n",
    "    \"\"\"\n",
    "    \"\"\"\n",
    "    unique_crg_ms_list_pd = pd.DataFrame(unique_crg_ms_list).T\n",
    "    ms_count_pd = pd.DataFrame(ms_count,columns = [\"Count\"]).T\n",
    "    ms_order_pd = pd.DataFrame(ms_order,columns = [\"Order\"]).T\n",
    "    crg_ms_count_pd = pd.concat([unique_crg_ms_list_pd, ms_count_pd, ms_order_pd])\n",
    "    crg_count_res_1 = pd.concat([free_residues,crg_ms_count_pd], axis=1)\n",
    "    crg_count_res_1.loc[\"Count\", 'Residue'] = 'Count'\n",
    "    crg_count_res_1.loc[\"Order\", 'Residue'] = 'Order'\n",
    "    all_crg_count_res = crg_count_res_1.set_index(\"Residue\")\n",
    "    \n",
    "    # sort based on the count\n",
    "    all_crg_count_res = all_crg_count_res.sort_values(by = \"Count\", axis = 1, ascending = False)\n",
    "    all_crg_count_res.columns = range(all_crg_count_res.shape[1])\n",
    "    all_crg_count_res = all_crg_count_res.T.set_index(\"Order\")\n",
    "    all_crg_count_res[\"Occupancy\"] = round(all_crg_count_res[\"Count\"]/ sum(all_crg_count_res[\"Count\"]),3)\n",
    "    all_crg_count_res['Sum_crg_protein'] =  all_crg_count_res.iloc[:, :-2].sum(axis = 1) + background_charge\n",
    "    crg_count_res = all_crg_count_res.copy()\n",
    "    for i in all_crg_count_res.columns:\n",
    "        if i[:3] not in residue_interest_list and i != \"Occupancy\" and i != \"Count\" and i != \"Sum_crg_protein\":\n",
    "            crg_count_res.drop([i], axis = 1, inplace = True)\n",
    "\n",
    "    return crg_count_res"
   ]
  },
  {
   "cell_type": "markdown",
   "metadata": {},
   "source": [
    "## Select all energy microstate list"
   ]
  },
  {
   "cell_type": "code",
   "execution_count": null,
   "metadata": {},
   "outputs": [],
   "source": [
    "charge_ms_file = findUniqueCrgmsCountOrder(crg_orig_lst)\n",
    "\n",
    "all_crg_count_res = ConcaCrgMsPandas(charge_ms_file[0],\n",
    "                                     charge_ms_file[1],\n",
    "                                     charge_ms_file[2], \n",
    "                                     ms_free_residues,\n",
    "                                     background_charge,\n",
    "                                     res_of_interest\n",
    "                                    )\n",
    "all_crg_count_res.head() "
   ]
  },
  {
   "cell_type": "markdown",
   "metadata": {},
   "source": [
    "### This will plot the  tautomer charge distribution of unqiue charge microstate based on the occupancy. Each dot are unique charge microstate and color coded based on the energy difference of that microstate appear in Monte Carlo run. Total charge is sum of background and free charge (protein charge)."
   ]
  },
  {
   "cell_type": "code",
   "execution_count": null,
   "metadata": {},
   "outputs": [],
   "source": [
    "# which tautomer charge state is most populated. This includes the background charge also.\n",
    "\n",
    "x_av = [sum(x) + background_charge for x in charge_ms_file[0]]\n",
    "y_av = [math.log10(x) for x in charge_ms_file[1]]\n",
    "\n",
    "energy_diff_all_fl = [float(x) for x in charge_ms_file[3]]\n",
    "\n",
    "g1 = sns.JointGrid(marginal_ticks=True, height=6)\n",
    "ax = sns.scatterplot(x = x_av,\n",
    "                     y = y_av,\n",
    "                     size = energy_diff_all_fl,\n",
    "                     sizes = (10, 500),\n",
    "                     ax = g1.ax_joint\n",
    "                    )\n",
    "ax.set_xticks(range(int(min(x_av)), int(max(x_av)) + 1))\n",
    "\n",
    "ax.set_xlabel(\"Charge\", fontsize=15)\n",
    "ax.set_ylabel(\"log$_{10}$(Count)\", fontsize=16)\n",
    "\n",
    "ax.legend(bbox_to_anchor=(1.05, 1), loc=2, borderaxespad=0.)\n",
    "ax2 = sns.histplot(x = x_av,\n",
    "                   linewidth = 2,\n",
    "                   discrete = True,\n",
    "                   ax = g1.ax_marg_x\n",
    "                  )\n",
    "ax2.set_ylabel(None, fontsize=16)\n",
    "\n",
    "g1.ax_marg_y.set_axis_off()\n",
    "g1.fig.subplots_adjust(top= 0.9)\n",
    "g1.fig.suptitle(\"All microstates energy (dry2_semi)_pH7\", fontsize = 16)\n",
    "\n",
    "mc_energy_fig = \"output/all_en_cr_ph7_vs_log(count).pdf\"\n",
    "g1.savefig(mc_energy_fig, dpi = 600, bbox_inches = \"tight\");"
   ]
  },
  {
   "cell_type": "markdown",
   "metadata": {},
   "source": [
    "#### This is to get the unique charge microstate less or equal to  lowest energy + 1.36 KCal/Mol. Make sure your supply list is sorted based on energy in ascending (?) order. The order shows in dataframe is here within the selected energy range."
   ]
  },
  {
   "cell_type": "code",
   "execution_count": null,
   "metadata": {},
   "outputs": [],
   "source": [
    "lowest_charge_ms_file = findUniqueCrgmsCountOrder(crg_orig_lst,\n",
    "                                                  begin_energy = crg_orig_lst[0][0],\n",
    "                                                  end_energy = crg_orig_lst[0][0] + 1.36\n",
    "                                                 )\n",
    "low_crg_count_res = ConcaCrgMsPandas(lowest_charge_ms_file[0],\n",
    "                                     lowest_charge_ms_file[1],\n",
    "                                     lowest_charge_ms_file[2], \n",
    "                                     ms_free_residues,\n",
    "                                     background_charge,\n",
    "                                     res_of_interest)\n",
    "low_crg_count_res.head() "
   ]
  },
  {
   "cell_type": "markdown",
   "metadata": {},
   "source": [
    "#### This is to get the unique charge microstate around +/- 0.5 pH unit (+/- 0.68 Kcal/Mol) of average microstate energy. The order shows in dataframe is here within the selected energy range."
   ]
  },
  {
   "cell_type": "code",
   "execution_count": null,
   "metadata": {},
   "outputs": [],
   "source": [
    "average_charge_ms_file = findUniqueCrgmsCountOrder(crg_orig_lst,\n",
    "                                                   begin_energy = (mc.average_E - 0.68),\n",
    "                                                   end_energy = (mc.average_E + 0.68)\n",
    "                                                  )\n",
    "av_crg_count_res = ConcaCrgMsPandas(average_charge_ms_file[0],\n",
    "                                    average_charge_ms_file[1],\n",
    "                                    average_charge_ms_file[2], \n",
    "                                    ms_free_residues,\n",
    "                                    background_charge,\n",
    "                                    res_of_interest\n",
    "                                   )\n",
    "av_crg_count_res.head() "
   ]
  },
  {
   "cell_type": "markdown",
   "metadata": {},
   "source": [
    "### This is to get the unique charge microstate  of 1KT unit(1.36 Kcal/Mol) less or equal than highest energy state. The order shows in dataframe is here within the selected energy range."
   ]
  },
  {
   "cell_type": "code",
   "execution_count": null,
   "metadata": {},
   "outputs": [],
   "source": [
    "highest_charge_ms_file = findUniqueCrgmsCountOrder(crg_orig_lst,\n",
    "                                                   begin_energy = (mc.highest_E - 1.36),\n",
    "                                                   end_energy = mc.highest_E\n",
    "                                                  )\n",
    "high_crg_count_res = ConcaCrgMsPandas(highest_charge_ms_file[0],\n",
    "                                      highest_charge_ms_file[1],\n",
    "                                      highest_charge_ms_file[2], \n",
    "                                      ms_free_residues,\n",
    "                                      background_charge,\n",
    "                                      res_of_interest)\n",
    "high_crg_count_res.head()"
   ]
  },
  {
   "cell_type": "markdown",
   "metadata": {},
   "source": [
    "### Save all the dataframes."
   ]
  },
  {
   "cell_type": "code",
   "execution_count": null,
   "metadata": {},
   "outputs": [],
   "source": [
    "# save all three data frames and non titrable residues charge information.\n",
    "##writer = pd.ExcelWriter('charge_ms_dry2_semi_pH7.xlsx', engine='xlsxwriter')\n",
    "##low_crg_count_res.to_excel(writer, sheet_name='low_crg_count_res')\n",
    "##av_crg_count_res.to_excel(writer, sheet_name='av_crg_count_res')\n",
    "##high_crg_count_res.to_excel(writer, sheet_name='high_crg_count_res')\n",
    "##fixed_residues_crg.to_excel(writer, sheet_name = 'fixed_residues_crg')\n",
    "##writer.save()"
   ]
  },
  {
   "cell_type": "code",
   "execution_count": null,
   "metadata": {},
   "outputs": [],
   "source": [
    "# Assuming you have already defined low_crg_count_res, av_crg_count_res, high_crg_count_res, and fixed_residues_crg\n",
    "outfile_xl = \"output/charge_ms_dry2_semi_pH7.xlsx\"\n",
    "try:\n",
    "    # Create an ExcelWriter object\n",
    "    writer = pd.ExcelWriter(outfile_xl, engine='xlsxwriter')\n",
    "\n",
    "    # Write your dataframes to different sheets\n",
    "    low_crg_count_res.to_excel(writer, sheet_name='low_crg_count_res')\n",
    "    av_crg_count_res.to_excel(writer, sheet_name='av_crg_count_res')\n",
    "    high_crg_count_res.to_excel(writer, sheet_name='high_crg_count_res')\n",
    "    fixed_residues_crg.to_excel(writer, sheet_name='fixed_residues_crg')\n",
    "\n",
    "    # Save the Excel file\n",
    "    writer.save()\n",
    "    print(f\"Excel file {outfile_xl!s} saved successfully.\")\n",
    "\n",
    "except Exception as e:\n",
    "    print(f\"Error occurred while saving Excel file: {str(e)}\")\n",
    "\n",
    "\n",
    "# Save another DataFrame to a CSV file\n",
    "# Due to column size issue in excel for large sytem. We save in csv format for all charge.   \n",
    "crg_count_csv = \"output/all_crg_count_res.csv\"\n",
    "\n",
    "try:\n",
    "    all_crg_count_res.to_csv(crg_count_csv, header=True)\n",
    "    print(f\"CSV file {crg_count_csv!s} saved successfully.\")\n",
    "\n",
    "except Exception as e:\n",
    "    print(f\"Error occurred while saving CSV file: {str(e)}\")\n"
   ]
  },
  {
   "cell_type": "markdown",
   "metadata": {},
   "source": [
    "---\n",
    "# Post-processing of already saved files to get the correlation matrix for residues. "
   ]
  },
  {
   "cell_type": "code",
   "execution_count": null,
   "metadata": {},
   "outputs": [],
   "source": [
    "# This is for correlation.\n",
    "all_crg_count_read = pd.read_csv(crg_count_csv, index_col = 0)\n",
    "all_crg_count =  all_crg_count_read.iloc[:,:-2].T\n",
    "all_crg_count"
   ]
  },
  {
   "cell_type": "code",
   "execution_count": null,
   "metadata": {},
   "outputs": [],
   "source": [
    "# drop if the protonation is not changing in free residues\n",
    "all_crg_count[\"std\"] = all_crg_count.std(axis=1).round(2)\n",
    "all_crg_count_std = all_crg_count.loc[all_crg_count['std'] != 0].T[:-1].reset_index(drop=True)\n",
    "all_crg_count_std"
   ]
  },
  {
   "cell_type": "code",
   "execution_count": null,
   "metadata": {},
   "outputs": [],
   "source": [
    "all_crg_count_std.columns"
   ]
  },
  {
   "cell_type": "code",
   "execution_count": null,
   "metadata": {},
   "outputs": [],
   "source": [
    "# this is for demo: choose your favorite residues:\n",
    "\n",
    "choose_res = [\"GLUN0226_\", \"GLUN0173_\", \"ASPO0085_\"]\n",
    "def choose_res_data(df):\n",
    "    df_choose_re= df.groupby(choose_res).Count.sum().reset_index()\n",
    "    \n",
    "    df_res_sort = df_choose_re.sort_values(by = \"Count\", ascending = False).reset_index(drop=True)\n",
    "    return df_res_sort"
   ]
  },
  {
   "cell_type": "code",
   "execution_count": null,
   "metadata": {},
   "outputs": [],
   "source": [
    "df_choose_res_data = choose_res_data(all_crg_count_std)\n",
    "df_choose_res_data"
   ]
  },
  {
   "cell_type": "code",
   "execution_count": null,
   "metadata": {},
   "outputs": [],
   "source": [
    "df_choose_res_data[\"Occupancy\"] = round(df_choose_res_data[\"Count\"]/sum(df_choose_res_data[\"Count\"]), 2)"
   ]
  },
  {
   "cell_type": "code",
   "execution_count": null,
   "metadata": {},
   "outputs": [],
   "source": [
    "outfile = \"output/cluster4_crg_count_res_june06_king.csv\"\n",
    "df_choose_res_data.to_csv(outfile, header=True)"
   ]
  },
  {
   "cell_type": "code",
   "execution_count": null,
   "metadata": {},
   "outputs": [],
   "source": [
    "def renameOrderResidues(file_input):\n",
    "    rename_dict = {}\n",
    "    acid_list = []\n",
    "    base_list = []\n",
    "    polar_rest_list = []\n",
    "    ub_q_list = []\n",
    "    non_residue_list = []\n",
    "\n",
    "    for i in file_input.columns[:-1]:\n",
    "        residue_number = i[4:8]\n",
    "        if residue_number.isdigit():  # Check if the substring is numeric\n",
    "            rename_dict[i] = i[3] + \"_\" + i[:3] + str(int(residue_number))\n",
    "        else:\n",
    "            rename_dict[i] = i[3] + \"_\" + i[:3] + residue_number\n",
    "\n",
    "    rename_dict[\"Count\"] = \"Count\"\n",
    "\n",
    "    for x, y in rename_dict.items():\n",
    "        if y[2:5] == 'ASP':\n",
    "            rename_dict[x] = y[:1] + 'D' + y[5:]\n",
    "            acid_list.append(y[:1] + 'D' + y[5:])\n",
    "        if y[2:5] == 'GLU':\n",
    "            rename_dict[x] = y[:1] + 'E' + y[5:]\n",
    "            acid_list.append(y[:1] + 'E' + y[5:])\n",
    "        if y[2:5] == 'ARG':\n",
    "            rename_dict[x] = y[:1] + 'R' + y[5:]\n",
    "            base_list.append(y[:1] + 'R' + y[5:])\n",
    "        if y[2:5] == 'HIS':\n",
    "            rename_dict[x] = y[:1] + 'H' + y[5:]\n",
    "            base_list.append(y[:1] + 'H' + y[5:])\n",
    "        if y[2:5] == 'LYS':\n",
    "            rename_dict[x] = y[:1] + 'K' + y[5:]\n",
    "            base_list.append(y[:1] + 'K' + y[5:])\n",
    "        if y[2:5] == 'TYR':\n",
    "            rename_dict[x] = y[:1] + 'Y' + y[5:]\n",
    "            polar_rest_list.append(y[:1] + 'Y' + y[5:])\n",
    "        if y[2:5] == 'CYS':\n",
    "            rename_dict[x] = y[:1] + 'C' + y[5:]\n",
    "            polar_rest_list.append(y[:1] + 'C' + y[5:])\n",
    "        if y[2:5] == 'PL9':\n",
    "            rename_dict[x] = 'MQ8' + y[5:]\n",
    "            ub_q_list.append('MQ8' + y[5:])\n",
    "        if y == \"Count\":\n",
    "            non_residue_list.append(y)\n",
    "\n",
    "    col_order_list = acid_list + polar_rest_list + base_list + ub_q_list + non_residue_list\n",
    "    file_input = file_input.rename(rename_dict, axis=1)\n",
    "    file_input = file_input[col_order_list]\n",
    "    return file_input"
   ]
  },
  {
   "cell_type": "code",
   "execution_count": null,
   "metadata": {},
   "outputs": [],
   "source": [
    "df_chosen_res_renamed = renameOrderResidues(df_choose_res_data)\n",
    "df_chosen_res_renamed"
   ]
  },
  {
   "cell_type": "markdown",
   "metadata": {},
   "source": [
    "# Weighted correlation"
   ]
  },
  {
   "cell_type": "code",
   "execution_count": null,
   "metadata": {},
   "outputs": [],
   "source": [
    "df_correlation = wc.WeightedCorr(df=df_chosen_res_renamed, wcol=\"Count\")(method=\"pearson\")\n",
    "df_correlation"
   ]
  },
  {
   "cell_type": "code",
   "execution_count": null,
   "metadata": {},
   "outputs": [],
   "source": [
    "def dropCorrCriterion(data_frame, cutoff=0.1):\n",
    "    \"\"\"\n",
    "    # FIX: Does it work?\n",
    "    Drop the residues if any of the correlation value is not greater than 0.1 except that residues.\n",
    "    \"\"\"\n",
    "    if not cutoff:\n",
    "        for i in data_frame.columns:\n",
    "            if list(abs(data_frame[i]) >= cutoff).count(True) == 1:\n",
    "                data_frame.drop(i, inplace=True)\n",
    "                data_frame.drop(i, axis=1, inplace=True)\n",
    "\n",
    "    return data_frame"
   ]
  },
  {
   "cell_type": "code",
   "execution_count": null,
   "metadata": {},
   "outputs": [],
   "source": [
    "df_corr_drop = dropCorrCriterion(df_correlation)\n",
    "df_corr_drop"
   ]
  },
  {
   "cell_type": "markdown",
   "metadata": {},
   "source": [
    "## Create a heatmap to display the residue correlation:"
   ]
  },
  {
   "cell_type": "code",
   "execution_count": null,
   "metadata": {},
   "outputs": [],
   "source": [
    "plt.figure(figsize=(25, 8))\n",
    "cmap = ListedColormap([\"darkred\", \"red\", \"pink\", \"lightgray\",\"skyblue\", \"blue\", \"darkblue\"])\n",
    "bounds = [-1.0, -0.5, -0.3, -0.1, 0.1, 0.3, 0.5, 1.0]\n",
    "norm = BoundaryNorm(bounds, cmap.N)\n",
    "heatmap = sns.heatmap(df_correlation,\n",
    "                      linecolor=\"gray\",\n",
    "                      cmap=cmap,\n",
    "                      norm=norm,\n",
    "                      square=True,\n",
    "                      fmt=\".2f\",\n",
    "                      linewidths=.01,\n",
    "                      annot=True,\n",
    "                      annot_kws={\"fontsize\":12}\n",
    "                     )\n",
    "heatmap.set_title(\"Loaded\", fontdict={\"fontsize\":18}, pad=16)\n",
    "cbar = heatmap.collections[0].colorbar\n",
    "cbar.ax.tick_params(labelsize=20)\n",
    "\n",
    "plt.ylabel(None)\n",
    "plt.xlabel(None)\n",
    "plt.yticks(fontsize = 15, rotation = 0)\n",
    "plt.xticks(fontsize = 15, rotation = 90)\n",
    "\n",
    "corr_pdf = \"output/corr.pdf\"\n",
    "plt.savefig(corr_pdf, dpi=600, bbox_inches=\"tight\");"
   ]
  }
 ],
 "metadata": {
  "kernelspec": {
   "display_name": "Python (p310)",
   "language": "python",
   "name": "p310"
  },
  "language_info": {
   "codemirror_mode": {
    "name": "ipython",
    "version": 3
   },
   "file_extension": ".py",
   "mimetype": "text/x-python",
   "name": "python",
   "nbconvert_exporter": "python",
   "pygments_lexer": "ipython3",
   "version": "3.10.15"
  }
 },
 "nbformat": 4,
 "nbformat_minor": 4
}

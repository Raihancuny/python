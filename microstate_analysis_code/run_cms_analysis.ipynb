{
 "cells": [
  {
   "cell_type": "code",
   "execution_count": 1,
   "metadata": {},
   "outputs": [],
   "source": [
    "# Notebook behavior:\n",
    "\n",
    "# Enable multiple outputs from one cell:\n",
    "from IPython.core.interactiveshell import InteractiveShell\n",
    "InteractiveShell.ast_node_interactivity = \"all\"\n",
    "from IPython.display import Markdown, Image\n",
    "\n",
    "# autoreload extension: automaticall refresh imports when code is changed:\n",
    "%load_ext autoreload\n",
    "%autoreload 2"
   ]
  },
  {
   "cell_type": "markdown",
   "metadata": {},
   "source": [
    "# run_cms_analysis.ipynb\n",
    "---"
   ]
  },
  {
   "cell_type": "raw",
   "metadata": {},
   "source": [
    "Image(filename=\"4lzt/crgms_corr/crgms_logcount_vs_all_E_ph7.png\")"
   ]
  },
  {
   "cell_type": "markdown",
   "metadata": {
    "tags": []
   },
   "source": [
    "# Tutorial notebook for processing MCCE microstate file in ms_out folder.\n",
    "\n",
    "# Required mcce run output files:\n",
    "### 1. head3.lst\n",
    "### 2. file in ms_out/, a.k.a. the 'msout file'\n",
    " * Notes:\n",
    "   - The ms_out folder is retained when the `--ms` flag is used at the command line for Step 4: `step4.py --ms`;\n",
    "   - Format of the msout file name: pHXeHYms.tx at pH point X and Eh point Y;\n",
    "   - The most typical filename encountered is \"pH7eH0ms.txt\", meaning the MCCE simulation was a pH titation run at pH7.\n",
    "---"
   ]
  },
  {
   "cell_type": "markdown",
   "metadata": {},
   "source": [
    "## Load the needed libraries and modules:"
   ]
  },
  {
   "cell_type": "code",
   "execution_count": 2,
   "metadata": {},
   "outputs": [],
   "source": [
    "from pathlib import Path\n",
    "here = Path.cwd()\n",
    "\n",
    "# Module needed to read the microstate file:\n",
    "import cms_analysis_wc as msa"
   ]
  },
  {
   "cell_type": "markdown",
   "metadata": {},
   "source": [
    "---\n",
    "# Inputs\n",
    "## Required user input: the path to the msout file:\n",
    " * e.g. 4lzt/ms_out/pH7eH0ms.txt\n",
    "## Optional user input: list of residues of interest\n",
    "---"
   ]
  },
  {
   "cell_type": "markdown",
   "metadata": {},
   "source": [
    "# Get the paths to the input files using a folder name and a pH point (as string):"
   ]
  },
  {
   "cell_type": "code",
   "execution_count": 6,
   "metadata": {},
   "outputs": [
    {
     "name": "stdout",
     "output_type": "stream",
     "text": [
      "h3_path: /home/cat/projects/raihan/python/microstate_analysis_code/4lzt/head3.lst\n",
      "msout_file: /home/cat/projects/raihan/python/microstate_analysis_code/4lzt/ms_out/pH7eH0ms.txt\n",
      "output_dir: 4lzt/crgms_corr\n"
     ]
    }
   ],
   "source": [
    "mcce_dir = Path(\"4lzt\")  # local folder\n",
    "msout_file = \"pH7eH0ms.txt\"\n",
    "\n",
    "p, e = msout_file[:-4].lower().split(\"eh\")\n",
    "ph = p.removeprefix(\"ph\")\n",
    "eh = e.removesuffix(\"ms\")\n",
    "\n",
    "h3_path, msout_file = msa.get_mcce_input_files(mcce_dir, ph, eh) \n",
    "\n",
    "outname = \"crgms_corr\"\n",
    "# Ensure the output directory exists:\n",
    "output_dir = mcce_dir.joinpath(outname)\n",
    "if not output_dir.exists():\n",
    "    output_dir.mkdir()\n",
    "\n",
    "print(f\"h3_path: {str(h3_path)}\")\n",
    "print(f\"msout_file: {str(msout_file)}\")\n",
    "print(f\"output_dir: {str(output_dir)}\")"
   ]
  },
  {
   "cell_type": "markdown",
   "metadata": {},
   "source": [
    "# Residues of interest\n",
    "\n",
    "Note: Make sure to add the names of your residues of interest, such as quinone, here:"
   ]
  },
  {
   "cell_type": "markdown",
   "metadata": {},
   "source": [
    "### Which kind of residues to consider (3-letter codes)\n",
    "\n",
    "#### Code for interactive input to obtain `user_resoi`:\n",
    "Example string to give:  \n",
    "ASP, pl9 GLU, LYS ARG HIS, TYR NTR PAA, HEM\n",
    "   \n",
    "  ```\n",
    "  user_resoi = msa.split_spunct(input(\"Enter which kind of residues are of interest, e.g. ASP, HIS:\\n\"), upper=True)\n",
    "  ```"
   ]
  },
  {
   "cell_type": "code",
   "execution_count": 7,
   "metadata": {},
   "outputs": [
    {
     "name": "stdout",
     "output_type": "stream",
     "text": [
      "Sorted resoi kinds: ['ASP', 'GLU', 'HIS', 'TYR', 'NTR', 'CTR', 'HEM', 'PL9']\n",
      "Chosen resid for correlation: ['GLUA0035_', 'HISA0015_', 'ASPA0123_']\n"
     ]
    }
   ],
   "source": [
    "# Which kind of residues to consider (3-letter codes):\n",
    "\n",
    "user_resoi = [\"ASP\", \"HEM\", \"PL9\", \"GLU\", \"HIS\", \"TYR\", \"NTR\", \"CTR\"]\n",
    "residue_kinds = msa.sort_resoi_list(user_resoi)\n",
    "print(\"Sorted resoi kinds:\", residue_kinds)\n",
    "\n",
    "# Specific residues of interest for correlation.\n",
    "# Here the list supplied must be conformer ids as they appear in the conformers list, without \"-\" or \"+\":\n",
    "choose_res = [\"GLUA0035_\", \"HISA0015_\", \"ASPA0123_\", \"LYSA0013_\"]\n",
    "\n",
    "correl_resids = [res for res in choose_res if res[:3] in residue_kinds]\n",
    "print(\"Chosen resid for correlation:\", correl_resids)"
   ]
  },
  {
   "cell_type": "markdown",
   "metadata": {},
   "source": [
    "### Populate the conformers list:"
   ]
  },
  {
   "cell_type": "code",
   "execution_count": 22,
   "metadata": {},
   "outputs": [
    {
     "name": "stdout",
     "output_type": "stream",
     "text": [
      "Conformers count: 314\n"
     ]
    }
   ],
   "source": [
    "conformers = msa.read_conformers(h3_path)\n",
    "n_conformers = len(conformers)\n",
    "print(f\"Conformers count: {n_conformers:,}\")"
   ]
  },
  {
   "cell_type": "code",
   "execution_count": 9,
   "metadata": {},
   "outputs": [
    {
     "name": "stderr",
     "output_type": "stream",
     "text": [
      "[WARNING]: check_res_list:\n",
      "\tRemoving 'ASPA0123_' from correl_lst: not in conformers.\n"
     ]
    },
    {
     "name": "stdout",
     "output_type": "stream",
     "text": [
      "Valid resid for correlation: ['GLUA0035_', 'HISA0015_']\n"
     ]
    }
   ],
   "source": [
    "# check correl_resids are in conformers list\n",
    "correl_resids = msa.check_res_list(correl_resids, confs_lst=conformers)\n",
    "print(\"Valid resid for correlation:\", correl_resids)"
   ]
  },
  {
   "cell_type": "markdown",
   "metadata": {},
   "source": [
    "# Instantiate `msa.MSout` class with the given msout file:"
   ]
  },
  {
   "cell_type": "code",
   "execution_count": 20,
   "metadata": {},
   "outputs": [
    {
     "name": "stdout",
     "output_type": "stream",
     "text": [
      "\n",
      "Number of microstates: 1,500,000\n",
      "Number of unique microstates: 394,139\n",
      "Energies: lowest_E: -184.97; average_E: -179.39; highest_E: -166.75\n",
      "Free residues: 47\n",
      "Fixed residues: 81\n",
      "\n"
     ]
    }
   ],
   "source": [
    "mc = msa.MSout(msout_file)\n",
    "print(mc)"
   ]
  },
  {
   "cell_type": "markdown",
   "metadata": {},
   "source": [
    "#### [ optional ]\n",
    "#### Learn which methods come with the instantiated class (mc)\n",
    " * What's in the MSout class?"
   ]
  },
  {
   "cell_type": "raw",
   "metadata": {
    "jupyter": {
     "source_hidden": true
    }
   },
   "source": [
    "# Uncomment to display:\n",
    "\n",
    "#print(\"Methods mc, the in msa.MSout instance:\")\n",
    "#print([obj for obj in dir(mc) if not obj.startswith(\"__\")])"
   ]
  },
  {
   "cell_type": "markdown",
   "metadata": {},
   "source": [
    "### In MCCE, residues are divided into fixed or free residue groups.\n",
    " * Only free residues appear in the microstate sate list.\n",
    " * Fixed residues can be ionizable residues so we need to include their contribution to the total charge, which is referred to here as __background charge__. "
   ]
  },
  {
   "cell_type": "markdown",
   "metadata": {},
   "source": [
    "#### Free residues information"
   ]
  },
  {
   "cell_type": "code",
   "execution_count": 23,
   "metadata": {
    "jupyter": {
     "source_hidden": true
    }
   },
   "outputs": [],
   "source": [
    "# Uncomment to display:\n",
    "\n",
    "#print(\"mc.free_residues list holds each free residues' conformers.\\nSample data:\\n\", mc.free_residues[:2])"
   ]
  },
  {
   "cell_type": "code",
   "execution_count": 83,
   "metadata": {},
   "outputs": [
    {
     "name": "stdout",
     "output_type": "stream",
     "text": [
      "Number of free residues: 47\n"
     ]
    }
   ],
   "source": [
    "# Save the free_residues in a pandas.DataFrame, it will be one of the inputs to the function msa.ConcaCrgMsPandas:\n",
    "free_residues_df = msa.free_residues_to_df(mc.free_residues, conformers, colname=\"Residue\")\n",
    "print(f\"Number of free residues: {free_residues_df.shape[0]:,}\")"
   ]
  },
  {
   "cell_type": "code",
   "execution_count": 84,
   "metadata": {},
   "outputs": [],
   "source": [
    "# Uncomment to display:\n",
    "\n",
    "#free_residues_df.head(3)\n",
    "#free_residues_df.tail(3)"
   ]
  },
  {
   "cell_type": "code",
   "execution_count": 85,
   "metadata": {},
   "outputs": [],
   "source": [
    "# Get their net charges into a df for combining with fixed_res\n",
    "\n",
    "free_res_crg_df = msa.free_res2sumcrg_df(mc.microstates.values(), mc.free_residues, conformers)"
   ]
  },
  {
   "cell_type": "code",
   "execution_count": 86,
   "metadata": {},
   "outputs": [],
   "source": [
    "# Uncomment to display:\n",
    "\n",
    "#free_res_crg_df.head()"
   ]
  },
  {
   "cell_type": "markdown",
   "metadata": {},
   "source": [
    "#### Fixed residues charge.\n",
    "(Make sure to account for fixed residues charge for MD simulation protonation input.)"
   ]
  },
  {
   "cell_type": "markdown",
   "metadata": {},
   "source": [
    "__For all fixed residues:__  \n",
    "```\n",
    "fixed_residues_info(\n",
    "    fixed_iconfs: list, conformers: list, res_of_interest: list = IONIZABLES\n",
    ") -> Tuple[float, pd.DataFrame, dict]:\n",
    "```"
   ]
  },
  {
   "cell_type": "code",
   "execution_count": 87,
   "metadata": {},
   "outputs": [
    {
     "name": "stdout",
     "output_type": "stream",
     "text": [
      "Background charge: 8.0\n",
      "Number of fixed residues: 25\n"
     ]
    }
   ],
   "source": [
    "background_crg, all_fixed_res_crg_df, all_fixed_res_crg_dict = msa.fixed_residues_info(mc.fixed_iconfs, conformers)\n",
    "\n",
    "print(\"Background charge:\", background_crg)\n",
    "print(\"Number of fixed residues:\", len(all_fixed_res_crg_dict))"
   ]
  },
  {
   "cell_type": "code",
   "execution_count": 88,
   "metadata": {
    "jupyter": {
     "source_hidden": true
    }
   },
   "outputs": [],
   "source": [
    "# Uncomment to display:\n",
    "\n",
    "#all_fixed_res_crg_df.head()"
   ]
  },
  {
   "cell_type": "markdown",
   "metadata": {},
   "source": [
    "### Combine free & fixed res with crg and save to csv:"
   ]
  },
  {
   "cell_type": "code",
   "execution_count": 89,
   "metadata": {},
   "outputs": [
    {
     "name": "stdout",
     "output_type": "stream",
     "text": [
      "all_res_crg_df.shape = (2, 72)\n"
     ]
    }
   ],
   "source": [
    "all_res_crg_df = msa.combine_all_free_fixed_residues(free_res_crg_df, all_fixed_res_crg_df)\n",
    "print(f\"{all_res_crg_df.shape = }\")\n",
    "\n",
    "# Save to csv:\n",
    "# file_name :: all_res_crg_csv\n",
    "all_res_crg_df.to_csv(output_dir.joinpath(\"all_res_crg_ph7.csv\"), index_label=\"Residue\")"
   ]
  },
  {
   "cell_type": "code",
   "execution_count": 90,
   "metadata": {
    "jupyter": {
     "source_hidden": true
    }
   },
   "outputs": [],
   "source": [
    "# Uncomment to display:\n",
    "\n",
    "#all_res_crg_df"
   ]
  },
  {
   "cell_type": "markdown",
   "metadata": {},
   "source": [
    "__For fixed residues among residues of interest:__  \n",
    "#### Save the fixed residues in your residues of interest to a separate list, DataFrame & csv:"
   ]
  },
  {
   "cell_type": "code",
   "execution_count": 91,
   "metadata": {},
   "outputs": [
    {
     "name": "stdout",
     "output_type": "stream",
     "text": [
      "Fixed res in residues of interest: 9\n"
     ]
    }
   ],
   "source": [
    "background_crg, fixed_resoi_crg_df, fixed_resoi_crg_dict = msa.fixed_residues_info(mc.fixed_iconfs,\n",
    "                                                                                   conformers,\n",
    "                                                                                   residue_kinds)\n",
    "n_fixed_resoi = fixed_resoi_crg_df.shape[0]\n",
    "if n_fixed_resoi:\n",
    "    print(\"Fixed res in residues of interest:\", n_fixed_resoi)\n",
    "    # save to csv:\n",
    "    fixed_resoi_crg_df.to_csv(output_dir.joinpath(\"fixed_crg_resoi_ph7.csv\"), index=False)\n",
    "else:\n",
    "    fixed_resoi_crg_df = None\n",
    "    print(\"No fixed residues of interest.\")"
   ]
  },
  {
   "cell_type": "code",
   "execution_count": 92,
   "metadata": {
    "jupyter": {
     "source_hidden": true
    }
   },
   "outputs": [],
   "source": [
    "# Uncomment to display:\n",
    "\n",
    "#if n_fixed_resoi:\n",
    "#    fixed_resoi_crg_df"
   ]
  },
  {
   "cell_type": "markdown",
   "metadata": {},
   "source": [
    "#### The following saves sorted microstates attributes (energy, count and microstate state) into a list;\n",
    "  * `ms_orig_lst` holds each microstate's attributes sorted by energy.\n",
    "  * The first attribute is the microstate energy, the second is the multiplicity of that state (mso.microstates holds unique ms info), the last one is the list of conformers in that state.\n",
    "  * The conformer numbers align with head3.lst. Head3.lst starts at 1; ms lists start at 0."
   ]
  },
  {
   "cell_type": "code",
   "execution_count": 93,
   "metadata": {},
   "outputs": [],
   "source": [
    "# mc.sort_microstates() returns a list of sorted ms objects:\n",
    "\n",
    "ms_orig_lst = [[ms.E, ms.count, ms.state] for ms in mc.sort_microstates()]"
   ]
  },
  {
   "cell_type": "code",
   "execution_count": 94,
   "metadata": {
    "jupyter": {
     "source_hidden": true
    }
   },
   "outputs": [],
   "source": [
    "# Sample data (uncomment to display):\n",
    "\n",
    "#len(ms_orig_lst)\n",
    "#print(ms_orig_lst[:2])"
   ]
  },
  {
   "cell_type": "markdown",
   "metadata": {},
   "source": [
    "### Plot the enthalpy distribution using `msa.ms_energy_histogram`:\n",
    "   ```\n",
    "    msa.ms_energy_histogram(ms_by_enrg: list,\n",
    "                            out_dir: pathlib.Path,\n",
    "                            save_name: str = 'enthalpy_dist.pdf',\n",
    "                            show: bool = False)\n",
    "   ```"
   ]
  },
  {
   "cell_type": "code",
   "execution_count": 95,
   "metadata": {},
   "outputs": [
    {
     "name": "stderr",
     "output_type": "stream",
     "text": [
      "[INFO]: ms_energy_histogram:\n",
      "\tHistogram figure saved as 4lzt/crgms_corr/enthalpy_dist.png\n"
     ]
    },
    {
     "data": {
      "image/png": "[encoded data removed]",
      "text/plain": [
       "<Figure size 800x800 with 1 Axes>"
      ]
     },
     "metadata": {},
     "output_type": "display_data"
    }
   ],
   "source": [
    "msa.ms_energy_histogram(ms_orig_lst, output_dir, show=True)"
   ]
  },
  {
   "cell_type": "markdown",
   "metadata": {},
   "source": [
    "---\n",
    "## Conformer microstates to charge microstates conversion"
   ]
  },
  {
   "cell_type": "markdown",
   "metadata": {},
   "source": [
    "### This will map the microstate conformer id to its corresponding charge, and convert the conformer microstates from `mc` to charge microstates:"
   ]
  },
  {
   "cell_type": "code",
   "execution_count": 96,
   "metadata": {},
   "outputs": [],
   "source": [
    "# Map conf index to conf charge:\n",
    "id_vs_charge = msa.iconf2crg(conformers)\n",
    "\n",
    "# This list structure is similar to that in ms_orig_lst;\n",
    "# For each ms, it holds a list = [E, count, [crgms state]], but now the state list gives the charge\n",
    "# of the free residues coformers:\n",
    "crg_orig_lst = msa.ms2crgms(ms_orig_lst, id_vs_charge)"
   ]
  },
  {
   "cell_type": "code",
   "execution_count": 97,
   "metadata": {
    "jupyter": {
     "source_hidden": true
    }
   },
   "outputs": [],
   "source": [
    "# Sample data (uncomment to display):\n",
    "\n",
    "#print(crg_orig_lst[:2])"
   ]
  },
  {
   "cell_type": "markdown",
   "metadata": {},
   "source": [
    "---\n",
    "# Process the charge microstates into various outputs"
   ]
  },
  {
   "cell_type": "markdown",
   "metadata": {},
   "source": [
    "## Unfiltered charge microstates\n",
    "### Note: Outputs of msa.find_uniq_crgms_count_order:\n",
    "```\n",
    "  0: all_crg_ms_unique,\n",
    "  1: all_count,\n",
    "  2: unique_crg_state_order,\n",
    "  3: energy_diff_all (used in plot)\n",
    "```"
   ]
  },
  {
   "cell_type": "code",
   "execution_count": 98,
   "metadata": {},
   "outputs": [
    {
     "name": "stderr",
     "output_type": "stream",
     "text": [
      "[INFO]: find_uniq_crgms_count_order:\n",
      "\tNo energy bounds given: All microstates are selected.\n",
      "[INFO]: find_uniq_crgms_count_order:\n",
      "\tNumber of charge ms: 394,139\n"
     ]
    },
    {
     "name": "stdout",
     "output_type": "stream",
     "text": [
      "Using unfilteresd charge microstate energies.\n"
     ]
    },
    {
     "name": "stderr",
     "output_type": "stream",
     "text": [
      "[INFO]: find_uniq_crgms_count_order:\n",
      "\tNumber of unique charge ms: 15\n"
     ]
    }
   ],
   "source": [
    "print(\"Using unfilteresd charge microstate energies.\")\n",
    "\n",
    "crgms_files = msa.find_uniq_crgms_count_order(crg_orig_lst)\n",
    "\n",
    "all_crg_count_res = msa.concat_crgms_dfs(crgms_files[0],\n",
    "                                         crgms_files[1],\n",
    "                                         crgms_files[2], \n",
    "                                         free_residues_df,\n",
    "                                         background_crg,\n",
    "                                         res_of_interest=residue_kinds\n",
    "                                         )"
   ]
  },
  {
   "cell_type": "code",
   "execution_count": 99,
   "metadata": {
    "jupyter": {
     "source_hidden": true
    }
   },
   "outputs": [],
   "source": [
    "# Sample data (uncomment to display):\n",
    "\n",
    "#all_crg_count_res.head()"
   ]
  },
  {
   "cell_type": "markdown",
   "metadata": {},
   "source": [
    "### This will plot the tautomer charge distribution of unqiue charge microstates based on the occupancy. \n",
    "Each dot are unique charge microstate and color coded based on the energy difference of that microstate appear in Monte Carlo run. Total charge is sum of background and free charge (protein charge)."
   ]
  },
  {
   "cell_type": "markdown",
   "metadata": {},
   "source": [
    "### In `msa.unique_crgms_histogram`, the color variation (hue) indicates the size of the energy range for non-unique crgms. The size of the circle reflects the count."
   ]
  },
  {
   "cell_type": "code",
   "execution_count": 100,
   "metadata": {},
   "outputs": [
    {
     "name": "stderr",
     "output_type": "stream",
     "text": [
      "[INFO]: unique_crgms_histogram:\n",
      "\tFigure saved: 4lzt/crgms_corr/crgms_logcount_vs_all_E_ph7.png\n"
     ]
    },
    {
     "data": {
      "image/png": "[encoded data removed]",
      "text/plain": [
       "<Figure size 600x600 with 3 Axes>"
      ]
     },
     "metadata": {},
     "output_type": "display_data"
    }
   ],
   "source": [
    "title = \"All Microstates Energy, pH\" + ph\n",
    "msa.unique_crgms_histogram(crgms_files,\n",
    "                           background_crg,\n",
    "                           title,\n",
    "                           output_dir,\n",
    "                           save_name=\"crgms_logcount_vs_all_E_ph\"+ph+\".png\",\n",
    "                           show=True)"
   ]
  },
  {
   "cell_type": "markdown",
   "metadata": {},
   "source": [
    "#### This is to get the unique charge microstates >= lowest energy + 1.36 kcal/mol. \n",
    "Make sure your supply list is sorted based on energy in ascending order. \n",
    "The order in the dataframe is within the selected energy range."
   ]
  },
  {
   "cell_type": "code",
   "execution_count": 101,
   "metadata": {},
   "outputs": [
    {
     "name": "stderr",
     "output_type": "stream",
     "text": [
      "[INFO]: find_uniq_crgms_count_order:\n",
      "\tNumber of energy-filtered charge ms: 2,198\n",
      "[INFO]: find_uniq_crgms_count_order:\n",
      "\tNumber of unique charge ms: 2\n"
     ]
    },
    {
     "name": "stdout",
     "output_type": "stream",
     "text": [
      "Using charge microstate energies within 1 pH unit (+ 1.36 kcal/mol) of the lowest E: (-184.972214, -183.612214)\n"
     ]
    }
   ],
   "source": [
    "begin_E = crg_orig_lst[0][0]\n",
    "end_E = crg_orig_lst[0][0] + 1.36\n",
    "print(f\"Using charge microstate energies within 1 pH unit (+ 1.36 kcal/mol) of the lowest E: ({begin_E}, {end_E})\")\n",
    "\n",
    "lowest_crgms_files = msa.find_uniq_crgms_count_order(crg_orig_lst,\n",
    "                                                   begin_energy = begin_E,\n",
    "                                                   end_energy = end_E\n",
    "                                                   )\n",
    "lowest_crg_count_res = msa.concat_crgms_dfs(lowest_crgms_files[0],\n",
    "                                            lowest_crgms_files[1],\n",
    "                                            lowest_crgms_files[2], \n",
    "                                            free_residues_df,\n",
    "                                            background_crg,\n",
    "                                            res_of_interest=residue_kinds)"
   ]
  },
  {
   "cell_type": "code",
   "execution_count": 102,
   "metadata": {
    "jupyter": {
     "source_hidden": true
    }
   },
   "outputs": [],
   "source": [
    "# Sample data (uncomment to display):\n",
    "\n",
    "#lowest_crg_count_res.head(3) "
   ]
  },
  {
   "cell_type": "code",
   "execution_count": 103,
   "metadata": {},
   "outputs": [
    {
     "name": "stderr",
     "output_type": "stream",
     "text": [
      "[INFO]: unique_crgms_histogram:\n",
      "\tFigure saved: 4lzt/crgms_corr/crgms_logcount_vs_lowest_E_ph7.png\n"
     ]
    },
    {
     "data": {
      "image/png": "[encoded data removed]",
      "text/plain": [
       "<Figure size 600x600 with 3 Axes>"
      ]
     },
     "metadata": {},
     "output_type": "display_data"
    }
   ],
   "source": [
    "title = \"Microstates Energy within 1.36 kcal/mol of Lowest, pH\"+ph\n",
    "msa.unique_crgms_histogram(lowest_crgms_files,\n",
    "                           background_crg,\n",
    "                           title,\n",
    "                           output_dir,\n",
    "                           save_name=\"crgms_logcount_vs_lowest_E_ph\"+ph+\".png\",\n",
    "                           show=True)"
   ]
  },
  {
   "cell_type": "markdown",
   "metadata": {},
   "source": [
    "#### This is to get the unique charge microstates within +/- 0.5 pH unit (+/- 0.68 kcal/mol) of average microstate energy"
   ]
  },
  {
   "cell_type": "code",
   "execution_count": 104,
   "metadata": {},
   "outputs": [
    {
     "name": "stderr",
     "output_type": "stream",
     "text": [
      "[INFO]: find_uniq_crgms_count_order:\n",
      "\tNumber of energy-filtered charge ms: 93,790\n"
     ]
    },
    {
     "name": "stdout",
     "output_type": "stream",
     "text": [
      "Using charge microstates energies within +/- 0.5 pH unit (+/- 0.68 kcal/mol) of the average conformer microstate energy: (-180.07293514108827, -178.71293514108825)\n"
     ]
    },
    {
     "name": "stderr",
     "output_type": "stream",
     "text": [
      "[INFO]: find_uniq_crgms_count_order:\n",
      "\tNumber of unique charge ms: 9\n"
     ]
    }
   ],
   "source": [
    "begin_mc_aver = mc.average_E - 0.68\n",
    "end_mc_aver = mc.average_E + 0.68\n",
    "print(\"Using charge microstates energies within +/- 0.5 pH unit (+/- 0.68 kcal/mol)\",\n",
    "      f\"of the average conformer microstate energy: ({begin_mc_aver}, {end_mc_aver})\")\n",
    "\n",
    "aver_crgms_files = msa.find_uniq_crgms_count_order(crg_orig_lst,\n",
    "                                                   begin_energy = begin_mc_aver,\n",
    "                                                   end_energy = end_mc_aver)\n",
    "av_crg_count_res = msa.concat_crgms_dfs(aver_crgms_files[0],\n",
    "                                        aver_crgms_files[1],\n",
    "                                        aver_crgms_files[2], \n",
    "                                        free_residues_df,\n",
    "                                        background_crg,\n",
    "                                        res_of_interest=residue_kinds\n",
    "                                       )"
   ]
  },
  {
   "cell_type": "code",
   "execution_count": 105,
   "metadata": {
    "jupyter": {
     "source_hidden": true
    }
   },
   "outputs": [],
   "source": [
    "# Sample data (uncomment to display):\n",
    "\n",
    "#av_crg_count_res.head(3) "
   ]
  },
  {
   "cell_type": "code",
   "execution_count": 107,
   "metadata": {},
   "outputs": [
    {
     "name": "stderr",
     "output_type": "stream",
     "text": [
      "[INFO]: unique_crgms_histogram:\n",
      "\tFigure saved: 4lzt/crgms_corr/crgms_logcount_vs_aver_E_ph7.png\n"
     ]
    },
    {
     "data": {
      "image/png": "[encoded data removed]",
      "text/plain": [
       "<Figure size 600x600 with 3 Axes>"
      ]
     },
     "metadata": {},
     "output_type": "display_data"
    }
   ],
   "source": [
    "title = \"Microstates Energy within 0.5 pH unit (0.68 kcal/mol) of Average, pH\"+ph\n",
    "msa.unique_crgms_histogram(aver_crgms_files,\n",
    "                           background_crg,\n",
    "                           title,\n",
    "                           output_dir,\n",
    "                           save_name=\"crgms_logcount_vs_aver_E_ph\"+ph+\".png\",\n",
    "                           show=True)"
   ]
  },
  {
   "cell_type": "markdown",
   "metadata": {},
   "source": [
    "#### This is to get the unique charge microstates >= 1 KT unit (1.36 kcal/mol) of highest microstate energy"
   ]
  },
  {
   "cell_type": "code",
   "execution_count": 108,
   "metadata": {},
   "outputs": [
    {
     "name": "stderr",
     "output_type": "stream",
     "text": [
      "[INFO]: find_uniq_crgms_count_order:\n",
      "\tNumber of energy-filtered charge ms: 9\n",
      "[INFO]: find_uniq_crgms_count_order:\n",
      "\tNumber of unique charge ms: 3\n"
     ]
    },
    {
     "name": "stdout",
     "output_type": "stream",
     "text": [
      "Using charge microstates energies within 1 pH unit (- 1.36 kcal/mol) of the highest conformer microstate energy: (-168.10801600000002, -166.748016)\n"
     ]
    }
   ],
   "source": [
    "begin_mc_highest = mc.highest_E - 1.36\n",
    "end_mc_highest = mc.highest_E\n",
    "print(\"Using charge microstates energies within 1 pH unit (- 1.36 kcal/mol)\",\n",
    "      f\"of the highest conformer microstate energy: ({begin_mc_highest}, {end_mc_highest})\")\n",
    "\n",
    "\n",
    "highest_crgms_files = msa.find_uniq_crgms_count_order(crg_orig_lst,\n",
    "                                                      begin_energy = begin_mc_highest,\n",
    "                                                      end_energy = end_mc_highest)\n",
    "\n",
    "high_crg_count_res = msa.concat_crgms_dfs(highest_crgms_files[0],\n",
    "                                          highest_crgms_files[1],\n",
    "                                          highest_crgms_files[2], \n",
    "                                          free_residues_df,\n",
    "                                          background_crg,\n",
    "                                          res_of_interest=residue_kinds)"
   ]
  },
  {
   "cell_type": "code",
   "execution_count": 109,
   "metadata": {
    "jupyter": {
     "source_hidden": true
    }
   },
   "outputs": [],
   "source": [
    "# Sample data (uncomment to display):\n",
    "\n",
    "#high_crg_count_res.head(3) "
   ]
  },
  {
   "cell_type": "code",
   "execution_count": 110,
   "metadata": {},
   "outputs": [
    {
     "name": "stderr",
     "output_type": "stream",
     "text": [
      "[INFO]: unique_crgms_histogram:\n",
      "\tFigure saved: 4lzt/crgms_corr/crgms_logcount_vs_highest_E_ph7.png\n"
     ]
    },
    {
     "data": {
      "image/png": "[encoded data removed]",
      "text/plain": [
       "<Figure size 600x600 with 3 Axes>"
      ]
     },
     "metadata": {},
     "output_type": "display_data"
    }
   ],
   "source": [
    "title = \"Microstates Energy within 1.36 kcal/mol of highest, pH\"+ph\n",
    "msa.unique_crgms_histogram(highest_crgms_files,\n",
    "                           background_crg,\n",
    "                           title,\n",
    "                           output_dir,\n",
    "                           save_name=\"crgms_logcount_vs_highest_E_ph\"+ph+\".png\",\n",
    "                           show=True)"
   ]
  },
  {
   "cell_type": "markdown",
   "metadata": {},
   "source": [
    "### [ Optional ] Save all these 3 DataFrames and non titrable residues charge information to excel:\n",
    " * low_crg_count_res\n",
    " * av_crg_count_res\n",
    " * high_crg_count_res\n",
    " * fixed_resoi_crg_df\n",
    "\n",
    "Copy the following code to a cell:\n",
    "```\n",
    "xl_filename = \"charge_ms_pH\"+ ph + \".xlsx\"\n",
    "xl_filepath = output_dir.joinpath(xl_filename)\n",
    "dfs = [(low_crg_count_res, \"low_crg_count_res\"),\n",
    "       (av_crg_count_res, \"av_crg_count_res\"),        \n",
    "       (high_crg_count_res, \"high_crg_count_res\"),\n",
    "       (fixed_resoi_crg_df, \"fixed_resoi_crg\")\n",
    "       ]\n",
    "\n",
    "# Note: this will fail if the write_engine program is not installed; default: \"xlsxwriter\":\n",
    "msa.dfs_to_excel(dfs, xl_filepath)\n",
    "```"
   ]
  },
  {
   "cell_type": "markdown",
   "metadata": {},
   "source": [
    "### Save all_crg_count_res to a CSV file after adding fixed resoi data:"
   ]
  },
  {
   "cell_type": "code",
   "execution_count": 111,
   "metadata": {},
   "outputs": [
    {
     "name": "stdout",
     "output_type": "stream",
     "text": [
      "DataFrame all_crg_count_res saved to 4lzt/crgms_corr/all_crg_count_res_ph7.csv.\n"
     ]
    }
   ],
   "source": [
    "all_crg_df = msa.add_fixed_res_crg(all_crg_count_res, fixed_resoi_crg_df)\n",
    "\n",
    "crg_count_csv = output_dir.joinpath(f\"all_crg_count_res_ph{ph}.csv\")\n",
    "try:\n",
    "    all_crg_df.to_csv(crg_count_csv, header=True)\n",
    "    print(f\"DataFrame all_crg_count_res saved to {crg_count_csv!s}.\")\n",
    "except Exception as e:\n",
    "    print(f\"Error occurred while saving all_crg_count_res to csv file: {str(e)}\")"
   ]
  },
  {
   "cell_type": "markdown",
   "metadata": {},
   "source": [
    "---\n",
    "# Processing of main crgms data to get the correlation matrix for residues.\n",
    "### Note: `msa.choose_res_data` will remove fixed residues"
   ]
  },
  {
   "cell_type": "code",
   "execution_count": 112,
   "metadata": {},
   "outputs": [],
   "source": [
    "df_choose_res_data = msa.choose_res_data(all_crg_df, correl_resids, fixed_resoi_crg_df)\n",
    "df_choose_res_data[\"Occupancy\"] = round(df_choose_res_data[\"Count\"]/sum(df_choose_res_data[\"Count\"]), 2)\n",
    "\n",
    "file_name = \"crg_count_res_of_interest.csv\"\n",
    "df_choose_res_data.to_csv(output_dir.joinpath(file_name), header=True)\n",
    "\n",
    "# Relabel residues with shorter names:\n",
    "df_chosen_res_renamed = msa.rename_order_residues(df_choose_res_data)"
   ]
  },
  {
   "cell_type": "code",
   "execution_count": 113,
   "metadata": {
    "jupyter": {
     "source_hidden": true
    }
   },
   "outputs": [],
   "source": [
    "# Uncomment to display:\n",
    "\n",
    "#df_choose_res_data"
   ]
  },
  {
   "cell_type": "code",
   "execution_count": 114,
   "metadata": {
    "jupyter": {
     "source_hidden": true
    }
   },
   "outputs": [],
   "source": [
    "# Uncomment to display:\n",
    "\n",
    "#df_chosen_res_renamed"
   ]
  },
  {
   "cell_type": "markdown",
   "metadata": {},
   "source": [
    "---\n",
    "# Weighted correlation\n",
    "### Define a cutoff if one different from 0.02 (default) is needed."
   ]
  },
  {
   "cell_type": "code",
   "execution_count": 115,
   "metadata": {},
   "outputs": [],
   "source": [
    "cutoff = 0\n",
    "\n",
    "df_correlation = msa.WeightedCorr(df=df_chosen_res_renamed,\n",
    "                                  wcol=\"Count\",\n",
    "                                  cutoff=cutoff)(method=\"pearson\")"
   ]
  },
  {
   "cell_type": "code",
   "execution_count": 116,
   "metadata": {},
   "outputs": [
    {
     "data": {
      "text/html": [
       "<div>\n",
       "<style scoped>\n",
       "    .dataframe tbody tr th:only-of-type {\n",
       "        vertical-align: middle;\n",
       "    }\n",
       "\n",
       "    .dataframe tbody tr th {\n",
       "        vertical-align: top;\n",
       "    }\n",
       "\n",
       "    .dataframe thead th {\n",
       "        text-align: right;\n",
       "    }\n",
       "</style>\n",
       "<table border=\"1\" class=\"dataframe\">\n",
       "  <thead>\n",
       "    <tr style=\"text-align: right;\">\n",
       "      <th></th>\n",
       "      <th>AE35</th>\n",
       "      <th>AH15</th>\n",
       "    </tr>\n",
       "  </thead>\n",
       "  <tbody>\n",
       "    <tr>\n",
       "      <th>AE35</th>\n",
       "      <td>1.000000</td>\n",
       "      <td>-0.003784</td>\n",
       "    </tr>\n",
       "    <tr>\n",
       "      <th>AH15</th>\n",
       "      <td>-0.003784</td>\n",
       "      <td>1.000000</td>\n",
       "    </tr>\n",
       "  </tbody>\n",
       "</table>\n",
       "</div>"
      ],
      "text/plain": [
       "          AE35      AH15\n",
       "AE35  1.000000 -0.003784\n",
       "AH15 -0.003784  1.000000"
      ]
     },
     "execution_count": 116,
     "metadata": {},
     "output_type": "execute_result"
    }
   ],
   "source": [
    "# Uncomment to display:\n",
    "\n",
    "df_correlation"
   ]
  },
  {
   "cell_type": "raw",
   "metadata": {},
   "source": [
    "# no difference with another method?\n",
    "\n",
    "df_correlation2 = msa.WeightedCorr(df=df_chosen_res_renamed, wcol=\"Count\", cutoff=cutoff)(method=\"spearman\")\n",
    "df_correlation2"
   ]
  },
  {
   "cell_type": "markdown",
   "metadata": {},
   "source": [
    "## Create a clustered heatmap to display the residue correlation:"
   ]
  },
  {
   "cell_type": "code",
   "execution_count": 117,
   "metadata": {},
   "outputs": [
    {
     "name": "stderr",
     "output_type": "stream",
     "text": [
      "[WARNING]: corr_heatmap:\n",
      "\tAll off-diagonal correlation values are 0.00: not plotting.\n"
     ]
    }
   ],
   "source": [
    "clustered_corr = msa.cluster_corr_matrix(df_correlation)\n",
    "\n",
    "msa.corr_heatmap(clustered_corr,\n",
    "                 out_dir=output_dir,\n",
    "                 save_name=\"corr_ph7.pdf\",\n",
    "                 show=True)"
   ]
  },
  {
   "cell_type": "code",
   "execution_count": null,
   "metadata": {},
   "outputs": [],
   "source": []
  },
  {
   "cell_type": "code",
   "execution_count": null,
   "metadata": {},
   "outputs": [],
   "source": []
  },
  {
   "cell_type": "code",
   "execution_count": null,
   "metadata": {},
   "outputs": [],
   "source": []
  }
 ],
 "metadata": {
  "kernelspec": {
   "display_name": "Python (p310)",
   "language": "python",
   "name": "p310"
  },
  "language_info": {
   "codemirror_mode": {
    "name": "ipython",
    "version": 3
   },
   "file_extension": ".py",
   "mimetype": "text/x-python",
   "name": "python",
   "nbconvert_exporter": "python",
   "pygments_lexer": "ipython3",
   "version": "3.10.15"
  }
 },
 "nbformat": 4,
 "nbformat_minor": 4
}

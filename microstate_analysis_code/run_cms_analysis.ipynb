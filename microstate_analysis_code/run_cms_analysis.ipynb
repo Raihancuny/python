{
 "cells": [
  {
   "cell_type": "code",
   "execution_count": 1,
   "metadata": {},
   "outputs": [],
   "source": [
    "# Notebook behavior:\n",
    "\n",
    "# Enable multiple outputs from one cell:\n",
    "from IPython.core.interactiveshell import InteractiveShell\n",
    "InteractiveShell.ast_node_interactivity = \"all\"\n",
    "from IPython.display import Markdown, Image\n",
    "\n",
    "# autoreload extension: automaticall refresh imports when code is changed:\n",
    "%load_ext autoreload\n",
    "%autoreload 2"
   ]
  },
  {
   "cell_type": "markdown",
   "metadata": {},
   "source": [
    "# run_cms_analysis.ipynb\n",
    "---"
   ]
  },
  {
   "cell_type": "markdown",
   "metadata": {
    "tags": []
   },
   "source": [
    "# Tutorial notebook for processing MCCE microstate file in ms_out folder.\n",
    "\n",
    "# Required mcce run output files:\n",
    "### 1. head3.lst\n",
    "### 2. file in ms_out/, a.k.a. the 'msout file'\n",
    " * Notes:\n",
    "   - The ms_out folder is retained when the `--ms` flag is used at the command line for Step 4: `step4.py --ms`;\n",
    "   - Format of the msout file name: pHXeHYms.tx at pH point X and Eh point Y;\n",
    "   - The most typical filename encountered is \"pH7eH0ms.txt\", meaning the MCCE simulation was a pH titation run at pH7.\n",
    "---"
   ]
  },
  {
   "cell_type": "markdown",
   "metadata": {},
   "source": [
    "## Load the needed libraries and modules:"
   ]
  },
  {
   "cell_type": "code",
   "execution_count": 3,
   "metadata": {},
   "outputs": [],
   "source": [
    "from pathlib import Path\n",
    "here = Path.cwd()\n",
    "\n",
    "# Module needed to read the microstate file:\n",
    "import cms_analysis_wc as msa"
   ]
  },
  {
   "cell_type": "markdown",
   "metadata": {},
   "source": [
    "---\n",
    "# Inputs\n",
    "## Required user input: the path to the msout file:\n",
    " * e.g. 4lzt/ms_out/pH7eH0ms.txt\n",
    "## Optional user input: list of residues of interest\n",
    "---"
   ]
  },
  {
   "cell_type": "markdown",
   "metadata": {},
   "source": [
    "# Get the paths to the input files using a folder name and a pH point (as string):"
   ]
  },
  {
   "cell_type": "code",
   "execution_count": 4,
   "metadata": {},
   "outputs": [
    {
     "name": "stdout",
     "output_type": "stream",
     "text": [
      "h3_path: 4lzt/head3.lst\n",
      "msout_path: 4lzt/ms_out/pH7eH0ms.txt\n",
      "output_dir: 4lzt/crgms_corr_ph7\n"
     ]
    }
   ],
   "source": [
    "mcce_dir = Path(\"4lzt\")  # local folder\n",
    "msout_file = \"pH7eH0ms.txt\"\n",
    "\n",
    "ph = 7\n",
    "\n",
    "h3_path = mcce_dir.joinpath(\"head3.lst\")\n",
    "msout_path = mcce_dir.joinpath(\"ms_out\", msout_file)\n",
    "\n",
    "outname = f\"crgms_corr_ph{ph}\"\n",
    "# Ensure the output directory exists:\n",
    "output_dir = mcce_dir.joinpath(outname)\n",
    "if not output_dir.exists():\n",
    "    output_dir.mkdir()\n",
    "\n",
    "print(f\"h3_path: {str(h3_path)}\")\n",
    "print(f\"msout_path: {str(msout_path)}\")\n",
    "print(f\"output_dir: {str(output_dir)}\")"
   ]
  },
  {
   "cell_type": "markdown",
   "metadata": {},
   "source": [
    "# Residues of interest\n",
    "\n",
    "Note: Make sure to add the names of your residues of interest, such as quinone, here:"
   ]
  },
  {
   "cell_type": "markdown",
   "metadata": {},
   "source": [
    "### Which kind of residues to consider (3-letter codes)\n",
    "\n",
    "#### Code for interactive input to obtain `user_resoi`:\n",
    "Example string to give:  \n",
    "ASP, pl9 GLU, LYS ARG HIS, TYR NTR PAA, HEM\n",
    "   \n",
    "  ```\n",
    "  user_resoi = msa.split_spunct(input(\"Enter which kind of residues are of interest, e.g. ASP, HIS:\\n\"), upper=True)\n",
    "  ```"
   ]
  },
  {
   "cell_type": "code",
   "execution_count": 6,
   "metadata": {},
   "outputs": [
    {
     "name": "stdout",
     "output_type": "stream",
     "text": [
      "Sorted resoi kinds: ['ASP', 'GLU', 'HIS', 'TYR', 'NTR', 'CTR', 'HEM', 'PL9']\n"
     ]
    }
   ],
   "source": [
    "# Which kind of residues to consider (3-letter codes):\n",
    "\n",
    "user_resoi = msa.IONIZABLES\n",
    "# or:\n",
    "user_resoi = [\"ASP\", \"HEM\", \"PL9\", \"GLU\", \"HIS\", \"TYR\", \"NTR\", \"CTR\"]\n",
    "\n",
    "residue_kinds = msa.sort_resoi_list(user_resoi)\n",
    "print(\"Sorted resoi kinds:\", residue_kinds)"
   ]
  },
  {
   "cell_type": "raw",
   "metadata": {},
   "source": [
    "# Helper function to list resid from head3.lst; can be used to select 'choose_res':\n",
    "# Switch cell to Code mode to run:\n",
    "\n",
    "print(msa.list_head3_ionizables(h3_path))"
   ]
  },
  {
   "cell_type": "code",
   "execution_count": 7,
   "metadata": {},
   "outputs": [
    {
     "name": "stdout",
     "output_type": "stream",
     "text": [
      "Chosen resid for correlation (before validation): ['NTRA0001_', 'LYSA0001_', 'ARGA0005_', 'GLUA0007_', 'LYSA0013_', 'ARGA0014_', 'LYSA0033_', 'GLUA0035_', 'ARGA0045_', 'ASPA0048_', 'ASPA0052_', 'TYRA0053_']\n"
     ]
    }
   ],
   "source": [
    "# Specific residues of interest for correlation.\n",
    "# Here, the list supplied must be conformer ids as they appear in the conformers list, without \"-\" or \"+\";\n",
    "# Use helper function above if needed:\n",
    "choose_res = [\n",
    "'NTRA0001_',\n",
    "'LYSA0001_',\n",
    "'ARGA0005_',\n",
    "'GLUA0007_',\n",
    "'LYSA0013_',\n",
    "'ARGA0014_',\n",
    "'LYSA0033_',\n",
    "'GLUA0035_',\n",
    "'ARGA0045_',\n",
    "'ASPA0048_',\n",
    "'ASPA0052_',\n",
    "'TYRA0053_',\n",
    "]\n",
    "print(\"Chosen resid for correlation (before validation):\", choose_res)"
   ]
  },
  {
   "cell_type": "markdown",
   "metadata": {},
   "source": [
    "### Populate the conformers list:"
   ]
  },
  {
   "cell_type": "code",
   "execution_count": 8,
   "metadata": {},
   "outputs": [
    {
     "name": "stdout",
     "output_type": "stream",
     "text": [
      "Conformers count: 270\n"
     ]
    }
   ],
   "source": [
    "conformers = msa.read_conformers(h3_path)\n",
    "n_conformers = len(conformers)\n",
    "print(f\"Conformers count: {n_conformers:,}\")"
   ]
  },
  {
   "cell_type": "code",
   "execution_count": 9,
   "metadata": {},
   "outputs": [
    {
     "name": "stderr",
     "output_type": "stream",
     "text": [
      "[WARNING]: check_res_list:\n",
      "\tRemoving 'LYSA0001_' from correl_lst: LYS not in residue_kinds.\n",
      "[WARNING]: check_res_list:\n",
      "\tRemoving 'ARGA0005_' from correl_lst: ARG not in residue_kinds.\n",
      "[WARNING]: check_res_list:\n",
      "\tRemoving 'LYSA0013_' from correl_lst: LYS not in residue_kinds.\n",
      "[WARNING]: check_res_list:\n",
      "\tRemoving 'ARGA0014_' from correl_lst: ARG not in residue_kinds.\n",
      "[WARNING]: check_res_list:\n",
      "\tRemoving 'LYSA0033_' from correl_lst: LYS not in residue_kinds.\n",
      "[WARNING]: check_res_list:\n",
      "\tRemoving 'ARGA0045_' from correl_lst: ARG not in residue_kinds.\n"
     ]
    },
    {
     "name": "stdout",
     "output_type": "stream",
     "text": [
      "Valid resid for correlation: ['NTRA0001_', 'GLUA0007_', 'GLUA0035_', 'ASPA0048_', 'ASPA0052_', 'TYRA0053_']\n"
     ]
    }
   ],
   "source": [
    "# validate choose_res:\n",
    "\n",
    "correl_resids = msa.check_res_list(choose_res, res_lst=residue_kinds, confs_lst=conformers)\n",
    "print(\"Valid resid for correlation:\", correl_resids)"
   ]
  },
  {
   "cell_type": "markdown",
   "metadata": {},
   "source": [
    "# Instantiate `msa.MSout` class with the given msout file:"
   ]
  },
  {
   "cell_type": "code",
   "execution_count": 11,
   "metadata": {},
   "outputs": [
    {
     "name": "stdout",
     "output_type": "stream",
     "text": [
      "\n",
      "Number of microstates: 1,200,000\n",
      "Number of unique microstates: 165,386\n",
      "Energies: lowest_E: -183.93; average_E: -179.92; highest_E: -166.51\n",
      "Free residues: 41\n",
      "Fixed residues: 78\n",
      "\n"
     ]
    }
   ],
   "source": [
    "mc = msa.MSout(msout_path)\n",
    "print(mc)"
   ]
  },
  {
   "cell_type": "markdown",
   "metadata": {},
   "source": [
    "#### [ optional ]\n",
    "#### Learn which methods come with the instantiated class (mc)\n",
    " * What's in the MSout class?"
   ]
  },
  {
   "cell_type": "raw",
   "metadata": {},
   "source": [
    "# Uncomment to display:\n",
    "\n",
    "#print(\"Methods mc, the in msa.MSout instance:\")\n",
    "#print([obj for obj in dir(mc) if not obj.startswith(\"__\")])"
   ]
  },
  {
   "cell_type": "markdown",
   "metadata": {},
   "source": [
    "### In MCCE, residues are divided into fixed or free residue groups.\n",
    " * Only free residues appear in the microstate sate list.\n",
    " * Fixed residues can be ionizable residues so we need to include their contribution to the total charge, which is referred to here as __background charge__. "
   ]
  },
  {
   "cell_type": "markdown",
   "metadata": {},
   "source": [
    "#### Free residues information"
   ]
  },
  {
   "cell_type": "code",
   "execution_count": null,
   "metadata": {
    "jupyter": {
     "source_hidden": true
    }
   },
   "outputs": [],
   "source": [
    "# Uncomment to display:\n",
    "\n",
    "#print(\"mc.free_residues list holds each free residues' conformers.\\nSample data:\\n\", mc.free_residues[:2])"
   ]
  },
  {
   "cell_type": "code",
   "execution_count": 12,
   "metadata": {},
   "outputs": [
    {
     "name": "stdout",
     "output_type": "stream",
     "text": [
      "Number of free residues: 41\n"
     ]
    }
   ],
   "source": [
    "# Save the free_residues in a pandas.DataFrame, it will be one of the inputs to the function msa.ConcaCrgMsPandas:\n",
    "free_residues_df = msa.free_residues_to_df(mc.free_residues, conformers, colname=\"Residue\")\n",
    "print(f\"Number of free residues: {free_residues_df.shape[0]:,}\")"
   ]
  },
  {
   "cell_type": "code",
   "execution_count": null,
   "metadata": {},
   "outputs": [],
   "source": [
    "# Uncomment to display:\n",
    "\n",
    "#free_residues_df.head(3)\n",
    "#free_residues_df.tail(3)"
   ]
  },
  {
   "cell_type": "markdown",
   "metadata": {},
   "source": [
    "## [ Cat ] RENAMED function `free_res2sumcrg_df` -> `free_res2aver_crg_df`\n",
    "... because that's what it does"
   ]
  },
  {
   "cell_type": "code",
   "execution_count": 13,
   "metadata": {},
   "outputs": [],
   "source": [
    "# Get their net charges into a df for later combining with fixed_res\n",
    "\n",
    "free_res_aver_crg_df = msa.free_res2aver_crg_df(mc.microstates.values(), mc.free_residues, conformers)"
   ]
  },
  {
   "cell_type": "code",
   "execution_count": 14,
   "metadata": {},
   "outputs": [],
   "source": [
    "# Uncomment to display:\n",
    "\n",
    "#free_res_aver_crg_df.head()"
   ]
  },
  {
   "cell_type": "markdown",
   "metadata": {},
   "source": [
    "#### Fixed residues charge.\n",
    "(Make sure to account for fixed residues charge for MD simulation protonation input.)"
   ]
  },
  {
   "cell_type": "markdown",
   "metadata": {},
   "source": [
    "__For all fixed residues:__  \n",
    "```\n",
    "fixed_residues_info(\n",
    "    fixed_iconfs: list, conformers: list, res_of_interest: list = IONIZABLES\n",
    ") -> Tuple[float, pd.DataFrame, dict]:\n",
    "```"
   ]
  },
  {
   "cell_type": "code",
   "execution_count": 15,
   "metadata": {},
   "outputs": [
    {
     "name": "stdout",
     "output_type": "stream",
     "text": [
      "Background charge: 10\n",
      "Number of fixed residues: 20\n"
     ]
    }
   ],
   "source": [
    "background_crg, all_fixed_res_crg_df, all_fixed_res_crg_dict = msa.fixed_residues_info(mc.fixed_iconfs, conformers)\n",
    "\n",
    "print(\"Background charge:\", background_crg)\n",
    "print(\"Number of fixed residues:\", len(all_fixed_res_crg_dict))"
   ]
  },
  {
   "cell_type": "code",
   "execution_count": 16,
   "metadata": {},
   "outputs": [],
   "source": [
    "# Uncomment to display:\n",
    "\n",
    "#all_fixed_res_crg_df"
   ]
  },
  {
   "cell_type": "markdown",
   "metadata": {},
   "source": [
    "### Combine free & fixed res with crg and save to csv:"
   ]
  },
  {
   "cell_type": "raw",
   "metadata": {},
   "source": [
    "def combine_all_free_fixed_residues(free_res_crg_df: pd.DataFrame, fixed_res_crg_df: pd.DataFrame) -> pd.DataFrame:\n",
    "    free_res_crg_df[\"status\"] = \"free\"\n",
    "    fixed_res_crg_df[\"status\"] = \"fixed\"\n",
    "    df = pd.concat([free_res_crg_df, fixed_res_crg_df])\n",
    "    df.set_index(\"Residue\", inplace=True)\n",
    "\n",
    "    return df.T"
   ]
  },
  {
   "cell_type": "code",
   "execution_count": 19,
   "metadata": {},
   "outputs": [
    {
     "name": "stdout",
     "output_type": "stream",
     "text": [
      "all_res_crg_df.shape = (2, 61)\n",
      "Saving to file.\n",
      "Note: The charge is the average charge for residues with 'free' status.\n"
     ]
    }
   ],
   "source": [
    "all_res_crg_df = msa.combine_all_free_fixed_residues(free_res_aver_crg_df, all_fixed_res_crg_df)\n",
    "print(f\"{all_res_crg_df.shape = }\")\n",
    "\n",
    "# Save to csv:\n",
    "# file_name :: all_res_crg_csv -> all_res_crg_status.csv\n",
    "print(\"Saving to file.\", \"Note: The charge is the average charge for residues with 'free' status.\", sep=\"\\n\")\n",
    "all_res_crg_df.to_csv(output_dir.joinpath(\"all_res_crg.csv\"), index_label=\"Residue\")"
   ]
  },
  {
   "cell_type": "code",
   "execution_count": 18,
   "metadata": {},
   "outputs": [
    {
     "data": {
      "text/html": [
       "<div>\n",
       "<style scoped>\n",
       "    .dataframe tbody tr th:only-of-type {\n",
       "        vertical-align: middle;\n",
       "    }\n",
       "\n",
       "    .dataframe tbody tr th {\n",
       "        vertical-align: top;\n",
       "    }\n",
       "\n",
       "    .dataframe thead th {\n",
       "        text-align: right;\n",
       "    }\n",
       "</style>\n",
       "<table border=\"1\" class=\"dataframe\">\n",
       "  <thead>\n",
       "    <tr style=\"text-align: right;\">\n",
       "      <th>Residue</th>\n",
       "      <th>NTRA0001_</th>\n",
       "      <th>LYSA0001_</th>\n",
       "      <th>GLUA0007_</th>\n",
       "      <th>HISA0015_</th>\n",
       "      <th>TYRA0020_</th>\n",
       "      <th>SERA0024_</th>\n",
       "      <th>ASNA0027_</th>\n",
       "      <th>GLUA0035_</th>\n",
       "      <th>ASNA0037_</th>\n",
       "      <th>ASNA0039_</th>\n",
       "      <th>...</th>\n",
       "      <th>ARGA0068_</th>\n",
       "      <th>ARGA0073_</th>\n",
       "      <th>ASPA0087_</th>\n",
       "      <th>LYSA0097_</th>\n",
       "      <th>ARGA0112_</th>\n",
       "      <th>ARGA0114_</th>\n",
       "      <th>ASPA0119_</th>\n",
       "      <th>ARGA0125_</th>\n",
       "      <th>ARGA0128_</th>\n",
       "      <th>CTRA0129_</th>\n",
       "    </tr>\n",
       "  </thead>\n",
       "  <tbody>\n",
       "    <tr>\n",
       "      <th>crg</th>\n",
       "      <td>0.0</td>\n",
       "      <td>1.0</td>\n",
       "      <td>-1.0</td>\n",
       "      <td>0.0</td>\n",
       "      <td>0.0</td>\n",
       "      <td>0.0</td>\n",
       "      <td>0.0</td>\n",
       "      <td>-1.0</td>\n",
       "      <td>0.0</td>\n",
       "      <td>0.0</td>\n",
       "      <td>...</td>\n",
       "      <td>1.0</td>\n",
       "      <td>1.0</td>\n",
       "      <td>-1.0</td>\n",
       "      <td>1.0</td>\n",
       "      <td>1.0</td>\n",
       "      <td>1.0</td>\n",
       "      <td>-1.0</td>\n",
       "      <td>1.0</td>\n",
       "      <td>1.0</td>\n",
       "      <td>-1.0</td>\n",
       "    </tr>\n",
       "    <tr>\n",
       "      <th>status</th>\n",
       "      <td>free</td>\n",
       "      <td>free</td>\n",
       "      <td>free</td>\n",
       "      <td>free</td>\n",
       "      <td>free</td>\n",
       "      <td>free</td>\n",
       "      <td>free</td>\n",
       "      <td>free</td>\n",
       "      <td>free</td>\n",
       "      <td>free</td>\n",
       "      <td>...</td>\n",
       "      <td>fixed</td>\n",
       "      <td>fixed</td>\n",
       "      <td>fixed</td>\n",
       "      <td>fixed</td>\n",
       "      <td>fixed</td>\n",
       "      <td>fixed</td>\n",
       "      <td>fixed</td>\n",
       "      <td>fixed</td>\n",
       "      <td>fixed</td>\n",
       "      <td>fixed</td>\n",
       "    </tr>\n",
       "  </tbody>\n",
       "</table>\n",
       "<p>2 rows × 61 columns</p>\n",
       "</div>"
      ],
      "text/plain": [
       "Residue NTRA0001_ LYSA0001_ GLUA0007_ HISA0015_ TYRA0020_ SERA0024_ ASNA0027_  \\\n",
       "crg           0.0       1.0      -1.0       0.0       0.0       0.0       0.0   \n",
       "status       free      free      free      free      free      free      free   \n",
       "\n",
       "Residue GLUA0035_ ASNA0037_ ASNA0039_  ... ARGA0068_ ARGA0073_ ASPA0087_  \\\n",
       "crg          -1.0       0.0       0.0  ...       1.0       1.0      -1.0   \n",
       "status       free      free      free  ...     fixed     fixed     fixed   \n",
       "\n",
       "Residue LYSA0097_ ARGA0112_ ARGA0114_ ASPA0119_ ARGA0125_ ARGA0128_ CTRA0129_  \n",
       "crg           1.0       1.0       1.0      -1.0       1.0       1.0      -1.0  \n",
       "status      fixed     fixed     fixed     fixed     fixed     fixed     fixed  \n",
       "\n",
       "[2 rows x 61 columns]"
      ]
     },
     "execution_count": 18,
     "metadata": {},
     "output_type": "execute_result"
    }
   ],
   "source": [
    "# Uncomment to display:\n",
    "\n",
    "all_res_crg_df"
   ]
  },
  {
   "cell_type": "markdown",
   "metadata": {},
   "source": [
    "__For fixed residues among residues of interest:__  \n",
    "#### Save the fixed residues in your residues of interest to a separate list, DataFrame & csv:"
   ]
  },
  {
   "cell_type": "code",
   "execution_count": 20,
   "metadata": {},
   "outputs": [
    {
     "name": "stdout",
     "output_type": "stream",
     "text": [
      "Fixed res in residues of interest: 6\n"
     ]
    }
   ],
   "source": [
    "background_crg, fixed_resoi_crg_df, fixed_resoi_crg_dict = msa.fixed_residues_info(mc.fixed_iconfs,\n",
    "                                                                                   conformers,\n",
    "                                                                                   residue_kinds)\n",
    "n_fixed_resoi = fixed_resoi_crg_df.shape[0]\n",
    "if n_fixed_resoi:\n",
    "    print(\"Fixed res in residues of interest:\", n_fixed_resoi)\n",
    "    # save to csv:\n",
    "    fixed_resoi_crg_df.to_csv(output_dir.joinpath(\"fixed_crg_resoi.csv\"), index=False)\n",
    "else:\n",
    "    fixed_resoi_crg_df = None\n",
    "    print(\"No fixed residues of interest.\")"
   ]
  },
  {
   "cell_type": "code",
   "execution_count": 21,
   "metadata": {},
   "outputs": [
    {
     "name": "stdout",
     "output_type": "stream",
     "text": [
      "['NTRA0001_', 'LYSA0001_', 'ARGA0005_', 'GLUA0007_', 'LYSA0013_', 'ARGA0014_', 'LYSA0033_', 'GLUA0035_', 'ARGA0045_', 'ASPA0048_', 'ASPA0052_', 'TYRA0053_']\n"
     ]
    },
    {
     "data": {
      "text/html": [
       "<div>\n",
       "<style scoped>\n",
       "    .dataframe tbody tr th:only-of-type {\n",
       "        vertical-align: middle;\n",
       "    }\n",
       "\n",
       "    .dataframe tbody tr th {\n",
       "        vertical-align: top;\n",
       "    }\n",
       "\n",
       "    .dataframe thead th {\n",
       "        text-align: right;\n",
       "    }\n",
       "</style>\n",
       "<table border=\"1\" class=\"dataframe\">\n",
       "  <thead>\n",
       "    <tr style=\"text-align: right;\">\n",
       "      <th></th>\n",
       "      <th>Residue</th>\n",
       "      <th>crg</th>\n",
       "    </tr>\n",
       "  </thead>\n",
       "  <tbody>\n",
       "    <tr>\n",
       "      <th>0</th>\n",
       "      <td>ASPA0018_</td>\n",
       "      <td>-1</td>\n",
       "    </tr>\n",
       "    <tr>\n",
       "      <th>1</th>\n",
       "      <td>TYRA0023_</td>\n",
       "      <td>0</td>\n",
       "    </tr>\n",
       "    <tr>\n",
       "      <th>2</th>\n",
       "      <td>TYRA0053_</td>\n",
       "      <td>0</td>\n",
       "    </tr>\n",
       "    <tr>\n",
       "      <th>3</th>\n",
       "      <td>ASPA0087_</td>\n",
       "      <td>-1</td>\n",
       "    </tr>\n",
       "    <tr>\n",
       "      <th>4</th>\n",
       "      <td>ASPA0119_</td>\n",
       "      <td>-1</td>\n",
       "    </tr>\n",
       "    <tr>\n",
       "      <th>5</th>\n",
       "      <td>CTRA0129_</td>\n",
       "      <td>-1</td>\n",
       "    </tr>\n",
       "  </tbody>\n",
       "</table>\n",
       "</div>"
      ],
      "text/plain": [
       "     Residue  crg\n",
       "0  ASPA0018_   -1\n",
       "1  TYRA0023_    0\n",
       "2  TYRA0053_    0\n",
       "3  ASPA0087_   -1\n",
       "4  ASPA0119_   -1\n",
       "5  CTRA0129_   -1"
      ]
     },
     "execution_count": 21,
     "metadata": {},
     "output_type": "execute_result"
    }
   ],
   "source": [
    "# Uncomment to display:\n",
    "print(choose_res)\n",
    "\n",
    "if n_fixed_resoi:\n",
    "    fixed_resoi_crg_df"
   ]
  },
  {
   "cell_type": "markdown",
   "metadata": {},
   "source": [
    "#### The following saves sorted microstates attributes (energy, count and microstate state) into a list;\n",
    "  * `ms_orig_lst` holds each microstate's attributes sorted by energy.\n",
    "  * The first attribute is the microstate energy, the second is the multiplicity of that state (mso.microstates holds unique ms info), the last one is the list of conformers in that state.\n",
    "  * The conformer numbers align with head3.lst. Head3.lst starts at 1; ms lists start at 0."
   ]
  },
  {
   "cell_type": "code",
   "execution_count": 22,
   "metadata": {},
   "outputs": [],
   "source": [
    "# mc.sort_microstates() returns a list of ms objects sorted by count, descendingly:\n",
    "\n",
    "ms_orig_lst = [[ms.E, ms.count, ms.state] for ms in mc.sort_microstates()]"
   ]
  },
  {
   "cell_type": "code",
   "execution_count": 24,
   "metadata": {},
   "outputs": [],
   "source": [
    "# Sample data (uncomment to display):\n",
    "\n",
    "#len(ms_orig_lst)\n",
    "#print(ms_orig_lst[0], ms_orig_lst[1], sep=\"\\n\")"
   ]
  },
  {
   "cell_type": "markdown",
   "metadata": {},
   "source": [
    "### Plot the enthalpy distribution using `msa.ms_energy_histogram`:\n",
    "   ```\n",
    "    msa.ms_energy_histogram(ms_by_enrg: list,\n",
    "                            out_dir: pathlib.Path,\n",
    "                            save_name: str = 'enthalpy_dist.pdf',\n",
    "                            show: bool = False)\n",
    "   ```"
   ]
  },
  {
   "cell_type": "code",
   "execution_count": 25,
   "metadata": {},
   "outputs": [
    {
     "name": "stderr",
     "output_type": "stream",
     "text": [
      "[INFO]: ms_energy_histogram:\n",
      "\tHistogram figure saved as 4lzt/crgms_corr_ph7/enthalpy_dist.png\n"
     ]
    },
    {
     "data": {
      "image/png": "[encoded data removed]",
      "text/plain": [
       "<Figure size 800x800 with 1 Axes>"
      ]
     },
     "metadata": {},
     "output_type": "display_data"
    }
   ],
   "source": [
    "msa.ms_energy_histogram(ms_orig_lst, output_dir, show=True)"
   ]
  },
  {
   "cell_type": "markdown",
   "metadata": {},
   "source": [
    "---\n",
    "## Conformer microstates to charge microstates conversion"
   ]
  },
  {
   "cell_type": "markdown",
   "metadata": {},
   "source": [
    "### This will map the microstate conformer id to its corresponding charge, and convert the conformer microstates from `mc` to charge microstates:"
   ]
  },
  {
   "cell_type": "code",
   "execution_count": 26,
   "metadata": {},
   "outputs": [],
   "source": [
    "# Map conf index to conf charge:\n",
    "id_vs_charge = msa.iconf2crg(conformers)\n",
    "\n",
    "# This list structure is similar to that in ms_orig_lst;\n",
    "# For each ms, it holds a list = [E, count, [crgms state]], but now the state list gives the charge\n",
    "# of the free residues coformers:\n",
    "crg_orig_lst = msa.ms2crgms(ms_orig_lst, id_vs_charge)"
   ]
  },
  {
   "cell_type": "code",
   "execution_count": null,
   "metadata": {},
   "outputs": [],
   "source": [
    "# Sample data (uncomment to display):\n",
    "\n",
    "#print(crg_orig_lst[:2])"
   ]
  },
  {
   "cell_type": "markdown",
   "metadata": {},
   "source": [
    "---\n",
    "# Process the charge microstates into various outputs"
   ]
  },
  {
   "cell_type": "markdown",
   "metadata": {},
   "source": [
    "## Unfiltered charge microstates\n",
    "### Note: Outputs of msa.find_uniq_crgms_count_order:\n",
    "```\n",
    "  0: all_crg_ms_unique,\n",
    "  1: all_count,\n",
    "  2: unique_crg_state_order,\n",
    "  3: energy_diff_all (used in plot)\n",
    "```"
   ]
  },
  {
   "cell_type": "code",
   "execution_count": 29,
   "metadata": {},
   "outputs": [
    {
     "name": "stderr",
     "output_type": "stream",
     "text": [
      "[INFO]: find_uniq_crgms_count_order:\n",
      "\tNo energy bounds given: All microstates are selected.\n",
      "[INFO]: find_uniq_crgms_count_order:\n",
      "\tNumber of charge ms: 165,386\n"
     ]
    },
    {
     "name": "stdout",
     "output_type": "stream",
     "text": [
      "Using unfilteresd charge microstate energies.\n"
     ]
    },
    {
     "name": "stderr",
     "output_type": "stream",
     "text": [
      "[INFO]: find_uniq_crgms_count_order:\n",
      "\tNumber of unique charge ms: 30\n"
     ]
    }
   ],
   "source": [
    "print(\"Using unfilteresd charge microstate energies.\")\n",
    "\n",
    "crgms_files = msa.find_uniq_crgms_count_order(crg_orig_lst)\n",
    "\n",
    "all_crg_count_res = msa.concat_crgms_dfs(crgms_files[0],\n",
    "                                         crgms_files[1],\n",
    "                                         crgms_files[2], \n",
    "                                         free_residues_df,\n",
    "                                         background_crg,\n",
    "                                         res_of_interest=residue_kinds\n",
    "                                         )"
   ]
  },
  {
   "cell_type": "code",
   "execution_count": 30,
   "metadata": {},
   "outputs": [
    {
     "name": "stdout",
     "output_type": "stream",
     "text": [
      "all_crg_count_res.shape = (30, 12)\n"
     ]
    },
    {
     "data": {
      "text/html": [
       "<div>\n",
       "<style scoped>\n",
       "    .dataframe tbody tr th:only-of-type {\n",
       "        vertical-align: middle;\n",
       "    }\n",
       "\n",
       "    .dataframe tbody tr th {\n",
       "        vertical-align: top;\n",
       "    }\n",
       "\n",
       "    .dataframe thead th {\n",
       "        text-align: right;\n",
       "    }\n",
       "</style>\n",
       "<table border=\"1\" class=\"dataframe\">\n",
       "  <thead>\n",
       "    <tr style=\"text-align: right;\">\n",
       "      <th>Residue</th>\n",
       "      <th>NTRA0001_</th>\n",
       "      <th>GLUA0007_</th>\n",
       "      <th>HISA0015_</th>\n",
       "      <th>TYRA0020_</th>\n",
       "      <th>GLUA0035_</th>\n",
       "      <th>ASPA0048_</th>\n",
       "      <th>ASPA0052_</th>\n",
       "      <th>ASPA0066_</th>\n",
       "      <th>ASPA0101_</th>\n",
       "      <th>Count</th>\n",
       "      <th>Occupancy</th>\n",
       "      <th>Sum_crg_protein</th>\n",
       "    </tr>\n",
       "    <tr>\n",
       "      <th>Order</th>\n",
       "      <th></th>\n",
       "      <th></th>\n",
       "      <th></th>\n",
       "      <th></th>\n",
       "      <th></th>\n",
       "      <th></th>\n",
       "      <th></th>\n",
       "      <th></th>\n",
       "      <th></th>\n",
       "      <th></th>\n",
       "      <th></th>\n",
       "      <th></th>\n",
       "    </tr>\n",
       "  </thead>\n",
       "  <tbody>\n",
       "    <tr>\n",
       "      <th>1.0</th>\n",
       "      <td>0.0</td>\n",
       "      <td>-1.0</td>\n",
       "      <td>0.0</td>\n",
       "      <td>0.0</td>\n",
       "      <td>-1.0</td>\n",
       "      <td>-1.0</td>\n",
       "      <td>-1.0</td>\n",
       "      <td>-1.0</td>\n",
       "      <td>-1.0</td>\n",
       "      <td>633591.0</td>\n",
       "      <td>0.528</td>\n",
       "      <td>7.0</td>\n",
       "    </tr>\n",
       "    <tr>\n",
       "      <th>2.0</th>\n",
       "      <td>0.0</td>\n",
       "      <td>-1.0</td>\n",
       "      <td>1.0</td>\n",
       "      <td>0.0</td>\n",
       "      <td>-1.0</td>\n",
       "      <td>-1.0</td>\n",
       "      <td>-1.0</td>\n",
       "      <td>-1.0</td>\n",
       "      <td>-1.0</td>\n",
       "      <td>364064.0</td>\n",
       "      <td>0.303</td>\n",
       "      <td>8.0</td>\n",
       "    </tr>\n",
       "    <tr>\n",
       "      <th>3.0</th>\n",
       "      <td>1.0</td>\n",
       "      <td>-1.0</td>\n",
       "      <td>0.0</td>\n",
       "      <td>0.0</td>\n",
       "      <td>-1.0</td>\n",
       "      <td>-1.0</td>\n",
       "      <td>-1.0</td>\n",
       "      <td>-1.0</td>\n",
       "      <td>-1.0</td>\n",
       "      <td>118055.0</td>\n",
       "      <td>0.098</td>\n",
       "      <td>8.0</td>\n",
       "    </tr>\n",
       "    <tr>\n",
       "      <th>4.0</th>\n",
       "      <td>1.0</td>\n",
       "      <td>-1.0</td>\n",
       "      <td>1.0</td>\n",
       "      <td>0.0</td>\n",
       "      <td>-1.0</td>\n",
       "      <td>-1.0</td>\n",
       "      <td>-1.0</td>\n",
       "      <td>-1.0</td>\n",
       "      <td>-1.0</td>\n",
       "      <td>58285.0</td>\n",
       "      <td>0.049</td>\n",
       "      <td>9.0</td>\n",
       "    </tr>\n",
       "    <tr>\n",
       "      <th>5.0</th>\n",
       "      <td>0.0</td>\n",
       "      <td>-1.0</td>\n",
       "      <td>0.0</td>\n",
       "      <td>0.0</td>\n",
       "      <td>0.0</td>\n",
       "      <td>-1.0</td>\n",
       "      <td>-1.0</td>\n",
       "      <td>-1.0</td>\n",
       "      <td>-1.0</td>\n",
       "      <td>8630.0</td>\n",
       "      <td>0.007</td>\n",
       "      <td>8.0</td>\n",
       "    </tr>\n",
       "  </tbody>\n",
       "</table>\n",
       "</div>"
      ],
      "text/plain": [
       "Residue  NTRA0001_  GLUA0007_  HISA0015_  TYRA0020_  GLUA0035_  ASPA0048_  \\\n",
       "Order                                                                       \n",
       "1.0            0.0       -1.0        0.0        0.0       -1.0       -1.0   \n",
       "2.0            0.0       -1.0        1.0        0.0       -1.0       -1.0   \n",
       "3.0            1.0       -1.0        0.0        0.0       -1.0       -1.0   \n",
       "4.0            1.0       -1.0        1.0        0.0       -1.0       -1.0   \n",
       "5.0            0.0       -1.0        0.0        0.0        0.0       -1.0   \n",
       "\n",
       "Residue  ASPA0052_  ASPA0066_  ASPA0101_     Count  Occupancy  Sum_crg_protein  \n",
       "Order                                                                           \n",
       "1.0           -1.0       -1.0       -1.0  633591.0      0.528              7.0  \n",
       "2.0           -1.0       -1.0       -1.0  364064.0      0.303              8.0  \n",
       "3.0           -1.0       -1.0       -1.0  118055.0      0.098              8.0  \n",
       "4.0           -1.0       -1.0       -1.0   58285.0      0.049              9.0  \n",
       "5.0           -1.0       -1.0       -1.0    8630.0      0.007              8.0  "
      ]
     },
     "execution_count": 30,
     "metadata": {},
     "output_type": "execute_result"
    }
   ],
   "source": [
    "# Sample data (uncomment to display):\n",
    "\n",
    "print(f\"{all_crg_count_res.shape = }\")\n",
    "all_crg_count_res.head()"
   ]
  },
  {
   "cell_type": "markdown",
   "metadata": {},
   "source": [
    "### This will plot the tautomer charge distribution of unqiue charge microstates based on the occupancy. \n",
    "Each dot are unique charge microstate and color coded based on the energy difference of that microstate appear in Monte Carlo run. Total charge is sum of background and free charge (protein charge)."
   ]
  },
  {
   "cell_type": "markdown",
   "metadata": {},
   "source": [
    "### In `msa.unique_crgms_histogram`, the color variation (hue) indicates the size of the energy range for non-unique crgms. The size of the circle reflects the count."
   ]
  },
  {
   "cell_type": "code",
   "execution_count": 32,
   "metadata": {},
   "outputs": [
    {
     "name": "stderr",
     "output_type": "stream",
     "text": [
      "[INFO]: unique_crgms_histogram:\n",
      "\tFigure saved: 4lzt/crgms_corr_ph7/crgms_logcount_vs_all_E.png\n"
     ]
    },
    {
     "data": {
      "image/png": "[encoded data removed]",
      "text/plain": [
       "<Figure size 600x600 with 3 Axes>"
      ]
     },
     "metadata": {},
     "output_type": "display_data"
    }
   ],
   "source": [
    "title = f\"All Microstates Energy, pH{ph}\"\n",
    "msa.unique_crgms_histogram(crgms_files,\n",
    "                           background_crg,\n",
    "                           title,\n",
    "                           output_dir,\n",
    "                           save_name=\"crgms_logcount_vs_all_E.png\",\n",
    "                           show=True)"
   ]
  },
  {
   "cell_type": "markdown",
   "metadata": {},
   "source": [
    "#### This is to get the unique charge microstates >= lowest energy + 1.36 kcal/mol. \n",
    "Make sure your supply list is sorted based on energy in ascending order. \n",
    "The order in the dataframe is within the selected energy range."
   ]
  },
  {
   "cell_type": "raw",
   "metadata": {
    "jupyter": {
     "source_hidden": true
    }
   },
   "source": [
    "# Change cell type to 'code' to run\n",
    "\n",
    "begin_E = crg_orig_lst[0][0]\n",
    "end_E = crg_orig_lst[0][0] + 1.36\n",
    "print(f\"Using charge microstate energies within 1 pH unit (+ 1.36 kcal/mol) of the lowest E: ({begin_E}, {end_E})\")\n",
    "\n",
    "lowest_crgms_files = msa.find_uniq_crgms_count_order(crg_orig_lst,\n",
    "                                                   begin_energy = begin_E,\n",
    "                                                   end_energy = end_E\n",
    "                                                   )\n",
    "lowest_crg_count_res = msa.concat_crgms_dfs(lowest_crgms_files[0],\n",
    "                                            lowest_crgms_files[1],\n",
    "                                            lowest_crgms_files[2], \n",
    "                                            free_residues_df,\n",
    "                                            background_crg,\n",
    "                                            res_of_interest=residue_kinds)"
   ]
  },
  {
   "cell_type": "code",
   "execution_count": null,
   "metadata": {
    "jupyter": {
     "source_hidden": true
    }
   },
   "outputs": [],
   "source": [
    "# Sample data (uncomment to display):\n",
    "\n",
    "#lowest_crg_count_res.head(3) "
   ]
  },
  {
   "cell_type": "raw",
   "metadata": {
    "jupyter": {
     "source_hidden": true
    }
   },
   "source": [
    "# Change cell type to 'code' to run\n",
    "\n",
    "title = \"Microstates Energy within 1.36 kcal/mol of Lowest, pH\"+ph\n",
    "msa.unique_crgms_histogram(lowest_crgms_files,\n",
    "                           background_crg,\n",
    "                           title,\n",
    "                           output_dir,\n",
    "                           save_name=\"crgms_logcount_vs_lowest_E.png\",\n",
    "                           show=True)"
   ]
  },
  {
   "cell_type": "markdown",
   "metadata": {},
   "source": [
    "#### This is to get the unique charge microstates within +/- 0.5 pH unit (+/- 0.68 kcal/mol) of average microstate energy"
   ]
  },
  {
   "cell_type": "raw",
   "metadata": {
    "jupyter": {
     "source_hidden": true
    }
   },
   "source": [
    "# Change cell type to 'code' to run\n",
    "\n",
    "begin_mc_aver = mc.average_E - 0.68\n",
    "end_mc_aver = mc.average_E + 0.68\n",
    "print(\"Using charge microstates energies within +/- 0.5 pH unit (+/- 0.68 kcal/mol)\",\n",
    "      f\"of the average conformer microstate energy: ({begin_mc_aver}, {end_mc_aver})\")\n",
    "\n",
    "aver_crgms_files = msa.find_uniq_crgms_count_order(crg_orig_lst,\n",
    "                                                   begin_energy = begin_mc_aver,\n",
    "                                                   end_energy = end_mc_aver)\n",
    "av_crg_count_res = msa.concat_crgms_dfs(aver_crgms_files[0],\n",
    "                                        aver_crgms_files[1],\n",
    "                                        aver_crgms_files[2], \n",
    "                                        free_residues_df,\n",
    "                                        background_crg,\n",
    "                                        res_of_interest=residue_kinds\n",
    "                                       )"
   ]
  },
  {
   "cell_type": "code",
   "execution_count": null,
   "metadata": {
    "jupyter": {
     "source_hidden": true
    }
   },
   "outputs": [],
   "source": [
    "# Sample data (uncomment to display):\n",
    "\n",
    "#av_crg_count_res.head(3) "
   ]
  },
  {
   "cell_type": "raw",
   "metadata": {
    "jupyter": {
     "source_hidden": true
    }
   },
   "source": [
    "# Change cell type to 'code' to run\n",
    "\n",
    "title = \"Microstates Energy within 0.5 pH unit (0.68 kcal/mol) of Average, pH\"+ph\n",
    "msa.unique_crgms_histogram(aver_crgms_files,\n",
    "                           background_crg,\n",
    "                           title,\n",
    "                           output_dir,\n",
    "                           save_name=\"crgms_logcount_vs_aver_E.png\",\n",
    "                           show=True)"
   ]
  },
  {
   "cell_type": "markdown",
   "metadata": {},
   "source": [
    "#### This is to get the unique charge microstates >= 1 KT unit (1.36 kcal/mol) of highest microstate energy"
   ]
  },
  {
   "cell_type": "raw",
   "metadata": {
    "jupyter": {
     "source_hidden": true
    }
   },
   "source": [
    "# Change cell type to 'code' to run\n",
    "\n",
    "begin_mc_highest = mc.highest_E - 1.36\n",
    "end_mc_highest = mc.highest_E\n",
    "print(\"Using charge microstates energies within 1 pH unit (- 1.36 kcal/mol)\",\n",
    "      f\"of the highest conformer microstate energy: ({begin_mc_highest}, {end_mc_highest})\")\n",
    "\n",
    "\n",
    "highest_crgms_files = msa.find_uniq_crgms_count_order(crg_orig_lst,\n",
    "                                                      begin_energy = begin_mc_highest,\n",
    "                                                      end_energy = end_mc_highest)\n",
    "\n",
    "high_crg_count_res = msa.concat_crgms_dfs(highest_crgms_files[0],\n",
    "                                          highest_crgms_files[1],\n",
    "                                          highest_crgms_files[2], \n",
    "                                          free_residues_df,\n",
    "                                          background_crg,\n",
    "                                          res_of_interest=residue_kinds)"
   ]
  },
  {
   "cell_type": "code",
   "execution_count": null,
   "metadata": {
    "jupyter": {
     "source_hidden": true
    }
   },
   "outputs": [],
   "source": [
    "# Sample data (uncomment to display):\n",
    "\n",
    "#high_crg_count_res.head(3) "
   ]
  },
  {
   "cell_type": "raw",
   "metadata": {
    "jupyter": {
     "source_hidden": true
    }
   },
   "source": [
    "# Change cell type to 'code' to run\n",
    "\n",
    "title = \"Microstates Energy within 1.36 kcal/mol of highest, pH\"+ph\n",
    "msa.unique_crgms_histogram(highest_crgms_files,\n",
    "                           background_crg,\n",
    "                           title,\n",
    "                           output_dir,\n",
    "                           save_name=\"crgms_logcount_vs_highest_E.png\",\n",
    "                           show=True)"
   ]
  },
  {
   "cell_type": "markdown",
   "metadata": {},
   "source": [
    "### Save all_crg_count_res to a CSV file after adding fixed resoi data:"
   ]
  },
  {
   "cell_type": "code",
   "execution_count": 33,
   "metadata": {},
   "outputs": [
    {
     "name": "stdout",
     "output_type": "stream",
     "text": [
      "DataFrame all_crg_count_res saved to 4lzt/crgms_corr_ph7/all_crg_count_res.csv.\n"
     ]
    }
   ],
   "source": [
    "all_crg_df = msa.add_fixed_res_crg(all_crg_count_res, fixed_resoi_crg_df)\n",
    "\n",
    "crg_count_csv = output_dir.joinpath(\"all_crg_count_res.csv\")\n",
    "try:\n",
    "    all_crg_df.to_csv(crg_count_csv, header=True)\n",
    "    print(f\"DataFrame all_crg_count_res saved to {crg_count_csv!s}.\")\n",
    "except Exception as e:\n",
    "    print(f\"Error occurred while saving all_crg_count_res to csv file: {str(e)}\")"
   ]
  },
  {
   "cell_type": "markdown",
   "metadata": {},
   "source": [
    "---\n",
    "# Processing of main crgms data to get the correlation matrix for residues."
   ]
  },
  {
   "cell_type": "code",
   "execution_count": 39,
   "metadata": {},
   "outputs": [
    {
     "data": {
      "text/plain": [
       "['NTRA0001_', 'GLUA0007_', 'GLUA0035_', 'ASPA0048_', 'ASPA0052_', 'TYRA0053_']"
      ]
     },
     "execution_count": 39,
     "metadata": {},
     "output_type": "execute_result"
    }
   ],
   "source": [
    "correl_resids"
   ]
  },
  {
   "cell_type": "code",
   "execution_count": 34,
   "metadata": {},
   "outputs": [],
   "source": [
    "df_choose_res_data = msa.choose_res_data(all_crg_df, correl_resids)\n",
    "df_choose_res_data[\"Occupancy\"] = round(df_choose_res_data[\"Count\"]/sum(df_choose_res_data[\"Count\"]), 2)\n",
    "\n",
    "file_name = \"crg_count_res_of_interest.csv\"\n",
    "df_choose_res_data.to_csv(output_dir.joinpath(file_name), header=True)"
   ]
  },
  {
   "cell_type": "code",
   "execution_count": 41,
   "metadata": {},
   "outputs": [
    {
     "data": {
      "text/plain": [
       "Count        1200000.0\n",
       "Occupancy          1.0\n",
       "dtype: float64"
      ]
     },
     "execution_count": 41,
     "metadata": {},
     "output_type": "execute_result"
    },
    {
     "data": {
      "text/html": [
       "<div>\n",
       "<style scoped>\n",
       "    .dataframe tbody tr th:only-of-type {\n",
       "        vertical-align: middle;\n",
       "    }\n",
       "\n",
       "    .dataframe tbody tr th {\n",
       "        vertical-align: top;\n",
       "    }\n",
       "\n",
       "    .dataframe thead th {\n",
       "        text-align: right;\n",
       "    }\n",
       "</style>\n",
       "<table border=\"1\" class=\"dataframe\">\n",
       "  <thead>\n",
       "    <tr style=\"text-align: right;\">\n",
       "      <th></th>\n",
       "      <th>NTRA0001_</th>\n",
       "      <th>GLUA0007_</th>\n",
       "      <th>GLUA0035_</th>\n",
       "      <th>ASPA0048_</th>\n",
       "      <th>ASPA0052_</th>\n",
       "      <th>TYRA0053_</th>\n",
       "      <th>Count</th>\n",
       "      <th>Occupancy</th>\n",
       "    </tr>\n",
       "  </thead>\n",
       "  <tbody>\n",
       "    <tr>\n",
       "      <th>0</th>\n",
       "      <td>0.0</td>\n",
       "      <td>-1.0</td>\n",
       "      <td>-1.0</td>\n",
       "      <td>-1.0</td>\n",
       "      <td>-1.0</td>\n",
       "      <td>0</td>\n",
       "      <td>1007336.0</td>\n",
       "      <td>0.84</td>\n",
       "    </tr>\n",
       "    <tr>\n",
       "      <th>1</th>\n",
       "      <td>1.0</td>\n",
       "      <td>-1.0</td>\n",
       "      <td>-1.0</td>\n",
       "      <td>-1.0</td>\n",
       "      <td>-1.0</td>\n",
       "      <td>0</td>\n",
       "      <td>178116.0</td>\n",
       "      <td>0.15</td>\n",
       "    </tr>\n",
       "    <tr>\n",
       "      <th>2</th>\n",
       "      <td>0.0</td>\n",
       "      <td>-1.0</td>\n",
       "      <td>0.0</td>\n",
       "      <td>-1.0</td>\n",
       "      <td>-1.0</td>\n",
       "      <td>0</td>\n",
       "      <td>12571.0</td>\n",
       "      <td>0.01</td>\n",
       "    </tr>\n",
       "    <tr>\n",
       "      <th>3</th>\n",
       "      <td>1.0</td>\n",
       "      <td>-1.0</td>\n",
       "      <td>0.0</td>\n",
       "      <td>-1.0</td>\n",
       "      <td>-1.0</td>\n",
       "      <td>0</td>\n",
       "      <td>1868.0</td>\n",
       "      <td>0.00</td>\n",
       "    </tr>\n",
       "    <tr>\n",
       "      <th>4</th>\n",
       "      <td>0.0</td>\n",
       "      <td>0.0</td>\n",
       "      <td>-1.0</td>\n",
       "      <td>-1.0</td>\n",
       "      <td>-1.0</td>\n",
       "      <td>0</td>\n",
       "      <td>109.0</td>\n",
       "      <td>0.00</td>\n",
       "    </tr>\n",
       "  </tbody>\n",
       "</table>\n",
       "</div>"
      ],
      "text/plain": [
       "   NTRA0001_  GLUA0007_  GLUA0035_  ASPA0048_  ASPA0052_  TYRA0053_  \\\n",
       "0        0.0       -1.0       -1.0       -1.0       -1.0          0   \n",
       "1        1.0       -1.0       -1.0       -1.0       -1.0          0   \n",
       "2        0.0       -1.0        0.0       -1.0       -1.0          0   \n",
       "3        1.0       -1.0        0.0       -1.0       -1.0          0   \n",
       "4        0.0        0.0       -1.0       -1.0       -1.0          0   \n",
       "\n",
       "       Count  Occupancy  \n",
       "0  1007336.0       0.84  \n",
       "1   178116.0       0.15  \n",
       "2    12571.0       0.01  \n",
       "3     1868.0       0.00  \n",
       "4      109.0       0.00  "
      ]
     },
     "execution_count": 41,
     "metadata": {},
     "output_type": "execute_result"
    }
   ],
   "source": [
    "# Uncomment to display:\n",
    "\n",
    "df_choose_res_data[[\"Count\", \"Occupancy\"]].sum()\n",
    "df_choose_res_data"
   ]
  },
  {
   "cell_type": "markdown",
   "metadata": {},
   "source": [
    "### Prepare `df_choose_res_data` for msa.WeightedCorr:\n",
    " * Filter out fixed res from choose_res list\n",
    " * Rename to 1-letter res code + chain + number"
   ]
  },
  {
   "cell_type": "code",
   "execution_count": 42,
   "metadata": {},
   "outputs": [],
   "source": [
    "# Filter out fixed res:\n",
    "chosen_free = msa.filter_fixed_from_choose_res(fixed_resoi_crg_df, choose_res)\n",
    "# Relabel residues with shorter names:\n",
    "df_chosen_res_renamed = msa.rename_order_residues(df_choose_res_data, chosen_free)"
   ]
  },
  {
   "cell_type": "code",
   "execution_count": 43,
   "metadata": {},
   "outputs": [
    {
     "name": "stdout",
     "output_type": "stream",
     "text": [
      "['NTRA0001_', 'LYSA0001_', 'ARGA0005_', 'GLUA0007_', 'LYSA0013_', 'ARGA0014_', 'LYSA0033_', 'GLUA0035_', 'ARGA0045_', 'ASPA0048_', 'ASPA0052_']\n"
     ]
    }
   ],
   "source": [
    "# Uncomment to display:\n",
    "\n",
    "print(chosen_free)"
   ]
  },
  {
   "cell_type": "code",
   "execution_count": 44,
   "metadata": {},
   "outputs": [],
   "source": [
    "# Relabel residues with shorter names:\n",
    "df_chosen_res_renamed = msa.rename_order_residues(df_choose_res_data, chosen_free)"
   ]
  },
  {
   "cell_type": "code",
   "execution_count": 45,
   "metadata": {},
   "outputs": [
    {
     "data": {
      "text/html": [
       "<div>\n",
       "<style scoped>\n",
       "    .dataframe tbody tr th:only-of-type {\n",
       "        vertical-align: middle;\n",
       "    }\n",
       "\n",
       "    .dataframe tbody tr th {\n",
       "        vertical-align: top;\n",
       "    }\n",
       "\n",
       "    .dataframe thead th {\n",
       "        text-align: right;\n",
       "    }\n",
       "</style>\n",
       "<table border=\"1\" class=\"dataframe\">\n",
       "  <thead>\n",
       "    <tr style=\"text-align: right;\">\n",
       "      <th></th>\n",
       "      <th>AE7</th>\n",
       "      <th>AE35</th>\n",
       "      <th>AD48</th>\n",
       "      <th>AD52</th>\n",
       "      <th>ANTR1</th>\n",
       "      <th>Count</th>\n",
       "    </tr>\n",
       "  </thead>\n",
       "  <tbody>\n",
       "    <tr>\n",
       "      <th>0</th>\n",
       "      <td>-1.0</td>\n",
       "      <td>-1.0</td>\n",
       "      <td>-1.0</td>\n",
       "      <td>-1.0</td>\n",
       "      <td>0.0</td>\n",
       "      <td>1007336.0</td>\n",
       "    </tr>\n",
       "    <tr>\n",
       "      <th>1</th>\n",
       "      <td>-1.0</td>\n",
       "      <td>-1.0</td>\n",
       "      <td>-1.0</td>\n",
       "      <td>-1.0</td>\n",
       "      <td>1.0</td>\n",
       "      <td>178116.0</td>\n",
       "    </tr>\n",
       "    <tr>\n",
       "      <th>2</th>\n",
       "      <td>-1.0</td>\n",
       "      <td>0.0</td>\n",
       "      <td>-1.0</td>\n",
       "      <td>-1.0</td>\n",
       "      <td>0.0</td>\n",
       "      <td>12571.0</td>\n",
       "    </tr>\n",
       "    <tr>\n",
       "      <th>3</th>\n",
       "      <td>-1.0</td>\n",
       "      <td>0.0</td>\n",
       "      <td>-1.0</td>\n",
       "      <td>-1.0</td>\n",
       "      <td>1.0</td>\n",
       "      <td>1868.0</td>\n",
       "    </tr>\n",
       "    <tr>\n",
       "      <th>4</th>\n",
       "      <td>0.0</td>\n",
       "      <td>-1.0</td>\n",
       "      <td>-1.0</td>\n",
       "      <td>-1.0</td>\n",
       "      <td>0.0</td>\n",
       "      <td>109.0</td>\n",
       "    </tr>\n",
       "  </tbody>\n",
       "</table>\n",
       "</div>"
      ],
      "text/plain": [
       "   AE7  AE35  AD48  AD52  ANTR1      Count\n",
       "0 -1.0  -1.0  -1.0  -1.0    0.0  1007336.0\n",
       "1 -1.0  -1.0  -1.0  -1.0    1.0   178116.0\n",
       "2 -1.0   0.0  -1.0  -1.0    0.0    12571.0\n",
       "3 -1.0   0.0  -1.0  -1.0    1.0     1868.0\n",
       "4  0.0  -1.0  -1.0  -1.0    0.0      109.0"
      ]
     },
     "execution_count": 45,
     "metadata": {},
     "output_type": "execute_result"
    }
   ],
   "source": [
    "# Uncomment to display:\n",
    "\n",
    "df_chosen_res_renamed"
   ]
  },
  {
   "cell_type": "markdown",
   "metadata": {},
   "source": [
    "---\n",
    "# Weighted correlation\n",
    "### Define a cutoff if one different from 0.02 (default) is needed."
   ]
  },
  {
   "cell_type": "code",
   "execution_count": 46,
   "metadata": {},
   "outputs": [],
   "source": [
    "cutoff = 0.02\n",
    "\n",
    "df_correlation = msa.WeightedCorr(df=df_chosen_res_renamed,\n",
    "                                  wcol=\"Count\",\n",
    "                                  cutoff=cutoff)(method=\"pearson\")"
   ]
  },
  {
   "cell_type": "code",
   "execution_count": 47,
   "metadata": {},
   "outputs": [
    {
     "data": {
      "text/html": [
       "<div>\n",
       "<style scoped>\n",
       "    .dataframe tbody tr th:only-of-type {\n",
       "        vertical-align: middle;\n",
       "    }\n",
       "\n",
       "    .dataframe tbody tr th {\n",
       "        vertical-align: top;\n",
       "    }\n",
       "\n",
       "    .dataframe thead th {\n",
       "        text-align: right;\n",
       "    }\n",
       "</style>\n",
       "<table border=\"1\" class=\"dataframe\">\n",
       "  <thead>\n",
       "    <tr style=\"text-align: right;\">\n",
       "      <th></th>\n",
       "      <th>AE7</th>\n",
       "      <th>AE35</th>\n",
       "      <th>ANTR1</th>\n",
       "    </tr>\n",
       "  </thead>\n",
       "  <tbody>\n",
       "    <tr>\n",
       "      <th>AE7</th>\n",
       "      <td>1.0</td>\n",
       "      <td>0.0</td>\n",
       "      <td>0.0</td>\n",
       "    </tr>\n",
       "    <tr>\n",
       "      <th>AE35</th>\n",
       "      <td>0.0</td>\n",
       "      <td>1.0</td>\n",
       "      <td>0.0</td>\n",
       "    </tr>\n",
       "    <tr>\n",
       "      <th>ANTR1</th>\n",
       "      <td>0.0</td>\n",
       "      <td>0.0</td>\n",
       "      <td>1.0</td>\n",
       "    </tr>\n",
       "  </tbody>\n",
       "</table>\n",
       "</div>"
      ],
      "text/plain": [
       "       AE7  AE35  ANTR1\n",
       "AE7    1.0   0.0    0.0\n",
       "AE35   0.0   1.0    0.0\n",
       "ANTR1  0.0   0.0    1.0"
      ]
     },
     "execution_count": 47,
     "metadata": {},
     "output_type": "execute_result"
    }
   ],
   "source": [
    "# Uncomment to display:\n",
    "\n",
    "df_correlation"
   ]
  },
  {
   "cell_type": "markdown",
   "metadata": {},
   "source": [
    "## Create a clustered heatmap to display the residue correlation:"
   ]
  },
  {
   "cell_type": "code",
   "execution_count": 48,
   "metadata": {},
   "outputs": [
    {
     "name": "stderr",
     "output_type": "stream",
     "text": [
      "[WARNING]: corr_heatmap:\n",
      "\tAll off-diagonal correlation values are 0.00: not plotting.\n"
     ]
    }
   ],
   "source": [
    "clustered_corr = msa.cluster_corr_matrix(df_correlation)\n",
    "\n",
    "msa.corr_heatmap(clustered_corr,\n",
    "                 out_dir=output_dir,\n",
    "                 save_name=\"corr_ph7.png\",\n",
    "                 show=True)"
   ]
  },
  {
   "cell_type": "code",
   "execution_count": null,
   "metadata": {},
   "outputs": [],
   "source": []
  }
 ],
 "metadata": {
  "kernelspec": {
   "display_name": "Python (p310)",
   "language": "python",
   "name": "p310"
  },
  "language_info": {
   "codemirror_mode": {
    "name": "ipython",
    "version": 3
   },
   "file_extension": ".py",
   "mimetype": "text/x-python",
   "name": "python",
   "nbconvert_exporter": "python",
   "pygments_lexer": "ipython3",
   "version": "3.10.15"
  }
 },
 "nbformat": 4,
 "nbformat_minor": 4
}

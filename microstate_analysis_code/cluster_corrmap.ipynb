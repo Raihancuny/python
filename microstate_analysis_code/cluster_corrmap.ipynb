{
 "cells": [
  {
   "cell_type": "code",
   "execution_count": null,
   "metadata": {},
   "outputs": [],
   "source": [
    "# Notebook behavior:\n",
    "\n",
    "# Enable multiple outputs from one cell:\n",
    "from IPython.core.interactiveshell import InteractiveShell\n",
    "InteractiveShell.ast_node_interactivity = \"all\"\n",
    "from IPython.display import Markdown, Image\n",
    "\n",
    "# autoreload extension: automaticall refresh imports when code is changed:\n",
    "%load_ext autoreload\n",
    "%autoreload 2"
   ]
  },
  {
   "cell_type": "code",
   "execution_count": null,
   "metadata": {},
   "outputs": [],
   "source": [
    "from pathlib import Path\n",
    "from collections import defaultdict\n",
    "from typing import Tuple, Union\n",
    "\n",
    "import matplotlib as mpl\n",
    "from matplotlib.colors import ListedColormap, BoundaryNorm\n",
    "import matplotlib.pyplot as plt\n",
    "import numpy as np\n",
    "import pandas as pd\n",
    "from scipy.cluster.hierarchy import linkage, fcluster\n",
    "from scipy.spatial.distance import pdist\n",
    "import seaborn as sns\n",
    "\n",
    "# Module needed to read the microstate file:\n",
    "import cms_analysis_wc as msa"
   ]
  },
  {
   "cell_type": "markdown",
   "metadata": {},
   "source": [
    "# Purpose of this notebook: Show heatmaps of clustered correlation matrix with different number of clusters\n",
    "---\n",
    "---"
   ]
  },
  {
   "cell_type": "markdown",
   "metadata": {},
   "source": [
    "---\n",
    "## `generate_df`: Function to test clustered heatmap with larger df (synthetic data)\n",
    "__Seed for reproducibility: seed = None => dynamic__"
   ]
  },
  {
   "cell_type": "code",
   "execution_count": null,
   "metadata": {},
   "outputs": [],
   "source": [
    "def generate_df(seed = 42, n_cols = 18,  n_rows = 20) -> pd.DataFrame:\n",
    "    \"\"\"Generate a df using synthetic data.\n",
    "    Note: seed is for reproducibility; set to None to obtain different data on every call.\n",
    "    \"\"\"\n",
    "    # Generate synthetic data:\n",
    "\n",
    "    rng = np.random.default_rng(seed=seed)\n",
    "\n",
    "    # Define your lists of header components\n",
    "    chain = \"A\"\n",
    "    rescodes1 = list(msa.res3_to_res1.values()) + [\"HEM\", \"PAA\"]\n",
    "    rand_ints = rng.integers(low=1, high=350, size=n_cols)\n",
    "\n",
    "    # Generate column headers\n",
    "    headers = defaultdict(int)\n",
    "    for _ in range(n_cols):\n",
    "        #chn = np.random.choice(chains)\n",
    "        res = np.random.choice(rescodes1, replace=False)\n",
    "        seq = np.random.choice(rand_ints, replace=False)\n",
    "        headers[f\"{chain}{res}{seq}\"] = 1  # dummy, unused value\n",
    "    \n",
    "    data = {x: rng.random(n_rows) for x in headers}\n",
    "    # Create a sample DataFrame with the generated headers\n",
    "    df = pd.DataFrame(data, columns=list(headers.keys()))\n",
    "\n",
    "    # Return the correlation matrix\n",
    "    return df\n",
    "\n",
    "\n",
    "def show_two_maps(titles: list=[\"Unsorted\", \"Sorted\"], fnames: list = [\"corr_unsorted.png\", \"corr_sorted.png\"]):\n",
    "    t1, t2 = titles\n",
    "    mkd = f\"| {t1} | {t2} |\\n | --- | --- |\\n\"\n",
    "    mkd += f'| <img src=\"{fnames[0]}\" alt=\"{t1}\" width=\"600\"/> | <img src=\"{fnames[1]}\" alt=\"{t2}\" width=\"600\"/>|\\n'\n",
    "\n",
    "    return Markdown(mkd)\n",
    "\n",
    "\n",
    "def cluster_corr_matrix(df: pd.DataFrame, n_clusters:int=5):\n",
    "    \"\"\" For testing outcome of clustering.\n",
    "    Args:\n",
    "      - df (pd.DataFrame): input dataframe;\n",
    "      - n_clusters (int, 5): Number of candidate clusters, minimum 3;\n",
    "    \"\"\"\n",
    "    fname = \"clust_corr_\"\n",
    "    corr_matrix = df.corr()\n",
    "    \n",
    "    # Convert correlation matrix to distance matrix\n",
    "    dist_matrix = pdist(1 - np.abs(corr_matrix))\n",
    "\n",
    "    # Perform hierarchical clustering\n",
    "    linkage_matrix = linkage(dist_matrix, method=\"complete\")  #\"ward\")\n",
    "\n",
    "    if n_clusters < 3:\n",
    "        n_clusters = 3\n",
    "\n",
    "    clusters = fcluster(linkage_matrix, n_clusters, criterion=\"maxclust\")\n",
    "    fname += f\"C{n_clusters}\" + \".png\"\n",
    " \n",
    "    # Get the order of columns based on clustering\n",
    "    ordered_cols = [corr_matrix.columns[i] for i in np.argsort(clusters)]\n",
    "    # Rearrange the correlation matrix\n",
    "    clustered_corr = corr_matrix.loc[ordered_cols, ordered_cols]\n",
    "\n",
    "    # Plot the clustered correlation matrix as a heatmap (used for saving the figure\n",
    "    msa.corr_heatmap(clustered_corr,\n",
    "                     save_name=fname,\n",
    "                     #show=True, \n",
    "                     #fig_size=(25,10),\n",
    "                    )\n",
    "    return"
   ]
  },
  {
   "cell_type": "markdown",
   "metadata": {},
   "source": [
    "---\n",
    "---\n",
    "# Create synthetic data"
   ]
  },
  {
   "cell_type": "code",
   "execution_count": null,
   "metadata": {},
   "outputs": [],
   "source": [
    "cols = 16\n",
    "df = generate_df(n_cols=cols, seed=12)\n",
    "# variable df:\n",
    "df0 = generate_df(n_cols=cols, seed=None)"
   ]
  },
  {
   "cell_type": "markdown",
   "metadata": {},
   "source": [
    "## 1. Create original heatmap "
   ]
  },
  {
   "cell_type": "code",
   "execution_count": null,
   "metadata": {},
   "outputs": [],
   "source": [
    "corr_matrix = df.corr()\n",
    "print(\"Original Correlation Matrix:\".upper())\n",
    "msa.corr_heatmap(corr_matrix, save_name=\"corr.png\")\n",
    "\n",
    "# lower triangula mat\n",
    "#msa.corr_heatmap(corr_matrix, show=True, lower_tri=True)"
   ]
  },
  {
   "cell_type": "markdown",
   "metadata": {},
   "source": [
    "## 2. CLUSTERING (with different parameters)\n",
    "\n",
    "__cluster_corr_matrix?__  \n",
    "\n",
    "```\n",
    "Signature: cluster_corr_matrix(df: pandas.core.frame.DataFrame, n_clusters: int = 5)\n",
    "Docstring:\n",
    "For testing outcome of clustering.\n",
    "Args:\n",
    "  - df (pd.DataFrame): input dataframe;\n",
    "  - n_clusters (int, 5): Number of candidate clusters, minimum 3;\n",
    "```"
   ]
  },
  {
   "cell_type": "code",
   "execution_count": null,
   "metadata": {},
   "outputs": [],
   "source": [
    "# Create clustermap with defaults:\n",
    "cluster_corr_matrix(df)\n",
    "\n",
    "show_two_maps(titles=[\"Unclustered\", \"Clustered C5\"], fnames=[\"corr.png\", \"clust_corr_C5.png\"])"
   ]
  },
  {
   "cell_type": "markdown",
   "metadata": {},
   "source": [
    "### Different number of clusters"
   ]
  },
  {
   "cell_type": "code",
   "execution_count": null,
   "metadata": {},
   "outputs": [],
   "source": [
    "# reference map, C=5\n",
    "for C in [3, 6, 9]:\n",
    "    cluster_corr_matrix(df, n_clusters=C)"
   ]
  },
  {
   "cell_type": "code",
   "execution_count": null,
   "metadata": {},
   "outputs": [],
   "source": [
    "show_two_maps(titles=[\"Clustered C5\", \"Clustered C3\"],\n",
    "              fnames=[\"clust_corr_C5.png\", \"clust_corr_C3.png\"])"
   ]
  },
  {
   "cell_type": "code",
   "execution_count": null,
   "metadata": {},
   "outputs": [],
   "source": [
    "show_two_maps(titles=[\"Clustered C5\", \"Clustered C6\"],\n",
    "              fnames=[\"clust_corr_C5.png\", \"clust_corr_C6.png\"])"
   ]
  },
  {
   "cell_type": "code",
   "execution_count": null,
   "metadata": {},
   "outputs": [],
   "source": [
    "show_two_maps(titles=[\"Clustered C5\", \"Clustered C9\"],\n",
    "              fnames=[\"clust_corr_C5.png\", \"clust_corr_C9.png\"])"
   ]
  }
 ],
 "metadata": {
  "kernelspec": {
   "display_name": "Python (p310)",
   "language": "python",
   "name": "p310"
  },
  "language_info": {
   "codemirror_mode": {
    "name": "ipython",
    "version": 3
   },
   "file_extension": ".py",
   "mimetype": "text/x-python",
   "name": "python",
   "nbconvert_exporter": "python",
   "pygments_lexer": "ipython3",
   "version": "3.10.15"
  }
 },
 "nbformat": 4,
 "nbformat_minor": 4
}
